{
 "cells": [
  {
   "cell_type": "markdown",
   "metadata": {},
   "source": [
    "# Data Analysis\n",
    "\n",
    "In this notebook we will analyze the data we have available."
   ]
  },
  {
   "cell_type": "code",
   "execution_count": 1,
   "metadata": {},
   "outputs": [],
   "source": [
    "# Imports\n",
    "import pandas as pd\n",
    "import os"
   ]
  },
  {
   "cell_type": "code",
   "execution_count": 2,
   "metadata": {},
   "outputs": [],
   "source": [
    "# Go one folder back\n",
    "os.chdir('..')"
   ]
  },
  {
   "cell_type": "code",
   "execution_count": 3,
   "metadata": {},
   "outputs": [
    {
     "data": {
      "text/html": [
       "<div>\n",
       "<style scoped>\n",
       "    .dataframe tbody tr th:only-of-type {\n",
       "        vertical-align: middle;\n",
       "    }\n",
       "\n",
       "    .dataframe tbody tr th {\n",
       "        vertical-align: top;\n",
       "    }\n",
       "\n",
       "    .dataframe thead th {\n",
       "        text-align: right;\n",
       "    }\n",
       "</style>\n",
       "<table border=\"1\" class=\"dataframe\">\n",
       "  <thead>\n",
       "    <tr style=\"text-align: right;\">\n",
       "      <th></th>\n",
       "      <th>hotel_id</th>\n",
       "      <th>lp_id</th>\n",
       "      <th>room_id</th>\n",
       "      <th>room_name</th>\n",
       "    </tr>\n",
       "  </thead>\n",
       "  <tbody>\n",
       "    <tr>\n",
       "      <th>0</th>\n",
       "      <td>13484077</td>\n",
       "      <td>lp23e8ef</td>\n",
       "      <td>1142730702</td>\n",
       "      <td>Double or Twin Room</td>\n",
       "    </tr>\n",
       "    <tr>\n",
       "      <th>1</th>\n",
       "      <td>13487663</td>\n",
       "      <td>lp6554de34</td>\n",
       "      <td>1141927122</td>\n",
       "      <td>House</td>\n",
       "    </tr>\n",
       "    <tr>\n",
       "      <th>2</th>\n",
       "      <td>13462809</td>\n",
       "      <td>lp6556c3dc</td>\n",
       "      <td>1142722063</td>\n",
       "      <td>Room</td>\n",
       "    </tr>\n",
       "    <tr>\n",
       "      <th>3</th>\n",
       "      <td>13530116</td>\n",
       "      <td>lp6555450b</td>\n",
       "      <td>1141968275</td>\n",
       "      <td>Triple Room</td>\n",
       "    </tr>\n",
       "    <tr>\n",
       "      <th>4</th>\n",
       "      <td>13530071</td>\n",
       "      <td>lp6557a92c</td>\n",
       "      <td>1142513784</td>\n",
       "      <td>Apartment</td>\n",
       "    </tr>\n",
       "    <tr>\n",
       "      <th>...</th>\n",
       "      <td>...</td>\n",
       "      <td>...</td>\n",
       "      <td>...</td>\n",
       "      <td>...</td>\n",
       "    </tr>\n",
       "    <tr>\n",
       "      <th>99995</th>\n",
       "      <td>21684</td>\n",
       "      <td>lp6561b025</td>\n",
       "      <td>2168409</td>\n",
       "      <td>Two-Bedroom Suite</td>\n",
       "    </tr>\n",
       "    <tr>\n",
       "      <th>99996</th>\n",
       "      <td>21684</td>\n",
       "      <td>lp6561b025</td>\n",
       "      <td>2168411</td>\n",
       "      <td>Deluxe Triple Room</td>\n",
       "    </tr>\n",
       "    <tr>\n",
       "      <th>99997</th>\n",
       "      <td>21684</td>\n",
       "      <td>lp6561b025</td>\n",
       "      <td>2168412</td>\n",
       "      <td>Deluxe Queen Room with Two Queen Beds</td>\n",
       "    </tr>\n",
       "    <tr>\n",
       "      <th>99998</th>\n",
       "      <td>21684</td>\n",
       "      <td>lp6561b025</td>\n",
       "      <td>2168413</td>\n",
       "      <td>Classic Quadruple Room</td>\n",
       "    </tr>\n",
       "    <tr>\n",
       "      <th>99999</th>\n",
       "      <td>21684</td>\n",
       "      <td>lp6561b025</td>\n",
       "      <td>2168414</td>\n",
       "      <td>Standard King Room</td>\n",
       "    </tr>\n",
       "  </tbody>\n",
       "</table>\n",
       "<p>100000 rows × 4 columns</p>\n",
       "</div>"
      ],
      "text/plain": [
       "       hotel_id       lp_id     room_id                              room_name\n",
       "0      13484077    lp23e8ef  1142730702                    Double or Twin Room\n",
       "1      13487663  lp6554de34  1141927122                                  House\n",
       "2      13462809  lp6556c3dc  1142722063                                   Room\n",
       "3      13530116  lp6555450b  1141968275                            Triple Room\n",
       "4      13530071  lp6557a92c  1142513784                              Apartment\n",
       "...         ...         ...         ...                                    ...\n",
       "99995     21684  lp6561b025     2168409                      Two-Bedroom Suite\n",
       "99996     21684  lp6561b025     2168411                     Deluxe Triple Room\n",
       "99997     21684  lp6561b025     2168412  Deluxe Queen Room with Two Queen Beds\n",
       "99998     21684  lp6561b025     2168413                 Classic Quadruple Room\n",
       "99999     21684  lp6561b025     2168414                     Standard King Room\n",
       "\n",
       "[100000 rows x 4 columns]"
      ]
     },
     "execution_count": 3,
     "metadata": {},
     "output_type": "execute_result"
    }
   ],
   "source": [
    "file_url_1 = \"Data/referance_rooms-1737378184366.csv\"\n",
    "\n",
    "df_1 = pd.read_csv(file_url_1)\n",
    "df_1"
   ]
  },
  {
   "cell_type": "markdown",
   "metadata": {},
   "source": [
    "### First dataset"
   ]
  },
  {
   "cell_type": "code",
   "execution_count": 4,
   "metadata": {},
   "outputs": [
    {
     "name": "stdout",
     "output_type": "stream",
     "text": [
      "<class 'pandas.core.frame.DataFrame'>\n",
      "RangeIndex: 100000 entries, 0 to 99999\n",
      "Data columns (total 4 columns):\n",
      " #   Column     Non-Null Count   Dtype \n",
      "---  ------     --------------   ----- \n",
      " 0   hotel_id   100000 non-null  int64 \n",
      " 1   lp_id      100000 non-null  object\n",
      " 2   room_id    100000 non-null  int64 \n",
      " 3   room_name  100000 non-null  object\n",
      "dtypes: int64(2), object(2)\n",
      "memory usage: 3.1+ MB\n"
     ]
    }
   ],
   "source": [
    "df_1.info()"
   ]
  },
  {
   "cell_type": "code",
   "execution_count": 5,
   "metadata": {},
   "outputs": [
    {
     "data": {
      "text/plain": [
       "hotel_id\n",
       "13495031    99\n",
       "3657540     71\n",
       "236935      64\n",
       "13898489    56\n",
       "507265      53\n",
       "            ..\n",
       "13631599     1\n",
       "13631966     1\n",
       "7855856      1\n",
       "13633991     1\n",
       "13667015     1\n",
       "Name: count, Length: 40011, dtype: int64"
      ]
     },
     "execution_count": 5,
     "metadata": {},
     "output_type": "execute_result"
    }
   ],
   "source": [
    "df_1['hotel_id'].value_counts()"
   ]
  },
  {
   "cell_type": "code",
   "execution_count": 6,
   "metadata": {},
   "outputs": [
    {
     "data": {
      "text/plain": [
       "lp_id\n",
       "lp65556118    99\n",
       "lp6559653a    71\n",
       "lp65682034    64\n",
       "lp42f57       56\n",
       "lp6568ac07    53\n",
       "              ..\n",
       "lp1868c7       1\n",
       "lpf5ec5        1\n",
       "lp9bfad        1\n",
       "lpc8873        1\n",
       "lp1da7e4       1\n",
       "Name: count, Length: 40011, dtype: int64"
      ]
     },
     "execution_count": 6,
     "metadata": {},
     "output_type": "execute_result"
    }
   ],
   "source": [
    "df_1['lp_id'].value_counts()"
   ]
  },
  {
   "cell_type": "code",
   "execution_count": 7,
   "metadata": {},
   "outputs": [
    {
     "data": {
      "text/plain": [
       "room_id\n",
       "85638016      1\n",
       "85638017      1\n",
       "85638018      1\n",
       "85638019      1\n",
       "85638020      1\n",
       "             ..\n",
       "1141968275    1\n",
       "1142513784    1\n",
       "1141970143    1\n",
       "1141970185    1\n",
       "1141970194    1\n",
       "Name: count, Length: 100000, dtype: int64"
      ]
     },
     "execution_count": 7,
     "metadata": {},
     "output_type": "execute_result"
    }
   ],
   "source": [
    "df_1['room_id'].value_counts()"
   ]
  },
  {
   "cell_type": "code",
   "execution_count": 8,
   "metadata": {},
   "outputs": [
    {
     "data": {
      "text/plain": [
       "room_name\n",
       "One-Bedroom Apartment                                                 3635\n",
       "Apartment                                                             2875\n",
       "Two-Bedroom Apartment                                                 2625\n",
       "Double Room                                                           2386\n",
       "Holiday Home                                                          1647\n",
       "                                                                      ... \n",
       "Apartment (Quadruplo)                                                    1\n",
       "Standard Double Room, 1 Double Bed, Private Bathroom, Mountainside       1\n",
       "Economy Double Room, Terrace, Tower                                      1\n",
       "Basic Room, Women only                                                   1\n",
       "Condo, 3 Bedrooms, Patio (Poplar Point Condo Unit 12F)                   1\n",
       "Name: count, Length: 27936, dtype: int64"
      ]
     },
     "execution_count": 8,
     "metadata": {},
     "output_type": "execute_result"
    }
   ],
   "source": [
    "df_1['room_name'].value_counts()"
   ]
  },
  {
   "cell_type": "markdown",
   "metadata": {},
   "source": [
    "This DataFrame contains 100000 rows and 4 columns, representing hotel room inventory data:\n",
    "\n",
    "- hotel_id: A unique numerical identifier for each hotel.\n",
    "- lp_id: A unique alphanumeric identifier for a specific listing page associated with a hotel.\n",
    "- room_id: A unique alphanumeric identifier for each room.\n",
    "- room_name: A textual description of the room type. There are 27936 unique room names, with many names repeating across different hotels and listing pages. This indicates a variety of room types and their availability across the dataset."
   ]
  },
  {
   "cell_type": "code",
   "execution_count": 9,
   "metadata": {},
   "outputs": [
    {
     "data": {
      "text/plain": [
       "hotel_id     0\n",
       "lp_id        0\n",
       "room_id      0\n",
       "room_name    0\n",
       "dtype: int64"
      ]
     },
     "execution_count": 9,
     "metadata": {},
     "output_type": "execute_result"
    }
   ],
   "source": [
    "df_1.isnull().sum()"
   ]
  },
  {
   "cell_type": "markdown",
   "metadata": {},
   "source": [
    "There aren't null values in our dataset."
   ]
  },
  {
   "cell_type": "markdown",
   "metadata": {},
   "source": [
    "# Second dataset"
   ]
  },
  {
   "cell_type": "code",
   "execution_count": 10,
   "metadata": {},
   "outputs": [
    {
     "data": {
      "text/html": [
       "<div>\n",
       "<style scoped>\n",
       "    .dataframe tbody tr th:only-of-type {\n",
       "        vertical-align: middle;\n",
       "    }\n",
       "\n",
       "    .dataframe tbody tr th {\n",
       "        vertical-align: top;\n",
       "    }\n",
       "\n",
       "    .dataframe thead th {\n",
       "        text-align: right;\n",
       "    }\n",
       "</style>\n",
       "<table border=\"1\" class=\"dataframe\">\n",
       "  <thead>\n",
       "    <tr style=\"text-align: right;\">\n",
       "      <th></th>\n",
       "      <th>core_room_id</th>\n",
       "      <th>core_hotel_id</th>\n",
       "      <th>lp_id</th>\n",
       "      <th>supplier_room_id</th>\n",
       "      <th>supplier_name</th>\n",
       "      <th>supplier_room_name</th>\n",
       "    </tr>\n",
       "  </thead>\n",
       "  <tbody>\n",
       "    <tr>\n",
       "      <th>0</th>\n",
       "      <td>1</td>\n",
       "      <td>506732</td>\n",
       "      <td>lp7bb6c</td>\n",
       "      <td>200979491</td>\n",
       "      <td>Expedia</td>\n",
       "      <td>Superior Double Room</td>\n",
       "    </tr>\n",
       "    <tr>\n",
       "      <th>1</th>\n",
       "      <td>2</td>\n",
       "      <td>509236</td>\n",
       "      <td>lp7c534</td>\n",
       "      <td>200998017</td>\n",
       "      <td>Expedia</td>\n",
       "      <td>Deluxe Room, Balcony</td>\n",
       "    </tr>\n",
       "    <tr>\n",
       "      <th>2</th>\n",
       "      <td>3</td>\n",
       "      <td>516326</td>\n",
       "      <td>lp7e0e6</td>\n",
       "      <td>201144757</td>\n",
       "      <td>Expedia</td>\n",
       "      <td>Female Dormitory- 3 Beds</td>\n",
       "    </tr>\n",
       "    <tr>\n",
       "      <th>3</th>\n",
       "      <td>4</td>\n",
       "      <td>495330</td>\n",
       "      <td>lp78ee2</td>\n",
       "      <td>201028863</td>\n",
       "      <td>Expedia</td>\n",
       "      <td>Standard Apartment, 2 Bedrooms (6 people)</td>\n",
       "    </tr>\n",
       "    <tr>\n",
       "      <th>4</th>\n",
       "      <td>5</td>\n",
       "      <td>970167</td>\n",
       "      <td>lpecdb7</td>\n",
       "      <td>218116045</td>\n",
       "      <td>Expedia</td>\n",
       "      <td>Traditional Cottage, 2 Bedrooms, Harbor View</td>\n",
       "    </tr>\n",
       "    <tr>\n",
       "      <th>...</th>\n",
       "      <td>...</td>\n",
       "      <td>...</td>\n",
       "      <td>...</td>\n",
       "      <td>...</td>\n",
       "      <td>...</td>\n",
       "      <td>...</td>\n",
       "    </tr>\n",
       "    <tr>\n",
       "      <th>2869051</th>\n",
       "      <td>2912439</td>\n",
       "      <td>193359</td>\n",
       "      <td>lp2f34f</td>\n",
       "      <td>323872346</td>\n",
       "      <td>Expedia</td>\n",
       "      <td>Deluxe Room, 1 King Bed with Sofa bed</td>\n",
       "    </tr>\n",
       "    <tr>\n",
       "      <th>2869052</th>\n",
       "      <td>2912440</td>\n",
       "      <td>143473</td>\n",
       "      <td>lp23071</td>\n",
       "      <td>230770971</td>\n",
       "      <td>Expedia</td>\n",
       "      <td>Ocean Bay Pool Room</td>\n",
       "    </tr>\n",
       "    <tr>\n",
       "      <th>2869053</th>\n",
       "      <td>2912441</td>\n",
       "      <td>1701692958</td>\n",
       "      <td>lp656dc61e</td>\n",
       "      <td>322166812</td>\n",
       "      <td>Expedia</td>\n",
       "      <td>8 Berth Luxury Caravan</td>\n",
       "    </tr>\n",
       "    <tr>\n",
       "      <th>2869054</th>\n",
       "      <td>2912442</td>\n",
       "      <td>143473</td>\n",
       "      <td>lp23071</td>\n",
       "      <td>315521742</td>\n",
       "      <td>Expedia</td>\n",
       "      <td>Beach Room</td>\n",
       "    </tr>\n",
       "    <tr>\n",
       "      <th>2869055</th>\n",
       "      <td>2912443</td>\n",
       "      <td>143473</td>\n",
       "      <td>lp23071</td>\n",
       "      <td>315521743</td>\n",
       "      <td>Expedia</td>\n",
       "      <td>Hibiscus Suite</td>\n",
       "    </tr>\n",
       "  </tbody>\n",
       "</table>\n",
       "<p>2869056 rows × 6 columns</p>\n",
       "</div>"
      ],
      "text/plain": [
       "         core_room_id  core_hotel_id       lp_id  supplier_room_id  \\\n",
       "0                   1         506732     lp7bb6c         200979491   \n",
       "1                   2         509236     lp7c534         200998017   \n",
       "2                   3         516326     lp7e0e6         201144757   \n",
       "3                   4         495330     lp78ee2         201028863   \n",
       "4                   5         970167     lpecdb7         218116045   \n",
       "...               ...            ...         ...               ...   \n",
       "2869051       2912439         193359     lp2f34f         323872346   \n",
       "2869052       2912440         143473     lp23071         230770971   \n",
       "2869053       2912441     1701692958  lp656dc61e         322166812   \n",
       "2869054       2912442         143473     lp23071         315521742   \n",
       "2869055       2912443         143473     lp23071         315521743   \n",
       "\n",
       "        supplier_name                            supplier_room_name  \n",
       "0             Expedia                          Superior Double Room  \n",
       "1             Expedia                          Deluxe Room, Balcony  \n",
       "2             Expedia                      Female Dormitory- 3 Beds  \n",
       "3             Expedia     Standard Apartment, 2 Bedrooms (6 people)  \n",
       "4             Expedia  Traditional Cottage, 2 Bedrooms, Harbor View  \n",
       "...               ...                                           ...  \n",
       "2869051       Expedia         Deluxe Room, 1 King Bed with Sofa bed  \n",
       "2869052       Expedia                           Ocean Bay Pool Room  \n",
       "2869053       Expedia                        8 Berth Luxury Caravan  \n",
       "2869054       Expedia                                    Beach Room  \n",
       "2869055       Expedia                                Hibiscus Suite  \n",
       "\n",
       "[2869056 rows x 6 columns]"
      ]
     },
     "execution_count": 10,
     "metadata": {},
     "output_type": "execute_result"
    }
   ],
   "source": [
    "file_url_2 = \"Data/updated_core_rooms.csv\"\n",
    "\n",
    "df_2 = pd.read_csv(file_url_2)\n",
    "df_2"
   ]
  },
  {
   "cell_type": "code",
   "execution_count": 11,
   "metadata": {},
   "outputs": [
    {
     "name": "stdout",
     "output_type": "stream",
     "text": [
      "<class 'pandas.core.frame.DataFrame'>\n",
      "RangeIndex: 2869056 entries, 0 to 2869055\n",
      "Data columns (total 6 columns):\n",
      " #   Column              Dtype \n",
      "---  ------              ----- \n",
      " 0   core_room_id        int64 \n",
      " 1   core_hotel_id       int64 \n",
      " 2   lp_id               object\n",
      " 3   supplier_room_id    int64 \n",
      " 4   supplier_name       object\n",
      " 5   supplier_room_name  object\n",
      "dtypes: int64(3), object(3)\n",
      "memory usage: 131.3+ MB\n"
     ]
    }
   ],
   "source": [
    "df_2.info()"
   ]
  },
  {
   "cell_type": "code",
   "execution_count": 12,
   "metadata": {},
   "outputs": [
    {
     "data": {
      "text/plain": [
       "core_room_id\n",
       "2912404    1\n",
       "2912405    1\n",
       "2912406    1\n",
       "2912407    1\n",
       "2912408    1\n",
       "          ..\n",
       "4          1\n",
       "5          1\n",
       "6          1\n",
       "7          1\n",
       "8          1\n",
       "Name: count, Length: 2869056, dtype: int64"
      ]
     },
     "execution_count": 12,
     "metadata": {},
     "output_type": "execute_result"
    }
   ],
   "source": [
    "df_2['core_room_id'].value_counts()"
   ]
  },
  {
   "cell_type": "code",
   "execution_count": 13,
   "metadata": {},
   "outputs": [
    {
     "data": {
      "text/plain": [
       "core_hotel_id\n",
       "1701587331    174\n",
       "1700215476    112\n",
       "1700205553    111\n",
       "228186        109\n",
       "116919        106\n",
       "             ... \n",
       "628023          1\n",
       "624782          1\n",
       "1701692904      1\n",
       "1701692909      1\n",
       "1701692925      1\n",
       "Name: count, Length: 813834, dtype: int64"
      ]
     },
     "execution_count": 13,
     "metadata": {},
     "output_type": "execute_result"
    }
   ],
   "source": [
    "df_2['core_hotel_id'].value_counts()"
   ]
  },
  {
   "cell_type": "code",
   "execution_count": 14,
   "metadata": {},
   "outputs": [
    {
     "data": {
      "text/plain": [
       "lp_id\n",
       "lp656c2983    174\n",
       "lp65573ab4    112\n",
       "lp655713f1    111\n",
       "lp37b5a       109\n",
       "lp1c8b7       106\n",
       "             ... \n",
       "lp99537         1\n",
       "lp9888e         1\n",
       "lp656dc5e8      1\n",
       "lp656dc5ed      1\n",
       "lp656dc5fd      1\n",
       "Name: count, Length: 813834, dtype: int64"
      ]
     },
     "execution_count": 14,
     "metadata": {},
     "output_type": "execute_result"
    }
   ],
   "source": [
    "df_2['lp_id'].value_counts()"
   ]
  },
  {
   "cell_type": "code",
   "execution_count": 15,
   "metadata": {},
   "outputs": [
    {
     "data": {
      "text/plain": [
       "supplier_room_id\n",
       "218174788    2\n",
       "318684501    2\n",
       "314208359    2\n",
       "315667927    2\n",
       "216048770    2\n",
       "            ..\n",
       "323872355    1\n",
       "323872411    1\n",
       "322166900    1\n",
       "323872346    1\n",
       "200998017    1\n",
       "Name: count, Length: 2825552, dtype: int64"
      ]
     },
     "execution_count": 15,
     "metadata": {},
     "output_type": "execute_result"
    }
   ],
   "source": [
    "df_2['supplier_room_id'].value_counts()"
   ]
  },
  {
   "cell_type": "code",
   "execution_count": 16,
   "metadata": {},
   "outputs": [
    {
     "data": {
      "text/plain": [
       "supplier_name\n",
       "Expedia    2869056\n",
       "Name: count, dtype: int64"
      ]
     },
     "execution_count": 16,
     "metadata": {},
     "output_type": "execute_result"
    }
   ],
   "source": [
    "df_2['supplier_name'].value_counts()"
   ]
  },
  {
   "cell_type": "code",
   "execution_count": 17,
   "metadata": {},
   "outputs": [
    {
     "data": {
      "text/plain": [
       "supplier_room_name\n",
       "Standard Double Room                                                     45313\n",
       "Double Room                                                              43990\n",
       "Apartment                                                                43158\n",
       "House                                                                    36772\n",
       "Deluxe Double Room                                                       34223\n",
       "                                                                         ...  \n",
       "Deluxe Room, 1 Queen Bed (Riviera)                                           1\n",
       "Lit simple en refuge pour 4                                                  1\n",
       "Suite della Serva                                                            1\n",
       "Standard Tent, 1 Queen Bed                                                   1\n",
       "Studio, 1 King Bed, Accessible, Balcony (Mobility & Hearing, Bathtub)        1\n",
       "Name: count, Length: 704452, dtype: int64"
      ]
     },
     "execution_count": 17,
     "metadata": {},
     "output_type": "execute_result"
    }
   ],
   "source": [
    "df_2['supplier_room_name'].value_counts()"
   ]
  },
  {
   "cell_type": "markdown",
   "metadata": {},
   "source": [
    "This DataFrame, consisting of 2869056 rows and 6 columns, establishes a mapping between core room and hotel identifiers and their corresponding supplier-specific details. It serves as a bridge, linking standardized internal IDs with external supplier information.\n",
    "\n",
    "- core_room_id: A unique numerical identifier for a room within a standardized internal system. This ID acts as the primary key for room identification.\n",
    "- core_hotel_id: A unique numerical identifier for a hotel within the same standardized internal system. This ID serves as the primary key for hotel identification.\n",
    "- lp_id: An alphanumeric identifier for a listing page. This column relates the core room and hotel IDs to a specific listing page, potentially from a third party.\n",
    "- supplier_room_id: An identifier for the room as provided by the external supplier. This ID is specific to the supplier's system.\n",
    "- supplier_name: The name of the external supplier which is Expedia.\n",
    "- supplier_room_name: The descriptive name of the room as provided by the external supplier."
   ]
  },
  {
   "cell_type": "code",
   "execution_count": 18,
   "metadata": {},
   "outputs": [
    {
     "data": {
      "text/plain": [
       "core_room_id          0\n",
       "core_hotel_id         0\n",
       "lp_id                 0\n",
       "supplier_room_id      0\n",
       "supplier_name         0\n",
       "supplier_room_name    1\n",
       "dtype: int64"
      ]
     },
     "execution_count": 18,
     "metadata": {},
     "output_type": "execute_result"
    }
   ],
   "source": [
    "df_2.isnull().sum()"
   ]
  },
  {
   "cell_type": "markdown",
   "metadata": {},
   "source": [
    "There is only 1 null value in the supplier room name."
   ]
  },
  {
   "cell_type": "markdown",
   "metadata": {},
   "source": [
    "## Data Aggregation\n",
    "Let's see if we can join both datasets by 'lp_id'.\n",
    "\n",
    "Check how many ids are equal in both datasets:\n",
    "df_1['hotel_id'] and df_2['core_hotel_id']"
   ]
  },
  {
   "cell_type": "code",
   "execution_count": 19,
   "metadata": {},
   "outputs": [
    {
     "name": "stdout",
     "output_type": "stream",
     "text": [
      "Number of equal IDs: 28638\n"
     ]
    }
   ],
   "source": [
    "# Convert the columns to sets\n",
    "set_1 = set(df_1['lp_id'])\n",
    "set_2 = set(df_2['lp_id'])\n",
    "\n",
    "# Find the intersection of the sets\n",
    "equal_ids = set_1.intersection(set_2)\n",
    "\n",
    "# Count the number of equal IDs\n",
    "count_equal_ids = len(equal_ids)\n",
    "\n",
    "# Display the results\n",
    "print(\"Number of equal IDs:\", count_equal_ids)"
   ]
  },
  {
   "cell_type": "markdown",
   "metadata": {},
   "source": [
    "Therefore, we can join both dataframes using the columns 'lp_id'."
   ]
  },
  {
   "cell_type": "code",
   "execution_count": null,
   "metadata": {},
   "outputs": [],
   "source": []
  }
 ],
 "metadata": {
  "kernelspec": {
   "display_name": "cupid",
   "language": "python",
   "name": "python3"
  },
  "language_info": {
   "codemirror_mode": {
    "name": "ipython",
    "version": 3
   },
   "file_extension": ".py",
   "mimetype": "text/x-python",
   "name": "python",
   "nbconvert_exporter": "python",
   "pygments_lexer": "ipython3",
   "version": "3.11.11"
  }
 },
 "nbformat": 4,
 "nbformat_minor": 2
}
