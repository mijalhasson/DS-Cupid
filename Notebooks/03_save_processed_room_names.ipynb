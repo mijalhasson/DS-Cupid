{
 "cells": [
  {
   "cell_type": "markdown",
   "metadata": {},
   "source": [
    "# Save Processed Room Names\n",
    "\n",
    "In this notebook we will save the processed room names of the reference database and Expedia database to use it in our API."
   ]
  },
  {
   "cell_type": "code",
   "execution_count": 1,
   "metadata": {},
   "outputs": [],
   "source": [
    "# Imports\n",
    "import pandas as pd\n",
    "import os\n",
    "import spacy\n",
    "from sklearn.feature_extraction.text import TfidfVectorizer\n",
    "from sklearn.cluster import KMeans, DBSCAN\n",
    "# from fuzzywuzzy import fuzz\n",
    "from rapidfuzz import process, fuzz"
   ]
  },
  {
   "cell_type": "code",
   "execution_count": 2,
   "metadata": {},
   "outputs": [],
   "source": [
    "# Go one folder back\n",
    "os.chdir('..')"
   ]
  },
  {
   "cell_type": "code",
   "execution_count": 3,
   "metadata": {},
   "outputs": [
    {
     "data": {
      "application/vnd.microsoft.datawrangler.viewer.v0+json": {
       "columns": [
        {
         "name": "index",
         "rawType": "int64",
         "type": "integer"
        },
        {
         "name": "hotel_id",
         "rawType": "int64",
         "type": "integer"
        },
        {
         "name": "lp_id",
         "rawType": "object",
         "type": "string"
        },
        {
         "name": "room_id",
         "rawType": "int64",
         "type": "integer"
        },
        {
         "name": "room_name",
         "rawType": "object",
         "type": "string"
        }
       ],
       "conversionMethod": "pd.DataFrame",
       "ref": "38cb40d4-401b-4fe6-8871-3cb3cba8078e",
       "rows": [
        [
         "0",
         "13484077",
         "lp23e8ef",
         "1142730702",
         "Double or Twin Room"
        ],
        [
         "1",
         "13487663",
         "lp6554de34",
         "1141927122",
         "House"
        ],
        [
         "2",
         "13462809",
         "lp6556c3dc",
         "1142722063",
         "Room"
        ],
        [
         "3",
         "13530116",
         "lp6555450b",
         "1141968275",
         "Triple Room"
        ],
        [
         "4",
         "13530071",
         "lp6557a92c",
         "1142513784",
         "Apartment"
        ],
        [
         "5",
         "13530384",
         "lp6555c6ef",
         "1141970143",
         "Room (Jasmine)"
        ],
        [
         "6",
         "13530384",
         "lp6555c6ef",
         "1141970185",
         "Room (Roseherb)"
        ],
        [
         "7",
         "13530384",
         "lp6555c6ef",
         "1141970194",
         "Room (Mint)"
        ],
        [
         "8",
         "13530384",
         "lp6555c6ef",
         "1141970198",
         "Room"
        ],
        [
         "9",
         "13530384",
         "lp6555c6ef",
         "1141970215",
         "Room (Rosemary)"
        ],
        [
         "10",
         "13464693",
         "lp65575ead",
         "1141908927",
         "Room (Twin (corona safe room))"
        ],
        [
         "11",
         "7389404",
         "lp6562eb48",
         "738940402",
         "One-Bedroom Apartment"
        ],
        [
         "12",
         "7389404",
         "lp6562eb48",
         "738940403",
         "Apartment with Shower"
        ],
        [
         "13",
         "7389404",
         "lp6562eb48",
         "738940404",
         "Deluxe Apartment"
        ],
        [
         "14",
         "13570599",
         "lp1e3ead",
         "1142555442",
         "Classic Twin Room"
        ],
        [
         "15",
         "13570599",
         "lp1e3ead",
         "1142555448",
         "Classic Double Room, 1 Queen Bed"
        ],
        [
         "16",
         "13570599",
         "lp1e3ead",
         "1142555454",
         "Superior Double Room"
        ],
        [
         "17",
         "13570599",
         "lp1e3ead",
         "1142555458",
         "Superior Twin Room"
        ],
        [
         "18",
         "6404576",
         "lp9ad2d",
         "640457601",
         "One-Bedroom Apartment"
        ],
        [
         "19",
         "6404576",
         "lp9ad2d",
         "640457602",
         "One-Bedroom Apartment"
        ],
        [
         "20",
         "13625945",
         "lp8004b",
         "1142319158",
         "Deluxe Suite, 1 Bedroom"
        ],
        [
         "21",
         "13625945",
         "lp8004b",
         "1142319370",
         "Superior Double or Twin Room, 1 Bedroom"
        ],
        [
         "22",
         "13625945",
         "lp8004b",
         "1142319487",
         "Comfort Apartment, 2 Bedrooms"
        ],
        [
         "23",
         "13625945",
         "lp8004b",
         "1142319792",
         "Family Room, 1 Bedroom"
        ],
        [
         "24",
         "13626535",
         "lp655917b7",
         "1142105952",
         "Apartment"
        ],
        [
         "25",
         "13627983",
         "lp6554fbee",
         "1142049959",
         "Private Vacation Home"
        ],
        [
         "26",
         "13628683",
         "lp267816",
         "1142328906",
         "Bungalow (Triple)"
        ],
        [
         "27",
         "13628683",
         "lp267816",
         "1142329100",
         "Bungalow (Double)"
        ],
        [
         "28",
         "13631599",
         "lp1868c7",
         "1142873958",
         "Standard Double Room"
        ],
        [
         "29",
         "13632041",
         "lp8c1b8",
         "1142923467",
         "Family Room"
        ],
        [
         "30",
         "13632041",
         "lp8c1b8",
         "1142923499",
         "Single Room"
        ],
        [
         "31",
         "13632041",
         "lp8c1b8",
         "1142923506",
         "Twin Room"
        ],
        [
         "32",
         "13632041",
         "lp8c1b8",
         "1142923522",
         "Suite, Balcony"
        ],
        [
         "33",
         "13632041",
         "lp8c1b8",
         "1142923534",
         "Double Room"
        ],
        [
         "34",
         "13632041",
         "lp8c1b8",
         "1142923544",
         "Suite, Garden View"
        ],
        [
         "35",
         "13632041",
         "lp8c1b8",
         "1142923556",
         "Superior Suite"
        ],
        [
         "36",
         "13632041",
         "lp8c1b8",
         "1142923566",
         "Suite"
        ],
        [
         "37",
         "13632041",
         "lp8c1b8",
         "1142923583",
         "Triple Room"
        ],
        [
         "38",
         "13631966",
         "lpf5ec5",
         "1142059566",
         "Double or Twin Room"
        ],
        [
         "39",
         "13632854",
         "lp1f2a5c",
         "1142331561",
         "Double or Twin Room"
        ],
        [
         "40",
         "13632854",
         "lp1f2a5c",
         "1142331732",
         "Suite, 1 King Bed"
        ],
        [
         "41",
         "13632854",
         "lp1f2a5c",
         "1142331749",
         "Deluxe Double or Twin Room, 1 King Bed"
        ],
        [
         "42",
         "13632854",
         "lp1f2a5c",
         "1142331962",
         "Double Room, 1 Double Bed"
        ],
        [
         "43",
         "7855856",
         "lp9bfad",
         "785585601",
         "One-Bedroom Apartment"
        ],
        [
         "44",
         "13633991",
         "lpc8873",
         "1142882662",
         "Double or Twin Room"
        ],
        [
         "45",
         "13635508",
         "lpcb5df",
         "1142606436",
         "Deluxe Room"
        ],
        [
         "46",
         "13635508",
         "lpcb5df",
         "1142606791",
         "Double or Twin Room"
        ],
        [
         "47",
         "13663278",
         "lp65591d5e",
         "1142097901",
         "Basic Apartment"
        ],
        [
         "48",
         "13663278",
         "lp65591d5e",
         "1142097933",
         "Studio"
        ],
        [
         "49",
         "13663278",
         "lp65591d5e",
         "1142097957",
         "Executive Studio"
        ]
       ],
       "shape": {
        "columns": 4,
        "rows": 100000
       }
      },
      "text/html": [
       "<div>\n",
       "<style scoped>\n",
       "    .dataframe tbody tr th:only-of-type {\n",
       "        vertical-align: middle;\n",
       "    }\n",
       "\n",
       "    .dataframe tbody tr th {\n",
       "        vertical-align: top;\n",
       "    }\n",
       "\n",
       "    .dataframe thead th {\n",
       "        text-align: right;\n",
       "    }\n",
       "</style>\n",
       "<table border=\"1\" class=\"dataframe\">\n",
       "  <thead>\n",
       "    <tr style=\"text-align: right;\">\n",
       "      <th></th>\n",
       "      <th>hotel_id</th>\n",
       "      <th>lp_id</th>\n",
       "      <th>room_id</th>\n",
       "      <th>room_name</th>\n",
       "    </tr>\n",
       "  </thead>\n",
       "  <tbody>\n",
       "    <tr>\n",
       "      <th>0</th>\n",
       "      <td>13484077</td>\n",
       "      <td>lp23e8ef</td>\n",
       "      <td>1142730702</td>\n",
       "      <td>Double or Twin Room</td>\n",
       "    </tr>\n",
       "    <tr>\n",
       "      <th>1</th>\n",
       "      <td>13487663</td>\n",
       "      <td>lp6554de34</td>\n",
       "      <td>1141927122</td>\n",
       "      <td>House</td>\n",
       "    </tr>\n",
       "    <tr>\n",
       "      <th>2</th>\n",
       "      <td>13462809</td>\n",
       "      <td>lp6556c3dc</td>\n",
       "      <td>1142722063</td>\n",
       "      <td>Room</td>\n",
       "    </tr>\n",
       "    <tr>\n",
       "      <th>3</th>\n",
       "      <td>13530116</td>\n",
       "      <td>lp6555450b</td>\n",
       "      <td>1141968275</td>\n",
       "      <td>Triple Room</td>\n",
       "    </tr>\n",
       "    <tr>\n",
       "      <th>4</th>\n",
       "      <td>13530071</td>\n",
       "      <td>lp6557a92c</td>\n",
       "      <td>1142513784</td>\n",
       "      <td>Apartment</td>\n",
       "    </tr>\n",
       "    <tr>\n",
       "      <th>...</th>\n",
       "      <td>...</td>\n",
       "      <td>...</td>\n",
       "      <td>...</td>\n",
       "      <td>...</td>\n",
       "    </tr>\n",
       "    <tr>\n",
       "      <th>99995</th>\n",
       "      <td>21684</td>\n",
       "      <td>lp6561b025</td>\n",
       "      <td>2168409</td>\n",
       "      <td>Two-Bedroom Suite</td>\n",
       "    </tr>\n",
       "    <tr>\n",
       "      <th>99996</th>\n",
       "      <td>21684</td>\n",
       "      <td>lp6561b025</td>\n",
       "      <td>2168411</td>\n",
       "      <td>Deluxe Triple Room</td>\n",
       "    </tr>\n",
       "    <tr>\n",
       "      <th>99997</th>\n",
       "      <td>21684</td>\n",
       "      <td>lp6561b025</td>\n",
       "      <td>2168412</td>\n",
       "      <td>Deluxe Queen Room with Two Queen Beds</td>\n",
       "    </tr>\n",
       "    <tr>\n",
       "      <th>99998</th>\n",
       "      <td>21684</td>\n",
       "      <td>lp6561b025</td>\n",
       "      <td>2168413</td>\n",
       "      <td>Classic Quadruple Room</td>\n",
       "    </tr>\n",
       "    <tr>\n",
       "      <th>99999</th>\n",
       "      <td>21684</td>\n",
       "      <td>lp6561b025</td>\n",
       "      <td>2168414</td>\n",
       "      <td>Standard King Room</td>\n",
       "    </tr>\n",
       "  </tbody>\n",
       "</table>\n",
       "<p>100000 rows × 4 columns</p>\n",
       "</div>"
      ],
      "text/plain": [
       "       hotel_id       lp_id     room_id                              room_name\n",
       "0      13484077    lp23e8ef  1142730702                    Double or Twin Room\n",
       "1      13487663  lp6554de34  1141927122                                  House\n",
       "2      13462809  lp6556c3dc  1142722063                                   Room\n",
       "3      13530116  lp6555450b  1141968275                            Triple Room\n",
       "4      13530071  lp6557a92c  1142513784                              Apartment\n",
       "...         ...         ...         ...                                    ...\n",
       "99995     21684  lp6561b025     2168409                      Two-Bedroom Suite\n",
       "99996     21684  lp6561b025     2168411                     Deluxe Triple Room\n",
       "99997     21684  lp6561b025     2168412  Deluxe Queen Room with Two Queen Beds\n",
       "99998     21684  lp6561b025     2168413                 Classic Quadruple Room\n",
       "99999     21684  lp6561b025     2168414                     Standard King Room\n",
       "\n",
       "[100000 rows x 4 columns]"
      ]
     },
     "execution_count": 3,
     "metadata": {},
     "output_type": "execute_result"
    }
   ],
   "source": [
    "file_url_reference = \"Data/referance_rooms-1737378184366.csv\"\n",
    "\n",
    "df_reference_initial = pd.read_csv(file_url_reference)\n",
    "df_reference_initial"
   ]
  },
  {
   "cell_type": "code",
   "execution_count": 4,
   "metadata": {},
   "outputs": [
    {
     "data": {
      "application/vnd.microsoft.datawrangler.viewer.v0+json": {
       "columns": [
        {
         "name": "index",
         "rawType": "int64",
         "type": "integer"
        },
        {
         "name": "core_room_id",
         "rawType": "int64",
         "type": "integer"
        },
        {
         "name": "core_hotel_id",
         "rawType": "int64",
         "type": "integer"
        },
        {
         "name": "lp_id",
         "rawType": "object",
         "type": "string"
        },
        {
         "name": "supplier_room_id",
         "rawType": "int64",
         "type": "integer"
        },
        {
         "name": "supplier_name",
         "rawType": "object",
         "type": "string"
        },
        {
         "name": "supplier_room_name",
         "rawType": "object",
         "type": "unknown"
        }
       ],
       "conversionMethod": "pd.DataFrame",
       "ref": "ce3f5978-f79b-4dcb-a8bf-a8ca61f754dc",
       "rows": [
        [
         "0",
         "1",
         "506732",
         "lp7bb6c",
         "200979491",
         "Expedia",
         "Superior Double Room"
        ],
        [
         "1",
         "2",
         "509236",
         "lp7c534",
         "200998017",
         "Expedia",
         "Deluxe Room, Balcony"
        ],
        [
         "2",
         "3",
         "516326",
         "lp7e0e6",
         "201144757",
         "Expedia",
         "Female Dormitory- 3 Beds"
        ],
        [
         "3",
         "4",
         "495330",
         "lp78ee2",
         "201028863",
         "Expedia",
         "Standard Apartment, 2 Bedrooms (6 people)"
        ],
        [
         "4",
         "5",
         "970167",
         "lpecdb7",
         "218116045",
         "Expedia",
         "Traditional Cottage, 2 Bedrooms, Harbor View"
        ],
        [
         "5",
         "6",
         "628058",
         "lp9955a",
         "201691752",
         "Expedia",
         "Family House, 6 Bedrooms"
        ],
        [
         "6",
         "7",
         "626491",
         "lp98f3b",
         "201681924",
         "Expedia",
         "Comfort House, 6 Bedrooms, Ocean View"
        ],
        [
         "7",
         "8",
         "645487",
         "lp9d96f",
         "201777964",
         "Expedia",
         "Deluxe Apartment, Executive Level"
        ],
        [
         "8",
         "9",
         "649700",
         "lp9e9e4",
         "201788627",
         "Expedia",
         "House, 3 Bedrooms"
        ],
        [
         "9",
         "10",
         "627565",
         "lp9936d",
         "201691684",
         "Expedia",
         "Family House, 4 Bedrooms"
        ],
        [
         "10",
         "11",
         "493566",
         "lp787fe",
         "200911136",
         "Expedia",
         "Luxury Apartment, 1 Bedroom, City View"
        ],
        [
         "11",
         "12",
         "544944",
         "lp850b0",
         "201249058",
         "Expedia",
         "Chalet, 3 Bedrooms"
        ],
        [
         "12",
         "13",
         "566206",
         "lp8a3be",
         "220806364",
         "Expedia",
         "Signature Apartment, 1 Bedroom"
        ],
        [
         "13",
         "14",
         "494804",
         "lp78cd4",
         "200907088",
         "Expedia",
         "Deluxe Room"
        ],
        [
         "14",
         "15",
         "532308",
         "lp81f54",
         "201195949",
         "Expedia",
         "Standard Apartment, 1 Bedroom"
        ],
        [
         "15",
         "16",
         "509808",
         "lp7c770",
         "201052040",
         "Expedia",
         "Traditional Room (Sode)"
        ],
        [
         "16",
         "17",
         "632152",
         "lp9a558",
         "201711703",
         "Expedia",
         "Condo, 3 Bedrooms"
        ],
        [
         "17",
         "18",
         "627562",
         "lp9936a",
         "201691675",
         "Expedia",
         "Family House, 6 Bedrooms"
        ],
        [
         "18",
         "19",
         "533436",
         "lp823bc",
         "201167133",
         "Expedia",
         "Twin Room, 2 Twin Beds, Non Smoking"
        ],
        [
         "19",
         "20",
         "677272",
         "lpa5598",
         "201888454",
         "Expedia",
         "House, 3 Bedrooms"
        ],
        [
         "20",
         "21",
         "932563",
         "lpe3ad3",
         "213608785",
         "Expedia",
         "Chalet, Multiple Beds, Non Smoking"
        ],
        [
         "21",
         "22",
         "1700176647",
         "lp6556a307",
         "315454439",
         "Expedia",
         "Superior Apartment, Ensuite (ELISABETH G/G)"
        ],
        [
         "22",
         "23",
         "626648",
         "lp98fd8",
         "201681804",
         "Expedia",
         "Family House, 5 Bedrooms, Courtyard Area"
        ],
        [
         "23",
         "24",
         "552973",
         "lp8700d",
         "201305560",
         "Expedia",
         "Deluxe Twin Room"
        ],
        [
         "24",
         "25",
         "628582",
         "lp99766",
         "201691395",
         "Expedia",
         "House, 3 Bedrooms"
        ],
        [
         "25",
         "26",
         "529670",
         "lp81506",
         "201139567",
         "Expedia",
         "Superior Villa, 3 Bedrooms"
        ],
        [
         "26",
         "27",
         "707650",
         "lpacc42",
         "202027590",
         "Expedia",
         "House"
        ],
        [
         "27",
         "28",
         "530747",
         "lp8193b",
         "201145979",
         "Expedia",
         "Traditional Apartment, Kitchen, Courtyard Area"
        ],
        [
         "28",
         "29",
         "631999",
         "lp9a4bf",
         "201711825",
         "Expedia",
         "Condo, 4 Bedrooms"
        ],
        [
         "29",
         "30",
         "627536",
         "lp99350",
         "201691787",
         "Expedia",
         "Family House, 6 Bedrooms"
        ],
        [
         "30",
         "31",
         "544703",
         "lp84fbf",
         "201249048",
         "Expedia",
         "Condo, 2 Bedrooms"
        ],
        [
         "31",
         "32",
         "512153",
         "lp7d099",
         "201019438",
         "Expedia",
         "Standard Room"
        ],
        [
         "32",
         "33",
         "544738",
         "lp84fe2",
         "201249454",
         "Expedia",
         "Classic Cabin, 3 Bedrooms"
        ],
        [
         "33",
         "34",
         "548795",
         "lp85fbb",
         "201274931",
         "Expedia",
         "Apartment, 2 Bedrooms (Civetta 3)"
        ],
        [
         "34",
         "35",
         "628023",
         "lp99537",
         "201691666",
         "Expedia",
         "Family House, 5 Bedrooms"
        ],
        [
         "35",
         "36",
         "495317",
         "lp78ed5",
         "201036602",
         "Expedia",
         "Standard Apartment, 3 Bedrooms (for 6 people)"
        ],
        [
         "36",
         "37",
         "624782",
         "lp9888e",
         "201681807",
         "Expedia",
         "Comfort House, 4 Bedrooms, Ocean View"
        ],
        [
         "37",
         "38",
         "492232",
         "lp782c8",
         "200895340",
         "Expedia",
         "Superior Apartment, 1 Bedroom"
        ],
        [
         "38",
         "39",
         "649699",
         "lp9e9e3",
         "201788621",
         "Expedia",
         "House, 3 Bedrooms"
        ],
        [
         "39",
         "40",
         "513944",
         "lp7d798",
         "201031277",
         "Expedia",
         "Apartment, 1 Bedroom, Terrace, Ocean View"
        ],
        [
         "40",
         "41",
         "533373",
         "lp8237d",
         "201166631",
         "Expedia",
         "Apartment, 2 Bedrooms"
        ],
        [
         "41",
         "42",
         "554772",
         "lp87714",
         "201301925",
         "Expedia",
         "Luxury Apartment, 2 Bedrooms, Balcony"
        ],
        [
         "42",
         "43",
         "574318",
         "lp8c36e",
         "201443056",
         "Expedia",
         "Superior Apartment, 2 Bedrooms, Balcony"
        ],
        [
         "43",
         "44",
         "691615",
         "lpa8d9f",
         "219314414",
         "Expedia",
         "Apartment (Party Palace)"
        ],
        [
         "44",
         "45",
         "628421",
         "lp996c5",
         "201691668",
         "Expedia",
         "Family House, 6 Bedrooms"
        ],
        [
         "45",
         "46",
         "626279",
         "lp98e67",
         "201681803",
         "Expedia",
         "Family House, 2 Bedrooms"
        ],
        [
         "46",
         "47",
         "624918",
         "lp98916",
         "201681702",
         "Expedia",
         "Apartment, 4 Bedrooms"
        ],
        [
         "47",
         "48",
         "544769",
         "lp85001",
         "201249503",
         "Expedia",
         "Family Cabin"
        ],
        [
         "48",
         "49",
         "511654",
         "lp7cea6",
         "201019580",
         "Expedia",
         "Luxury Villa, 4 Bedrooms, Ocean View"
        ],
        [
         "49",
         "50",
         "1700176589",
         "lp6556a2cd",
         "321168538",
         "Expedia",
         "Condo, 3 Bedrooms"
        ]
       ],
       "shape": {
        "columns": 6,
        "rows": 2869056
       }
      },
      "text/html": [
       "<div>\n",
       "<style scoped>\n",
       "    .dataframe tbody tr th:only-of-type {\n",
       "        vertical-align: middle;\n",
       "    }\n",
       "\n",
       "    .dataframe tbody tr th {\n",
       "        vertical-align: top;\n",
       "    }\n",
       "\n",
       "    .dataframe thead th {\n",
       "        text-align: right;\n",
       "    }\n",
       "</style>\n",
       "<table border=\"1\" class=\"dataframe\">\n",
       "  <thead>\n",
       "    <tr style=\"text-align: right;\">\n",
       "      <th></th>\n",
       "      <th>core_room_id</th>\n",
       "      <th>core_hotel_id</th>\n",
       "      <th>lp_id</th>\n",
       "      <th>supplier_room_id</th>\n",
       "      <th>supplier_name</th>\n",
       "      <th>supplier_room_name</th>\n",
       "    </tr>\n",
       "  </thead>\n",
       "  <tbody>\n",
       "    <tr>\n",
       "      <th>0</th>\n",
       "      <td>1</td>\n",
       "      <td>506732</td>\n",
       "      <td>lp7bb6c</td>\n",
       "      <td>200979491</td>\n",
       "      <td>Expedia</td>\n",
       "      <td>Superior Double Room</td>\n",
       "    </tr>\n",
       "    <tr>\n",
       "      <th>1</th>\n",
       "      <td>2</td>\n",
       "      <td>509236</td>\n",
       "      <td>lp7c534</td>\n",
       "      <td>200998017</td>\n",
       "      <td>Expedia</td>\n",
       "      <td>Deluxe Room, Balcony</td>\n",
       "    </tr>\n",
       "    <tr>\n",
       "      <th>2</th>\n",
       "      <td>3</td>\n",
       "      <td>516326</td>\n",
       "      <td>lp7e0e6</td>\n",
       "      <td>201144757</td>\n",
       "      <td>Expedia</td>\n",
       "      <td>Female Dormitory- 3 Beds</td>\n",
       "    </tr>\n",
       "    <tr>\n",
       "      <th>3</th>\n",
       "      <td>4</td>\n",
       "      <td>495330</td>\n",
       "      <td>lp78ee2</td>\n",
       "      <td>201028863</td>\n",
       "      <td>Expedia</td>\n",
       "      <td>Standard Apartment, 2 Bedrooms (6 people)</td>\n",
       "    </tr>\n",
       "    <tr>\n",
       "      <th>4</th>\n",
       "      <td>5</td>\n",
       "      <td>970167</td>\n",
       "      <td>lpecdb7</td>\n",
       "      <td>218116045</td>\n",
       "      <td>Expedia</td>\n",
       "      <td>Traditional Cottage, 2 Bedrooms, Harbor View</td>\n",
       "    </tr>\n",
       "    <tr>\n",
       "      <th>...</th>\n",
       "      <td>...</td>\n",
       "      <td>...</td>\n",
       "      <td>...</td>\n",
       "      <td>...</td>\n",
       "      <td>...</td>\n",
       "      <td>...</td>\n",
       "    </tr>\n",
       "    <tr>\n",
       "      <th>2869051</th>\n",
       "      <td>2912439</td>\n",
       "      <td>193359</td>\n",
       "      <td>lp2f34f</td>\n",
       "      <td>323872346</td>\n",
       "      <td>Expedia</td>\n",
       "      <td>Deluxe Room, 1 King Bed with Sofa bed</td>\n",
       "    </tr>\n",
       "    <tr>\n",
       "      <th>2869052</th>\n",
       "      <td>2912440</td>\n",
       "      <td>143473</td>\n",
       "      <td>lp23071</td>\n",
       "      <td>230770971</td>\n",
       "      <td>Expedia</td>\n",
       "      <td>Ocean Bay Pool Room</td>\n",
       "    </tr>\n",
       "    <tr>\n",
       "      <th>2869053</th>\n",
       "      <td>2912441</td>\n",
       "      <td>1701692958</td>\n",
       "      <td>lp656dc61e</td>\n",
       "      <td>322166812</td>\n",
       "      <td>Expedia</td>\n",
       "      <td>8 Berth Luxury Caravan</td>\n",
       "    </tr>\n",
       "    <tr>\n",
       "      <th>2869054</th>\n",
       "      <td>2912442</td>\n",
       "      <td>143473</td>\n",
       "      <td>lp23071</td>\n",
       "      <td>315521742</td>\n",
       "      <td>Expedia</td>\n",
       "      <td>Beach Room</td>\n",
       "    </tr>\n",
       "    <tr>\n",
       "      <th>2869055</th>\n",
       "      <td>2912443</td>\n",
       "      <td>143473</td>\n",
       "      <td>lp23071</td>\n",
       "      <td>315521743</td>\n",
       "      <td>Expedia</td>\n",
       "      <td>Hibiscus Suite</td>\n",
       "    </tr>\n",
       "  </tbody>\n",
       "</table>\n",
       "<p>2869056 rows × 6 columns</p>\n",
       "</div>"
      ],
      "text/plain": [
       "         core_room_id  core_hotel_id       lp_id  supplier_room_id  \\\n",
       "0                   1         506732     lp7bb6c         200979491   \n",
       "1                   2         509236     lp7c534         200998017   \n",
       "2                   3         516326     lp7e0e6         201144757   \n",
       "3                   4         495330     lp78ee2         201028863   \n",
       "4                   5         970167     lpecdb7         218116045   \n",
       "...               ...            ...         ...               ...   \n",
       "2869051       2912439         193359     lp2f34f         323872346   \n",
       "2869052       2912440         143473     lp23071         230770971   \n",
       "2869053       2912441     1701692958  lp656dc61e         322166812   \n",
       "2869054       2912442         143473     lp23071         315521742   \n",
       "2869055       2912443         143473     lp23071         315521743   \n",
       "\n",
       "        supplier_name                            supplier_room_name  \n",
       "0             Expedia                          Superior Double Room  \n",
       "1             Expedia                          Deluxe Room, Balcony  \n",
       "2             Expedia                      Female Dormitory- 3 Beds  \n",
       "3             Expedia     Standard Apartment, 2 Bedrooms (6 people)  \n",
       "4             Expedia  Traditional Cottage, 2 Bedrooms, Harbor View  \n",
       "...               ...                                           ...  \n",
       "2869051       Expedia         Deluxe Room, 1 King Bed with Sofa bed  \n",
       "2869052       Expedia                           Ocean Bay Pool Room  \n",
       "2869053       Expedia                        8 Berth Luxury Caravan  \n",
       "2869054       Expedia                                    Beach Room  \n",
       "2869055       Expedia                                Hibiscus Suite  \n",
       "\n",
       "[2869056 rows x 6 columns]"
      ]
     },
     "execution_count": 4,
     "metadata": {},
     "output_type": "execute_result"
    }
   ],
   "source": [
    "file_url_expedia = \"Data/updated_core_rooms.csv\"\n",
    "\n",
    "df_expedia_initial = pd.read_csv(file_url_expedia)\n",
    "df_expedia_initial"
   ]
  },
  {
   "cell_type": "markdown",
   "metadata": {},
   "source": [
    "### Data cleaning\n",
    "Check how many ids are equal in both datasets:\n",
    "\n",
    "df_reference['hotel_id'] and df_expedia['core_hotel_id']"
   ]
  },
  {
   "cell_type": "code",
   "execution_count": 5,
   "metadata": {},
   "outputs": [
    {
     "name": "stdout",
     "output_type": "stream",
     "text": [
      "Number of equal IDs: 28638\n"
     ]
    }
   ],
   "source": [
    "# Convert the columns to sets\n",
    "set_1 = set(df_reference_initial['lp_id'])\n",
    "set_2 = set(df_expedia_initial['lp_id'])\n",
    "\n",
    "# Find the intersection of the sets\n",
    "equal_ids = set_1.intersection(set_2)\n",
    "\n",
    "# Count the number of equal IDs\n",
    "count_equal_ids = len(equal_ids)\n",
    "\n",
    "# Display the results\n",
    "print(\"Number of equal IDs:\", count_equal_ids)"
   ]
  },
  {
   "cell_type": "markdown",
   "metadata": {},
   "source": [
    "We will keep only the hotels from the reference that are found in both datasets, because those are the only rooms that will need to be matched."
   ]
  },
  {
   "cell_type": "code",
   "execution_count": 6,
   "metadata": {},
   "outputs": [
    {
     "data": {
      "application/vnd.microsoft.datawrangler.viewer.v0+json": {
       "columns": [
        {
         "name": "index",
         "rawType": "int64",
         "type": "integer"
        },
        {
         "name": "hotel_id",
         "rawType": "int64",
         "type": "integer"
        },
        {
         "name": "lp_id",
         "rawType": "object",
         "type": "string"
        },
        {
         "name": "room_id",
         "rawType": "int64",
         "type": "integer"
        },
        {
         "name": "room_name",
         "rawType": "object",
         "type": "string"
        }
       ],
       "conversionMethod": "pd.DataFrame",
       "ref": "07e4e7bd-0a8e-49d4-8cb9-8fe22142a08b",
       "rows": [
        [
         "0",
         "13484077",
         "lp23e8ef",
         "1142730702",
         "Double or Twin Room"
        ],
        [
         "1",
         "13487663",
         "lp6554de34",
         "1141927122",
         "House"
        ],
        [
         "2",
         "13462809",
         "lp6556c3dc",
         "1142722063",
         "Room"
        ],
        [
         "3",
         "13530116",
         "lp6555450b",
         "1141968275",
         "Triple Room"
        ],
        [
         "4",
         "13530071",
         "lp6557a92c",
         "1142513784",
         "Apartment"
        ],
        [
         "5",
         "13530384",
         "lp6555c6ef",
         "1141970143",
         "Room (Jasmine)"
        ],
        [
         "6",
         "13530384",
         "lp6555c6ef",
         "1141970185",
         "Room (Roseherb)"
        ],
        [
         "7",
         "13530384",
         "lp6555c6ef",
         "1141970194",
         "Room (Mint)"
        ],
        [
         "8",
         "13530384",
         "lp6555c6ef",
         "1141970198",
         "Room"
        ],
        [
         "9",
         "13530384",
         "lp6555c6ef",
         "1141970215",
         "Room (Rosemary)"
        ],
        [
         "10",
         "13464693",
         "lp65575ead",
         "1141908927",
         "Room (Twin (corona safe room))"
        ],
        [
         "14",
         "13570599",
         "lp1e3ead",
         "1142555442",
         "Classic Twin Room"
        ],
        [
         "15",
         "13570599",
         "lp1e3ead",
         "1142555448",
         "Classic Double Room, 1 Queen Bed"
        ],
        [
         "16",
         "13570599",
         "lp1e3ead",
         "1142555454",
         "Superior Double Room"
        ],
        [
         "17",
         "13570599",
         "lp1e3ead",
         "1142555458",
         "Superior Twin Room"
        ],
        [
         "18",
         "6404576",
         "lp9ad2d",
         "640457601",
         "One-Bedroom Apartment"
        ],
        [
         "19",
         "6404576",
         "lp9ad2d",
         "640457602",
         "One-Bedroom Apartment"
        ],
        [
         "20",
         "13625945",
         "lp8004b",
         "1142319158",
         "Deluxe Suite, 1 Bedroom"
        ],
        [
         "21",
         "13625945",
         "lp8004b",
         "1142319370",
         "Superior Double or Twin Room, 1 Bedroom"
        ],
        [
         "22",
         "13625945",
         "lp8004b",
         "1142319487",
         "Comfort Apartment, 2 Bedrooms"
        ],
        [
         "23",
         "13625945",
         "lp8004b",
         "1142319792",
         "Family Room, 1 Bedroom"
        ],
        [
         "24",
         "13626535",
         "lp655917b7",
         "1142105952",
         "Apartment"
        ],
        [
         "25",
         "13627983",
         "lp6554fbee",
         "1142049959",
         "Private Vacation Home"
        ],
        [
         "26",
         "13628683",
         "lp267816",
         "1142328906",
         "Bungalow (Triple)"
        ],
        [
         "27",
         "13628683",
         "lp267816",
         "1142329100",
         "Bungalow (Double)"
        ],
        [
         "28",
         "13631599",
         "lp1868c7",
         "1142873958",
         "Standard Double Room"
        ],
        [
         "29",
         "13632041",
         "lp8c1b8",
         "1142923467",
         "Family Room"
        ],
        [
         "30",
         "13632041",
         "lp8c1b8",
         "1142923499",
         "Single Room"
        ],
        [
         "31",
         "13632041",
         "lp8c1b8",
         "1142923506",
         "Twin Room"
        ],
        [
         "32",
         "13632041",
         "lp8c1b8",
         "1142923522",
         "Suite, Balcony"
        ],
        [
         "33",
         "13632041",
         "lp8c1b8",
         "1142923534",
         "Double Room"
        ],
        [
         "34",
         "13632041",
         "lp8c1b8",
         "1142923544",
         "Suite, Garden View"
        ],
        [
         "35",
         "13632041",
         "lp8c1b8",
         "1142923556",
         "Superior Suite"
        ],
        [
         "36",
         "13632041",
         "lp8c1b8",
         "1142923566",
         "Suite"
        ],
        [
         "37",
         "13632041",
         "lp8c1b8",
         "1142923583",
         "Triple Room"
        ],
        [
         "38",
         "13631966",
         "lpf5ec5",
         "1142059566",
         "Double or Twin Room"
        ],
        [
         "39",
         "13632854",
         "lp1f2a5c",
         "1142331561",
         "Double or Twin Room"
        ],
        [
         "40",
         "13632854",
         "lp1f2a5c",
         "1142331732",
         "Suite, 1 King Bed"
        ],
        [
         "41",
         "13632854",
         "lp1f2a5c",
         "1142331749",
         "Deluxe Double or Twin Room, 1 King Bed"
        ],
        [
         "42",
         "13632854",
         "lp1f2a5c",
         "1142331962",
         "Double Room, 1 Double Bed"
        ],
        [
         "43",
         "7855856",
         "lp9bfad",
         "785585601",
         "One-Bedroom Apartment"
        ],
        [
         "44",
         "13633991",
         "lpc8873",
         "1142882662",
         "Double or Twin Room"
        ],
        [
         "45",
         "13635508",
         "lpcb5df",
         "1142606436",
         "Deluxe Room"
        ],
        [
         "46",
         "13635508",
         "lpcb5df",
         "1142606791",
         "Double or Twin Room"
        ],
        [
         "47",
         "13663278",
         "lp65591d5e",
         "1142097901",
         "Basic Apartment"
        ],
        [
         "48",
         "13663278",
         "lp65591d5e",
         "1142097933",
         "Studio"
        ],
        [
         "49",
         "13663278",
         "lp65591d5e",
         "1142097957",
         "Executive Studio"
        ],
        [
         "50",
         "13663278",
         "lp65591d5e",
         "1142097967",
         "Basic Studio"
        ],
        [
         "51",
         "13664162",
         "lpffdc8",
         "1142915591",
         "Suite"
        ],
        [
         "52",
         "13664162",
         "lpffdc8",
         "1142915596",
         "Deluxe Double Room"
        ]
       ],
       "shape": {
        "columns": 4,
        "rows": 73801
       }
      },
      "text/html": [
       "<div>\n",
       "<style scoped>\n",
       "    .dataframe tbody tr th:only-of-type {\n",
       "        vertical-align: middle;\n",
       "    }\n",
       "\n",
       "    .dataframe tbody tr th {\n",
       "        vertical-align: top;\n",
       "    }\n",
       "\n",
       "    .dataframe thead th {\n",
       "        text-align: right;\n",
       "    }\n",
       "</style>\n",
       "<table border=\"1\" class=\"dataframe\">\n",
       "  <thead>\n",
       "    <tr style=\"text-align: right;\">\n",
       "      <th></th>\n",
       "      <th>hotel_id</th>\n",
       "      <th>lp_id</th>\n",
       "      <th>room_id</th>\n",
       "      <th>room_name</th>\n",
       "    </tr>\n",
       "  </thead>\n",
       "  <tbody>\n",
       "    <tr>\n",
       "      <th>0</th>\n",
       "      <td>13484077</td>\n",
       "      <td>lp23e8ef</td>\n",
       "      <td>1142730702</td>\n",
       "      <td>Double or Twin Room</td>\n",
       "    </tr>\n",
       "    <tr>\n",
       "      <th>1</th>\n",
       "      <td>13487663</td>\n",
       "      <td>lp6554de34</td>\n",
       "      <td>1141927122</td>\n",
       "      <td>House</td>\n",
       "    </tr>\n",
       "    <tr>\n",
       "      <th>2</th>\n",
       "      <td>13462809</td>\n",
       "      <td>lp6556c3dc</td>\n",
       "      <td>1142722063</td>\n",
       "      <td>Room</td>\n",
       "    </tr>\n",
       "    <tr>\n",
       "      <th>3</th>\n",
       "      <td>13530116</td>\n",
       "      <td>lp6555450b</td>\n",
       "      <td>1141968275</td>\n",
       "      <td>Triple Room</td>\n",
       "    </tr>\n",
       "    <tr>\n",
       "      <th>4</th>\n",
       "      <td>13530071</td>\n",
       "      <td>lp6557a92c</td>\n",
       "      <td>1142513784</td>\n",
       "      <td>Apartment</td>\n",
       "    </tr>\n",
       "    <tr>\n",
       "      <th>...</th>\n",
       "      <td>...</td>\n",
       "      <td>...</td>\n",
       "      <td>...</td>\n",
       "      <td>...</td>\n",
       "    </tr>\n",
       "    <tr>\n",
       "      <th>99988</th>\n",
       "      <td>482128</td>\n",
       "      <td>lp65563022</td>\n",
       "      <td>48212802</td>\n",
       "      <td>Single Room</td>\n",
       "    </tr>\n",
       "    <tr>\n",
       "      <th>99989</th>\n",
       "      <td>482128</td>\n",
       "      <td>lp65563022</td>\n",
       "      <td>48212803</td>\n",
       "      <td>Superior Double or Twin Room with Lake View</td>\n",
       "    </tr>\n",
       "    <tr>\n",
       "      <th>99990</th>\n",
       "      <td>482128</td>\n",
       "      <td>lp65563022</td>\n",
       "      <td>48212808</td>\n",
       "      <td>Twin Room with Garden View</td>\n",
       "    </tr>\n",
       "    <tr>\n",
       "      <th>99991</th>\n",
       "      <td>482128</td>\n",
       "      <td>lp65563022</td>\n",
       "      <td>48212809</td>\n",
       "      <td>Deluxe Double or Twin Room with Lake View</td>\n",
       "    </tr>\n",
       "    <tr>\n",
       "      <th>99992</th>\n",
       "      <td>482128</td>\n",
       "      <td>lp65563022</td>\n",
       "      <td>48212810</td>\n",
       "      <td>King Room with Lake View</td>\n",
       "    </tr>\n",
       "  </tbody>\n",
       "</table>\n",
       "<p>73801 rows × 4 columns</p>\n",
       "</div>"
      ],
      "text/plain": [
       "       hotel_id       lp_id     room_id  \\\n",
       "0      13484077    lp23e8ef  1142730702   \n",
       "1      13487663  lp6554de34  1141927122   \n",
       "2      13462809  lp6556c3dc  1142722063   \n",
       "3      13530116  lp6555450b  1141968275   \n",
       "4      13530071  lp6557a92c  1142513784   \n",
       "...         ...         ...         ...   \n",
       "99988    482128  lp65563022    48212802   \n",
       "99989    482128  lp65563022    48212803   \n",
       "99990    482128  lp65563022    48212808   \n",
       "99991    482128  lp65563022    48212809   \n",
       "99992    482128  lp65563022    48212810   \n",
       "\n",
       "                                         room_name  \n",
       "0                              Double or Twin Room  \n",
       "1                                            House  \n",
       "2                                             Room  \n",
       "3                                      Triple Room  \n",
       "4                                        Apartment  \n",
       "...                                            ...  \n",
       "99988                                  Single Room  \n",
       "99989  Superior Double or Twin Room with Lake View  \n",
       "99990                   Twin Room with Garden View  \n",
       "99991    Deluxe Double or Twin Room with Lake View  \n",
       "99992                     King Room with Lake View  \n",
       "\n",
       "[73801 rows x 4 columns]"
      ]
     },
     "execution_count": 6,
     "metadata": {},
     "output_type": "execute_result"
    }
   ],
   "source": [
    "df_reference = df_reference_initial[df_reference_initial['lp_id'].isin(equal_ids)]\n",
    "df_reference"
   ]
  },
  {
   "cell_type": "code",
   "execution_count": 7,
   "metadata": {},
   "outputs": [
    {
     "data": {
      "application/vnd.microsoft.datawrangler.viewer.v0+json": {
       "columns": [
        {
         "name": "index",
         "rawType": "int64",
         "type": "integer"
        },
        {
         "name": "core_room_id",
         "rawType": "int64",
         "type": "integer"
        },
        {
         "name": "core_hotel_id",
         "rawType": "int64",
         "type": "integer"
        },
        {
         "name": "lp_id",
         "rawType": "object",
         "type": "string"
        },
        {
         "name": "supplier_room_id",
         "rawType": "int64",
         "type": "integer"
        },
        {
         "name": "supplier_name",
         "rawType": "object",
         "type": "string"
        },
        {
         "name": "supplier_room_name",
         "rawType": "object",
         "type": "string"
        }
       ],
       "conversionMethod": "pd.DataFrame",
       "ref": "52127240-3aac-4101-87f1-80b53d3d8a7b",
       "rows": [
        [
         "1",
         "2",
         "509236",
         "lp7c534",
         "200998017",
         "Expedia",
         "Deluxe Room, Balcony"
        ],
        [
         "4",
         "5",
         "970167",
         "lpecdb7",
         "218116045",
         "Expedia",
         "Traditional Cottage, 2 Bedrooms, Harbor View"
        ],
        [
         "6",
         "7",
         "626491",
         "lp98f3b",
         "201681924",
         "Expedia",
         "Comfort House, 6 Bedrooms, Ocean View"
        ],
        [
         "9",
         "10",
         "627565",
         "lp9936d",
         "201691684",
         "Expedia",
         "Family House, 4 Bedrooms"
        ],
        [
         "47",
         "48",
         "544769",
         "lp85001",
         "201249503",
         "Expedia",
         "Family Cabin"
        ],
        [
         "55",
         "56",
         "628385",
         "lp996a1",
         "201691656",
         "Expedia",
         "Family Condo, 3 Bedrooms"
        ],
        [
         "70",
         "71",
         "527903",
         "lp80e1f",
         "201138629",
         "Expedia",
         "Standard Studio, Accessible, Ground Floor"
        ],
        [
         "106",
         "107",
         "499494",
         "lp79f26",
         "200933889",
         "Expedia",
         "Superior Double Room"
        ],
        [
         "133",
         "134",
         "823034",
         "lpc8efa",
         "202457692",
         "Expedia",
         "Apartment, 2 Bedrooms, Sea View"
        ],
        [
         "220",
         "221",
         "627934",
         "lp994de",
         "201691736",
         "Expedia",
         "Family House, 6 Bedrooms"
        ],
        [
         "221",
         "222",
         "523819",
         "lp7fe2b",
         "314086868",
         "Expedia",
         "Room, 1 King Bed, Smoking, Ocean View"
        ],
        [
         "239",
         "240",
         "551064",
         "lp86898",
         "201290243",
         "Expedia",
         "Superior Apartment, 1 Bedroom"
        ],
        [
         "250",
         "251",
         "541380",
         "lp842c4",
         "201226437",
         "Expedia",
         "Premium Apartment, 3 Bedrooms"
        ],
        [
         "289",
         "290",
         "494805",
         "lp78cd5",
         "201014329",
         "Expedia",
         "Family Suite"
        ],
        [
         "342",
         "343",
         "565971",
         "lp8a2d3",
         "201384426",
         "Expedia",
         "Superior Apartment, 2 Bedrooms"
        ],
        [
         "394",
         "395",
         "545136",
         "lp85170",
         "201250489",
         "Expedia",
         "Cabin, 4 Bedrooms"
        ],
        [
         "411",
         "412",
         "493981",
         "lp7899d",
         "201113581",
         "Expedia",
         "Apartment D, 2 bedrooms (deposit by paypal required)"
        ],
        [
         "454",
         "455",
         "508516",
         "lp7c264",
         "217532054",
         "Expedia",
         "Private Rooms Shared Kitchen and Bath"
        ],
        [
         "465",
         "466",
         "510230",
         "lp7c916",
         "201009796",
         "Expedia",
         "Superior Room, Balcony"
        ],
        [
         "484",
         "485",
         "544795",
         "lp8501b",
         "201253947",
         "Expedia",
         "Classic Cabin, 3 Bedrooms"
        ],
        [
         "521",
         "522",
         "544970",
         "lp850ca",
         "201249566",
         "Expedia",
         "Chalet, 2 Bedrooms, Lakeside"
        ],
        [
         "531",
         "532",
         "513914",
         "lp7d77a",
         "201031288",
         "Expedia",
         "Double Room, 1 Bedroom, Lagoon View (Balcony)"
        ],
        [
         "538",
         "539",
         "544907",
         "lp8508b",
         "201249613",
         "Expedia",
         "Standard Apartment, 3 Bedrooms (18 Golden Square)"
        ],
        [
         "548",
         "549",
         "627935",
         "lp994df",
         "201691790",
         "Expedia",
         "Family House, 6 Bedrooms"
        ],
        [
         "581",
         "582",
         "599538",
         "lp925f2",
         "201545947",
         "Expedia",
         "Family Condo, 3 Bedrooms, Golf View, Garden Area"
        ],
        [
         "628",
         "629",
         "617881",
         "lp96d99",
         "220240290",
         "Expedia",
         "Apartment, 2 Bedrooms, Balcony, River View"
        ],
        [
         "635",
         "636",
         "576780",
         "lp8cd0c",
         "201456278",
         "Expedia",
         "Triple Room"
        ],
        [
         "654",
         "655",
         "593762",
         "lp90f62",
         "201523183",
         "Expedia",
         "Suite"
        ],
        [
         "688",
         "689",
         "544808",
         "lp85028",
         "201249502",
         "Expedia",
         "House, 6 Bedrooms"
        ],
        [
         "720",
         "721",
         "619341",
         "lp9734d",
         "201641675",
         "Expedia",
         "Family Villa, 5 Bedrooms, Golf View, Garden Area"
        ],
        [
         "731",
         "732",
         "971927",
         "lped497",
         "216612549",
         "Expedia",
         "Cottage"
        ],
        [
         "737",
         "738",
         "628717",
         "lp997ed",
         "201691719",
         "Expedia",
         "Family House, 4 Bedrooms"
        ],
        [
         "763",
         "764",
         "975753",
         "lpee389",
         "219317397",
         "Expedia",
         "Cottage"
        ],
        [
         "774",
         "775",
         "495203",
         "lp78e63",
         "200909236",
         "Expedia",
         "President Private Pool Villa"
        ],
        [
         "779",
         "780",
         "496199",
         "lp79247",
         "200976736",
         "Expedia",
         "Apartment, 3 Bedrooms, Balcony, Sea View (1st floor)"
        ],
        [
         "797",
         "798",
         "492595",
         "lp78433",
         "200896804",
         "Expedia",
         "Double Room"
        ],
        [
         "812",
         "813",
         "561572",
         "lp891a4",
         "201263147",
         "Expedia",
         "Superior Room"
        ],
        [
         "821",
         "822",
         "814875",
         "lpc6f1b",
         "219302563",
         "Expedia",
         "Deluxe Apartment, 2 Bedrooms, Sea View, Beachfront"
        ],
        [
         "840",
         "841",
         "555098",
         "lp8785a",
         "201315512",
         "Expedia",
         "Standard Room"
        ],
        [
         "845",
         "846",
         "514529",
         "lp7d9e1",
         "201034742",
         "Expedia",
         "Standard Room (A/C)"
        ],
        [
         "870",
         "871",
         "810707",
         "lpc5ed3",
         "202439479",
         "Expedia",
         "Studio, Terrace"
        ],
        [
         "872",
         "873",
         "701892",
         "lpab5c4",
         "202067126",
         "Expedia",
         "Studio (Studio South)"
        ],
        [
         "887",
         "888",
         "576056",
         "lp8ca38",
         "201452184",
         "Expedia",
         "House, 3 Bedrooms"
        ],
        [
         "908",
         "909",
         "972455",
         "lped6a7",
         "221718034",
         "Expedia",
         "Cottage"
        ],
        [
         "923",
         "924",
         "514166",
         "lp7d876",
         "201033475",
         "Expedia",
         "Quadruple Room (4 Japanese Futons)"
        ],
        [
         "1043",
         "1044",
         "879769",
         "lpd6c99",
         "215705992",
         "Expedia",
         "Standard Room, 1 Double Bed"
        ],
        [
         "1048",
         "1049",
         "683291",
         "lpa6d1b",
         "201916708",
         "Expedia",
         "Business Studio"
        ],
        [
         "1052",
         "1053",
         "529980",
         "lp8163c",
         "201141234",
         "Expedia",
         "Standard Twin Room"
        ],
        [
         "1058",
         "1059",
         "973643",
         "lpedb4b",
         "216312482",
         "Expedia",
         "Cottage"
        ],
        [
         "1063",
         "1064",
         "497049",
         "lp79599",
         "200931719",
         "Expedia",
         "Standard Double Room"
        ]
       ],
       "shape": {
        "columns": 6,
        "rows": 113718
       }
      },
      "text/html": [
       "<div>\n",
       "<style scoped>\n",
       "    .dataframe tbody tr th:only-of-type {\n",
       "        vertical-align: middle;\n",
       "    }\n",
       "\n",
       "    .dataframe tbody tr th {\n",
       "        vertical-align: top;\n",
       "    }\n",
       "\n",
       "    .dataframe thead th {\n",
       "        text-align: right;\n",
       "    }\n",
       "</style>\n",
       "<table border=\"1\" class=\"dataframe\">\n",
       "  <thead>\n",
       "    <tr style=\"text-align: right;\">\n",
       "      <th></th>\n",
       "      <th>core_room_id</th>\n",
       "      <th>core_hotel_id</th>\n",
       "      <th>lp_id</th>\n",
       "      <th>supplier_room_id</th>\n",
       "      <th>supplier_name</th>\n",
       "      <th>supplier_room_name</th>\n",
       "    </tr>\n",
       "  </thead>\n",
       "  <tbody>\n",
       "    <tr>\n",
       "      <th>1</th>\n",
       "      <td>2</td>\n",
       "      <td>509236</td>\n",
       "      <td>lp7c534</td>\n",
       "      <td>200998017</td>\n",
       "      <td>Expedia</td>\n",
       "      <td>Deluxe Room, Balcony</td>\n",
       "    </tr>\n",
       "    <tr>\n",
       "      <th>4</th>\n",
       "      <td>5</td>\n",
       "      <td>970167</td>\n",
       "      <td>lpecdb7</td>\n",
       "      <td>218116045</td>\n",
       "      <td>Expedia</td>\n",
       "      <td>Traditional Cottage, 2 Bedrooms, Harbor View</td>\n",
       "    </tr>\n",
       "    <tr>\n",
       "      <th>6</th>\n",
       "      <td>7</td>\n",
       "      <td>626491</td>\n",
       "      <td>lp98f3b</td>\n",
       "      <td>201681924</td>\n",
       "      <td>Expedia</td>\n",
       "      <td>Comfort House, 6 Bedrooms, Ocean View</td>\n",
       "    </tr>\n",
       "    <tr>\n",
       "      <th>9</th>\n",
       "      <td>10</td>\n",
       "      <td>627565</td>\n",
       "      <td>lp9936d</td>\n",
       "      <td>201691684</td>\n",
       "      <td>Expedia</td>\n",
       "      <td>Family House, 4 Bedrooms</td>\n",
       "    </tr>\n",
       "    <tr>\n",
       "      <th>47</th>\n",
       "      <td>48</td>\n",
       "      <td>544769</td>\n",
       "      <td>lp85001</td>\n",
       "      <td>201249503</td>\n",
       "      <td>Expedia</td>\n",
       "      <td>Family Cabin</td>\n",
       "    </tr>\n",
       "    <tr>\n",
       "      <th>...</th>\n",
       "      <td>...</td>\n",
       "      <td>...</td>\n",
       "      <td>...</td>\n",
       "      <td>...</td>\n",
       "      <td>...</td>\n",
       "      <td>...</td>\n",
       "    </tr>\n",
       "    <tr>\n",
       "      <th>2868987</th>\n",
       "      <td>2912375</td>\n",
       "      <td>1701692924</td>\n",
       "      <td>lp656dc5fc</td>\n",
       "      <td>322141874</td>\n",
       "      <td>Expedia</td>\n",
       "      <td>Basic Shared Dormitory (10 bunk beds, N2)</td>\n",
       "    </tr>\n",
       "    <tr>\n",
       "      <th>2869025</th>\n",
       "      <td>2912413</td>\n",
       "      <td>840974</td>\n",
       "      <td>lpcd50e</td>\n",
       "      <td>323988812</td>\n",
       "      <td>Expedia</td>\n",
       "      <td>Presidential Suite</td>\n",
       "    </tr>\n",
       "    <tr>\n",
       "      <th>2869026</th>\n",
       "      <td>2912414</td>\n",
       "      <td>840974</td>\n",
       "      <td>lpcd50e</td>\n",
       "      <td>323988824</td>\n",
       "      <td>Expedia</td>\n",
       "      <td>Presidential Villa</td>\n",
       "    </tr>\n",
       "    <tr>\n",
       "      <th>2869033</th>\n",
       "      <td>2912421</td>\n",
       "      <td>840974</td>\n",
       "      <td>lpcd50e</td>\n",
       "      <td>323988797</td>\n",
       "      <td>Expedia</td>\n",
       "      <td>Superior Twin</td>\n",
       "    </tr>\n",
       "    <tr>\n",
       "      <th>2869042</th>\n",
       "      <td>2912430</td>\n",
       "      <td>840974</td>\n",
       "      <td>lpcd50e</td>\n",
       "      <td>323988775</td>\n",
       "      <td>Expedia</td>\n",
       "      <td>Mongomo King Suite</td>\n",
       "    </tr>\n",
       "  </tbody>\n",
       "</table>\n",
       "<p>113718 rows × 6 columns</p>\n",
       "</div>"
      ],
      "text/plain": [
       "         core_room_id  core_hotel_id       lp_id  supplier_room_id  \\\n",
       "1                   2         509236     lp7c534         200998017   \n",
       "4                   5         970167     lpecdb7         218116045   \n",
       "6                   7         626491     lp98f3b         201681924   \n",
       "9                  10         627565     lp9936d         201691684   \n",
       "47                 48         544769     lp85001         201249503   \n",
       "...               ...            ...         ...               ...   \n",
       "2868987       2912375     1701692924  lp656dc5fc         322141874   \n",
       "2869025       2912413         840974     lpcd50e         323988812   \n",
       "2869026       2912414         840974     lpcd50e         323988824   \n",
       "2869033       2912421         840974     lpcd50e         323988797   \n",
       "2869042       2912430         840974     lpcd50e         323988775   \n",
       "\n",
       "        supplier_name                            supplier_room_name  \n",
       "1             Expedia                          Deluxe Room, Balcony  \n",
       "4             Expedia  Traditional Cottage, 2 Bedrooms, Harbor View  \n",
       "6             Expedia         Comfort House, 6 Bedrooms, Ocean View  \n",
       "9             Expedia                      Family House, 4 Bedrooms  \n",
       "47            Expedia                                  Family Cabin  \n",
       "...               ...                                           ...  \n",
       "2868987       Expedia     Basic Shared Dormitory (10 bunk beds, N2)  \n",
       "2869025       Expedia                            Presidential Suite  \n",
       "2869026       Expedia                            Presidential Villa  \n",
       "2869033       Expedia                                 Superior Twin  \n",
       "2869042       Expedia                            Mongomo King Suite  \n",
       "\n",
       "[113718 rows x 6 columns]"
      ]
     },
     "execution_count": 7,
     "metadata": {},
     "output_type": "execute_result"
    }
   ],
   "source": [
    "df_expedia = df_expedia_initial[df_expedia_initial['lp_id'].isin(equal_ids)]\n",
    "df_expedia"
   ]
  },
  {
   "cell_type": "markdown",
   "metadata": {},
   "source": [
    "### Room name preprocesing\n",
    "Cleaning, feature extraction, and normalization."
   ]
  },
  {
   "cell_type": "code",
   "execution_count": 8,
   "metadata": {},
   "outputs": [],
   "source": [
    "# Load SpaCy NLP model\n",
    "nlp = spacy.load(\"en_core_web_sm\")\n",
    "\n",
    "# Use nlp.pipe() to process multiple room names at once\n",
    "def preprocess_batch(texts):\n",
    "    \"\"\"Efficiently process a batch of text using nlp.pipe().\"\"\"\n",
    "    return [\" \".join([token.lemma_ for token in doc if not token.is_stop and not token.is_punct])\n",
    "            for doc in nlp.pipe(texts, batch_size=1000, n_process=8)]  # Adjust batch_size & n_process\n"
   ]
  },
  {
   "cell_type": "code",
   "execution_count": 9,
   "metadata": {},
   "outputs": [],
   "source": [
    "# Apply batch processing in df_reference\n",
    "df_reference = df_reference.copy()\n",
    "df_reference[\"processed_room_name\"] = preprocess_batch(df_reference[\"room_name\"].astype(str).tolist())"
   ]
  },
  {
   "cell_type": "code",
   "execution_count": 10,
   "metadata": {},
   "outputs": [],
   "source": [
    "# Apply batch processing in df_expedia\n",
    "df_expedia = df_expedia.copy()\n",
    "df_expedia[\"processed_room_name\"] = preprocess_batch(df_expedia[\"supplier_room_name\"].astype(str).tolist())"
   ]
  },
  {
   "cell_type": "markdown",
   "metadata": {},
   "source": [
    "Save both datasets in the folder data/processed."
   ]
  },
  {
   "cell_type": "code",
   "execution_count": 11,
   "metadata": {},
   "outputs": [],
   "source": [
    "df_reference.to_csv(\"data/processed/reference_rooms.csv\")"
   ]
  },
  {
   "cell_type": "code",
   "execution_count": 12,
   "metadata": {},
   "outputs": [],
   "source": [
    "df_expedia.to_csv(\"data/processed/expedia_rooms.csv\")"
   ]
  },
  {
   "cell_type": "code",
   "execution_count": null,
   "metadata": {},
   "outputs": [],
   "source": []
  }
 ],
 "metadata": {
  "kernelspec": {
   "display_name": "cupid",
   "language": "python",
   "name": "python3"
  },
  "language_info": {
   "codemirror_mode": {
    "name": "ipython",
    "version": 3
   },
   "file_extension": ".py",
   "mimetype": "text/x-python",
   "name": "python",
   "nbconvert_exporter": "python",
   "pygments_lexer": "ipython3",
   "version": "3.11.11"
  }
 },
 "nbformat": 4,
 "nbformat_minor": 2
}
