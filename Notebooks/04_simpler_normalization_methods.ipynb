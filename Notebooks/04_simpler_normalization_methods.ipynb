{
 "cells": [
  {
   "cell_type": "markdown",
   "metadata": {},
   "source": [
    "# Simpler Normalization Methods\n",
    "\n",
    "In this notebook we'll try simpler normalization techniques because in the API we receive time out error."
   ]
  },
  {
   "cell_type": "code",
   "execution_count": 1,
   "metadata": {},
   "outputs": [],
   "source": [
    "# Imports\n",
    "import pandas as pd\n",
    "import os\n",
    "import spacy\n",
    "from sklearn.feature_extraction.text import TfidfVectorizer\n",
    "from sklearn.cluster import KMeans, DBSCAN\n",
    "# from fuzzywuzzy import fuzz\n",
    "from rapidfuzz import process, fuzz"
   ]
  },
  {
   "cell_type": "code",
   "execution_count": 2,
   "metadata": {},
   "outputs": [],
   "source": [
    "# Go one folder back\n",
    "os.chdir('..')"
   ]
  },
  {
   "cell_type": "code",
   "execution_count": 3,
   "metadata": {},
   "outputs": [
    {
     "data": {
      "application/vnd.microsoft.datawrangler.viewer.v0+json": {
       "columns": [
        {
         "name": "index",
         "rawType": "int64",
         "type": "integer"
        },
        {
         "name": "hotel_id",
         "rawType": "int64",
         "type": "integer"
        },
        {
         "name": "lp_id",
         "rawType": "object",
         "type": "string"
        },
        {
         "name": "room_id",
         "rawType": "int64",
         "type": "integer"
        },
        {
         "name": "room_name",
         "rawType": "object",
         "type": "string"
        }
       ],
       "conversionMethod": "pd.DataFrame",
       "ref": "88a09b1c-b00a-49d6-90f7-acfbdd81f9c5",
       "rows": [
        [
         "0",
         "13484077",
         "lp23e8ef",
         "1142730702",
         "Double or Twin Room"
        ],
        [
         "1",
         "13487663",
         "lp6554de34",
         "1141927122",
         "House"
        ],
        [
         "2",
         "13462809",
         "lp6556c3dc",
         "1142722063",
         "Room"
        ],
        [
         "3",
         "13530116",
         "lp6555450b",
         "1141968275",
         "Triple Room"
        ],
        [
         "4",
         "13530071",
         "lp6557a92c",
         "1142513784",
         "Apartment"
        ],
        [
         "5",
         "13530384",
         "lp6555c6ef",
         "1141970143",
         "Room (Jasmine)"
        ],
        [
         "6",
         "13530384",
         "lp6555c6ef",
         "1141970185",
         "Room (Roseherb)"
        ],
        [
         "7",
         "13530384",
         "lp6555c6ef",
         "1141970194",
         "Room (Mint)"
        ],
        [
         "8",
         "13530384",
         "lp6555c6ef",
         "1141970198",
         "Room"
        ],
        [
         "9",
         "13530384",
         "lp6555c6ef",
         "1141970215",
         "Room (Rosemary)"
        ],
        [
         "10",
         "13464693",
         "lp65575ead",
         "1141908927",
         "Room (Twin (corona safe room))"
        ],
        [
         "11",
         "7389404",
         "lp6562eb48",
         "738940402",
         "One-Bedroom Apartment"
        ],
        [
         "12",
         "7389404",
         "lp6562eb48",
         "738940403",
         "Apartment with Shower"
        ],
        [
         "13",
         "7389404",
         "lp6562eb48",
         "738940404",
         "Deluxe Apartment"
        ],
        [
         "14",
         "13570599",
         "lp1e3ead",
         "1142555442",
         "Classic Twin Room"
        ],
        [
         "15",
         "13570599",
         "lp1e3ead",
         "1142555448",
         "Classic Double Room, 1 Queen Bed"
        ],
        [
         "16",
         "13570599",
         "lp1e3ead",
         "1142555454",
         "Superior Double Room"
        ],
        [
         "17",
         "13570599",
         "lp1e3ead",
         "1142555458",
         "Superior Twin Room"
        ],
        [
         "18",
         "6404576",
         "lp9ad2d",
         "640457601",
         "One-Bedroom Apartment"
        ],
        [
         "19",
         "6404576",
         "lp9ad2d",
         "640457602",
         "One-Bedroom Apartment"
        ],
        [
         "20",
         "13625945",
         "lp8004b",
         "1142319158",
         "Deluxe Suite, 1 Bedroom"
        ],
        [
         "21",
         "13625945",
         "lp8004b",
         "1142319370",
         "Superior Double or Twin Room, 1 Bedroom"
        ],
        [
         "22",
         "13625945",
         "lp8004b",
         "1142319487",
         "Comfort Apartment, 2 Bedrooms"
        ],
        [
         "23",
         "13625945",
         "lp8004b",
         "1142319792",
         "Family Room, 1 Bedroom"
        ],
        [
         "24",
         "13626535",
         "lp655917b7",
         "1142105952",
         "Apartment"
        ],
        [
         "25",
         "13627983",
         "lp6554fbee",
         "1142049959",
         "Private Vacation Home"
        ],
        [
         "26",
         "13628683",
         "lp267816",
         "1142328906",
         "Bungalow (Triple)"
        ],
        [
         "27",
         "13628683",
         "lp267816",
         "1142329100",
         "Bungalow (Double)"
        ],
        [
         "28",
         "13631599",
         "lp1868c7",
         "1142873958",
         "Standard Double Room"
        ],
        [
         "29",
         "13632041",
         "lp8c1b8",
         "1142923467",
         "Family Room"
        ],
        [
         "30",
         "13632041",
         "lp8c1b8",
         "1142923499",
         "Single Room"
        ],
        [
         "31",
         "13632041",
         "lp8c1b8",
         "1142923506",
         "Twin Room"
        ],
        [
         "32",
         "13632041",
         "lp8c1b8",
         "1142923522",
         "Suite, Balcony"
        ],
        [
         "33",
         "13632041",
         "lp8c1b8",
         "1142923534",
         "Double Room"
        ],
        [
         "34",
         "13632041",
         "lp8c1b8",
         "1142923544",
         "Suite, Garden View"
        ],
        [
         "35",
         "13632041",
         "lp8c1b8",
         "1142923556",
         "Superior Suite"
        ],
        [
         "36",
         "13632041",
         "lp8c1b8",
         "1142923566",
         "Suite"
        ],
        [
         "37",
         "13632041",
         "lp8c1b8",
         "1142923583",
         "Triple Room"
        ],
        [
         "38",
         "13631966",
         "lpf5ec5",
         "1142059566",
         "Double or Twin Room"
        ],
        [
         "39",
         "13632854",
         "lp1f2a5c",
         "1142331561",
         "Double or Twin Room"
        ],
        [
         "40",
         "13632854",
         "lp1f2a5c",
         "1142331732",
         "Suite, 1 King Bed"
        ],
        [
         "41",
         "13632854",
         "lp1f2a5c",
         "1142331749",
         "Deluxe Double or Twin Room, 1 King Bed"
        ],
        [
         "42",
         "13632854",
         "lp1f2a5c",
         "1142331962",
         "Double Room, 1 Double Bed"
        ],
        [
         "43",
         "7855856",
         "lp9bfad",
         "785585601",
         "One-Bedroom Apartment"
        ],
        [
         "44",
         "13633991",
         "lpc8873",
         "1142882662",
         "Double or Twin Room"
        ],
        [
         "45",
         "13635508",
         "lpcb5df",
         "1142606436",
         "Deluxe Room"
        ],
        [
         "46",
         "13635508",
         "lpcb5df",
         "1142606791",
         "Double or Twin Room"
        ],
        [
         "47",
         "13663278",
         "lp65591d5e",
         "1142097901",
         "Basic Apartment"
        ],
        [
         "48",
         "13663278",
         "lp65591d5e",
         "1142097933",
         "Studio"
        ],
        [
         "49",
         "13663278",
         "lp65591d5e",
         "1142097957",
         "Executive Studio"
        ]
       ],
       "shape": {
        "columns": 4,
        "rows": 100000
       }
      },
      "text/html": [
       "<div>\n",
       "<style scoped>\n",
       "    .dataframe tbody tr th:only-of-type {\n",
       "        vertical-align: middle;\n",
       "    }\n",
       "\n",
       "    .dataframe tbody tr th {\n",
       "        vertical-align: top;\n",
       "    }\n",
       "\n",
       "    .dataframe thead th {\n",
       "        text-align: right;\n",
       "    }\n",
       "</style>\n",
       "<table border=\"1\" class=\"dataframe\">\n",
       "  <thead>\n",
       "    <tr style=\"text-align: right;\">\n",
       "      <th></th>\n",
       "      <th>hotel_id</th>\n",
       "      <th>lp_id</th>\n",
       "      <th>room_id</th>\n",
       "      <th>room_name</th>\n",
       "    </tr>\n",
       "  </thead>\n",
       "  <tbody>\n",
       "    <tr>\n",
       "      <th>0</th>\n",
       "      <td>13484077</td>\n",
       "      <td>lp23e8ef</td>\n",
       "      <td>1142730702</td>\n",
       "      <td>Double or Twin Room</td>\n",
       "    </tr>\n",
       "    <tr>\n",
       "      <th>1</th>\n",
       "      <td>13487663</td>\n",
       "      <td>lp6554de34</td>\n",
       "      <td>1141927122</td>\n",
       "      <td>House</td>\n",
       "    </tr>\n",
       "    <tr>\n",
       "      <th>2</th>\n",
       "      <td>13462809</td>\n",
       "      <td>lp6556c3dc</td>\n",
       "      <td>1142722063</td>\n",
       "      <td>Room</td>\n",
       "    </tr>\n",
       "    <tr>\n",
       "      <th>3</th>\n",
       "      <td>13530116</td>\n",
       "      <td>lp6555450b</td>\n",
       "      <td>1141968275</td>\n",
       "      <td>Triple Room</td>\n",
       "    </tr>\n",
       "    <tr>\n",
       "      <th>4</th>\n",
       "      <td>13530071</td>\n",
       "      <td>lp6557a92c</td>\n",
       "      <td>1142513784</td>\n",
       "      <td>Apartment</td>\n",
       "    </tr>\n",
       "    <tr>\n",
       "      <th>...</th>\n",
       "      <td>...</td>\n",
       "      <td>...</td>\n",
       "      <td>...</td>\n",
       "      <td>...</td>\n",
       "    </tr>\n",
       "    <tr>\n",
       "      <th>99995</th>\n",
       "      <td>21684</td>\n",
       "      <td>lp6561b025</td>\n",
       "      <td>2168409</td>\n",
       "      <td>Two-Bedroom Suite</td>\n",
       "    </tr>\n",
       "    <tr>\n",
       "      <th>99996</th>\n",
       "      <td>21684</td>\n",
       "      <td>lp6561b025</td>\n",
       "      <td>2168411</td>\n",
       "      <td>Deluxe Triple Room</td>\n",
       "    </tr>\n",
       "    <tr>\n",
       "      <th>99997</th>\n",
       "      <td>21684</td>\n",
       "      <td>lp6561b025</td>\n",
       "      <td>2168412</td>\n",
       "      <td>Deluxe Queen Room with Two Queen Beds</td>\n",
       "    </tr>\n",
       "    <tr>\n",
       "      <th>99998</th>\n",
       "      <td>21684</td>\n",
       "      <td>lp6561b025</td>\n",
       "      <td>2168413</td>\n",
       "      <td>Classic Quadruple Room</td>\n",
       "    </tr>\n",
       "    <tr>\n",
       "      <th>99999</th>\n",
       "      <td>21684</td>\n",
       "      <td>lp6561b025</td>\n",
       "      <td>2168414</td>\n",
       "      <td>Standard King Room</td>\n",
       "    </tr>\n",
       "  </tbody>\n",
       "</table>\n",
       "<p>100000 rows × 4 columns</p>\n",
       "</div>"
      ],
      "text/plain": [
       "       hotel_id       lp_id     room_id                              room_name\n",
       "0      13484077    lp23e8ef  1142730702                    Double or Twin Room\n",
       "1      13487663  lp6554de34  1141927122                                  House\n",
       "2      13462809  lp6556c3dc  1142722063                                   Room\n",
       "3      13530116  lp6555450b  1141968275                            Triple Room\n",
       "4      13530071  lp6557a92c  1142513784                              Apartment\n",
       "...         ...         ...         ...                                    ...\n",
       "99995     21684  lp6561b025     2168409                      Two-Bedroom Suite\n",
       "99996     21684  lp6561b025     2168411                     Deluxe Triple Room\n",
       "99997     21684  lp6561b025     2168412  Deluxe Queen Room with Two Queen Beds\n",
       "99998     21684  lp6561b025     2168413                 Classic Quadruple Room\n",
       "99999     21684  lp6561b025     2168414                     Standard King Room\n",
       "\n",
       "[100000 rows x 4 columns]"
      ]
     },
     "execution_count": 3,
     "metadata": {},
     "output_type": "execute_result"
    }
   ],
   "source": [
    "file_url_reference = \"Data/referance_rooms-1737378184366.csv\"\n",
    "\n",
    "df_reference_initial = pd.read_csv(file_url_reference)\n",
    "df_reference_initial"
   ]
  },
  {
   "cell_type": "code",
   "execution_count": 4,
   "metadata": {},
   "outputs": [
    {
     "data": {
      "application/vnd.microsoft.datawrangler.viewer.v0+json": {
       "columns": [
        {
         "name": "index",
         "rawType": "int64",
         "type": "integer"
        },
        {
         "name": "core_room_id",
         "rawType": "int64",
         "type": "integer"
        },
        {
         "name": "core_hotel_id",
         "rawType": "int64",
         "type": "integer"
        },
        {
         "name": "lp_id",
         "rawType": "object",
         "type": "string"
        },
        {
         "name": "supplier_room_id",
         "rawType": "int64",
         "type": "integer"
        },
        {
         "name": "supplier_name",
         "rawType": "object",
         "type": "string"
        },
        {
         "name": "supplier_room_name",
         "rawType": "object",
         "type": "unknown"
        }
       ],
       "conversionMethod": "pd.DataFrame",
       "ref": "41c40af9-e379-482c-9a18-c170ae9e21d5",
       "rows": [
        [
         "0",
         "1",
         "506732",
         "lp7bb6c",
         "200979491",
         "Expedia",
         "Superior Double Room"
        ],
        [
         "1",
         "2",
         "509236",
         "lp7c534",
         "200998017",
         "Expedia",
         "Deluxe Room, Balcony"
        ],
        [
         "2",
         "3",
         "516326",
         "lp7e0e6",
         "201144757",
         "Expedia",
         "Female Dormitory- 3 Beds"
        ],
        [
         "3",
         "4",
         "495330",
         "lp78ee2",
         "201028863",
         "Expedia",
         "Standard Apartment, 2 Bedrooms (6 people)"
        ],
        [
         "4",
         "5",
         "970167",
         "lpecdb7",
         "218116045",
         "Expedia",
         "Traditional Cottage, 2 Bedrooms, Harbor View"
        ],
        [
         "5",
         "6",
         "628058",
         "lp9955a",
         "201691752",
         "Expedia",
         "Family House, 6 Bedrooms"
        ],
        [
         "6",
         "7",
         "626491",
         "lp98f3b",
         "201681924",
         "Expedia",
         "Comfort House, 6 Bedrooms, Ocean View"
        ],
        [
         "7",
         "8",
         "645487",
         "lp9d96f",
         "201777964",
         "Expedia",
         "Deluxe Apartment, Executive Level"
        ],
        [
         "8",
         "9",
         "649700",
         "lp9e9e4",
         "201788627",
         "Expedia",
         "House, 3 Bedrooms"
        ],
        [
         "9",
         "10",
         "627565",
         "lp9936d",
         "201691684",
         "Expedia",
         "Family House, 4 Bedrooms"
        ],
        [
         "10",
         "11",
         "493566",
         "lp787fe",
         "200911136",
         "Expedia",
         "Luxury Apartment, 1 Bedroom, City View"
        ],
        [
         "11",
         "12",
         "544944",
         "lp850b0",
         "201249058",
         "Expedia",
         "Chalet, 3 Bedrooms"
        ],
        [
         "12",
         "13",
         "566206",
         "lp8a3be",
         "220806364",
         "Expedia",
         "Signature Apartment, 1 Bedroom"
        ],
        [
         "13",
         "14",
         "494804",
         "lp78cd4",
         "200907088",
         "Expedia",
         "Deluxe Room"
        ],
        [
         "14",
         "15",
         "532308",
         "lp81f54",
         "201195949",
         "Expedia",
         "Standard Apartment, 1 Bedroom"
        ],
        [
         "15",
         "16",
         "509808",
         "lp7c770",
         "201052040",
         "Expedia",
         "Traditional Room (Sode)"
        ],
        [
         "16",
         "17",
         "632152",
         "lp9a558",
         "201711703",
         "Expedia",
         "Condo, 3 Bedrooms"
        ],
        [
         "17",
         "18",
         "627562",
         "lp9936a",
         "201691675",
         "Expedia",
         "Family House, 6 Bedrooms"
        ],
        [
         "18",
         "19",
         "533436",
         "lp823bc",
         "201167133",
         "Expedia",
         "Twin Room, 2 Twin Beds, Non Smoking"
        ],
        [
         "19",
         "20",
         "677272",
         "lpa5598",
         "201888454",
         "Expedia",
         "House, 3 Bedrooms"
        ],
        [
         "20",
         "21",
         "932563",
         "lpe3ad3",
         "213608785",
         "Expedia",
         "Chalet, Multiple Beds, Non Smoking"
        ],
        [
         "21",
         "22",
         "1700176647",
         "lp6556a307",
         "315454439",
         "Expedia",
         "Superior Apartment, Ensuite (ELISABETH G/G)"
        ],
        [
         "22",
         "23",
         "626648",
         "lp98fd8",
         "201681804",
         "Expedia",
         "Family House, 5 Bedrooms, Courtyard Area"
        ],
        [
         "23",
         "24",
         "552973",
         "lp8700d",
         "201305560",
         "Expedia",
         "Deluxe Twin Room"
        ],
        [
         "24",
         "25",
         "628582",
         "lp99766",
         "201691395",
         "Expedia",
         "House, 3 Bedrooms"
        ],
        [
         "25",
         "26",
         "529670",
         "lp81506",
         "201139567",
         "Expedia",
         "Superior Villa, 3 Bedrooms"
        ],
        [
         "26",
         "27",
         "707650",
         "lpacc42",
         "202027590",
         "Expedia",
         "House"
        ],
        [
         "27",
         "28",
         "530747",
         "lp8193b",
         "201145979",
         "Expedia",
         "Traditional Apartment, Kitchen, Courtyard Area"
        ],
        [
         "28",
         "29",
         "631999",
         "lp9a4bf",
         "201711825",
         "Expedia",
         "Condo, 4 Bedrooms"
        ],
        [
         "29",
         "30",
         "627536",
         "lp99350",
         "201691787",
         "Expedia",
         "Family House, 6 Bedrooms"
        ],
        [
         "30",
         "31",
         "544703",
         "lp84fbf",
         "201249048",
         "Expedia",
         "Condo, 2 Bedrooms"
        ],
        [
         "31",
         "32",
         "512153",
         "lp7d099",
         "201019438",
         "Expedia",
         "Standard Room"
        ],
        [
         "32",
         "33",
         "544738",
         "lp84fe2",
         "201249454",
         "Expedia",
         "Classic Cabin, 3 Bedrooms"
        ],
        [
         "33",
         "34",
         "548795",
         "lp85fbb",
         "201274931",
         "Expedia",
         "Apartment, 2 Bedrooms (Civetta 3)"
        ],
        [
         "34",
         "35",
         "628023",
         "lp99537",
         "201691666",
         "Expedia",
         "Family House, 5 Bedrooms"
        ],
        [
         "35",
         "36",
         "495317",
         "lp78ed5",
         "201036602",
         "Expedia",
         "Standard Apartment, 3 Bedrooms (for 6 people)"
        ],
        [
         "36",
         "37",
         "624782",
         "lp9888e",
         "201681807",
         "Expedia",
         "Comfort House, 4 Bedrooms, Ocean View"
        ],
        [
         "37",
         "38",
         "492232",
         "lp782c8",
         "200895340",
         "Expedia",
         "Superior Apartment, 1 Bedroom"
        ],
        [
         "38",
         "39",
         "649699",
         "lp9e9e3",
         "201788621",
         "Expedia",
         "House, 3 Bedrooms"
        ],
        [
         "39",
         "40",
         "513944",
         "lp7d798",
         "201031277",
         "Expedia",
         "Apartment, 1 Bedroom, Terrace, Ocean View"
        ],
        [
         "40",
         "41",
         "533373",
         "lp8237d",
         "201166631",
         "Expedia",
         "Apartment, 2 Bedrooms"
        ],
        [
         "41",
         "42",
         "554772",
         "lp87714",
         "201301925",
         "Expedia",
         "Luxury Apartment, 2 Bedrooms, Balcony"
        ],
        [
         "42",
         "43",
         "574318",
         "lp8c36e",
         "201443056",
         "Expedia",
         "Superior Apartment, 2 Bedrooms, Balcony"
        ],
        [
         "43",
         "44",
         "691615",
         "lpa8d9f",
         "219314414",
         "Expedia",
         "Apartment (Party Palace)"
        ],
        [
         "44",
         "45",
         "628421",
         "lp996c5",
         "201691668",
         "Expedia",
         "Family House, 6 Bedrooms"
        ],
        [
         "45",
         "46",
         "626279",
         "lp98e67",
         "201681803",
         "Expedia",
         "Family House, 2 Bedrooms"
        ],
        [
         "46",
         "47",
         "624918",
         "lp98916",
         "201681702",
         "Expedia",
         "Apartment, 4 Bedrooms"
        ],
        [
         "47",
         "48",
         "544769",
         "lp85001",
         "201249503",
         "Expedia",
         "Family Cabin"
        ],
        [
         "48",
         "49",
         "511654",
         "lp7cea6",
         "201019580",
         "Expedia",
         "Luxury Villa, 4 Bedrooms, Ocean View"
        ],
        [
         "49",
         "50",
         "1700176589",
         "lp6556a2cd",
         "321168538",
         "Expedia",
         "Condo, 3 Bedrooms"
        ]
       ],
       "shape": {
        "columns": 6,
        "rows": 2869056
       }
      },
      "text/html": [
       "<div>\n",
       "<style scoped>\n",
       "    .dataframe tbody tr th:only-of-type {\n",
       "        vertical-align: middle;\n",
       "    }\n",
       "\n",
       "    .dataframe tbody tr th {\n",
       "        vertical-align: top;\n",
       "    }\n",
       "\n",
       "    .dataframe thead th {\n",
       "        text-align: right;\n",
       "    }\n",
       "</style>\n",
       "<table border=\"1\" class=\"dataframe\">\n",
       "  <thead>\n",
       "    <tr style=\"text-align: right;\">\n",
       "      <th></th>\n",
       "      <th>core_room_id</th>\n",
       "      <th>core_hotel_id</th>\n",
       "      <th>lp_id</th>\n",
       "      <th>supplier_room_id</th>\n",
       "      <th>supplier_name</th>\n",
       "      <th>supplier_room_name</th>\n",
       "    </tr>\n",
       "  </thead>\n",
       "  <tbody>\n",
       "    <tr>\n",
       "      <th>0</th>\n",
       "      <td>1</td>\n",
       "      <td>506732</td>\n",
       "      <td>lp7bb6c</td>\n",
       "      <td>200979491</td>\n",
       "      <td>Expedia</td>\n",
       "      <td>Superior Double Room</td>\n",
       "    </tr>\n",
       "    <tr>\n",
       "      <th>1</th>\n",
       "      <td>2</td>\n",
       "      <td>509236</td>\n",
       "      <td>lp7c534</td>\n",
       "      <td>200998017</td>\n",
       "      <td>Expedia</td>\n",
       "      <td>Deluxe Room, Balcony</td>\n",
       "    </tr>\n",
       "    <tr>\n",
       "      <th>2</th>\n",
       "      <td>3</td>\n",
       "      <td>516326</td>\n",
       "      <td>lp7e0e6</td>\n",
       "      <td>201144757</td>\n",
       "      <td>Expedia</td>\n",
       "      <td>Female Dormitory- 3 Beds</td>\n",
       "    </tr>\n",
       "    <tr>\n",
       "      <th>3</th>\n",
       "      <td>4</td>\n",
       "      <td>495330</td>\n",
       "      <td>lp78ee2</td>\n",
       "      <td>201028863</td>\n",
       "      <td>Expedia</td>\n",
       "      <td>Standard Apartment, 2 Bedrooms (6 people)</td>\n",
       "    </tr>\n",
       "    <tr>\n",
       "      <th>4</th>\n",
       "      <td>5</td>\n",
       "      <td>970167</td>\n",
       "      <td>lpecdb7</td>\n",
       "      <td>218116045</td>\n",
       "      <td>Expedia</td>\n",
       "      <td>Traditional Cottage, 2 Bedrooms, Harbor View</td>\n",
       "    </tr>\n",
       "    <tr>\n",
       "      <th>...</th>\n",
       "      <td>...</td>\n",
       "      <td>...</td>\n",
       "      <td>...</td>\n",
       "      <td>...</td>\n",
       "      <td>...</td>\n",
       "      <td>...</td>\n",
       "    </tr>\n",
       "    <tr>\n",
       "      <th>2869051</th>\n",
       "      <td>2912439</td>\n",
       "      <td>193359</td>\n",
       "      <td>lp2f34f</td>\n",
       "      <td>323872346</td>\n",
       "      <td>Expedia</td>\n",
       "      <td>Deluxe Room, 1 King Bed with Sofa bed</td>\n",
       "    </tr>\n",
       "    <tr>\n",
       "      <th>2869052</th>\n",
       "      <td>2912440</td>\n",
       "      <td>143473</td>\n",
       "      <td>lp23071</td>\n",
       "      <td>230770971</td>\n",
       "      <td>Expedia</td>\n",
       "      <td>Ocean Bay Pool Room</td>\n",
       "    </tr>\n",
       "    <tr>\n",
       "      <th>2869053</th>\n",
       "      <td>2912441</td>\n",
       "      <td>1701692958</td>\n",
       "      <td>lp656dc61e</td>\n",
       "      <td>322166812</td>\n",
       "      <td>Expedia</td>\n",
       "      <td>8 Berth Luxury Caravan</td>\n",
       "    </tr>\n",
       "    <tr>\n",
       "      <th>2869054</th>\n",
       "      <td>2912442</td>\n",
       "      <td>143473</td>\n",
       "      <td>lp23071</td>\n",
       "      <td>315521742</td>\n",
       "      <td>Expedia</td>\n",
       "      <td>Beach Room</td>\n",
       "    </tr>\n",
       "    <tr>\n",
       "      <th>2869055</th>\n",
       "      <td>2912443</td>\n",
       "      <td>143473</td>\n",
       "      <td>lp23071</td>\n",
       "      <td>315521743</td>\n",
       "      <td>Expedia</td>\n",
       "      <td>Hibiscus Suite</td>\n",
       "    </tr>\n",
       "  </tbody>\n",
       "</table>\n",
       "<p>2869056 rows × 6 columns</p>\n",
       "</div>"
      ],
      "text/plain": [
       "         core_room_id  core_hotel_id       lp_id  supplier_room_id  \\\n",
       "0                   1         506732     lp7bb6c         200979491   \n",
       "1                   2         509236     lp7c534         200998017   \n",
       "2                   3         516326     lp7e0e6         201144757   \n",
       "3                   4         495330     lp78ee2         201028863   \n",
       "4                   5         970167     lpecdb7         218116045   \n",
       "...               ...            ...         ...               ...   \n",
       "2869051       2912439         193359     lp2f34f         323872346   \n",
       "2869052       2912440         143473     lp23071         230770971   \n",
       "2869053       2912441     1701692958  lp656dc61e         322166812   \n",
       "2869054       2912442         143473     lp23071         315521742   \n",
       "2869055       2912443         143473     lp23071         315521743   \n",
       "\n",
       "        supplier_name                            supplier_room_name  \n",
       "0             Expedia                          Superior Double Room  \n",
       "1             Expedia                          Deluxe Room, Balcony  \n",
       "2             Expedia                      Female Dormitory- 3 Beds  \n",
       "3             Expedia     Standard Apartment, 2 Bedrooms (6 people)  \n",
       "4             Expedia  Traditional Cottage, 2 Bedrooms, Harbor View  \n",
       "...               ...                                           ...  \n",
       "2869051       Expedia         Deluxe Room, 1 King Bed with Sofa bed  \n",
       "2869052       Expedia                           Ocean Bay Pool Room  \n",
       "2869053       Expedia                        8 Berth Luxury Caravan  \n",
       "2869054       Expedia                                    Beach Room  \n",
       "2869055       Expedia                                Hibiscus Suite  \n",
       "\n",
       "[2869056 rows x 6 columns]"
      ]
     },
     "execution_count": 4,
     "metadata": {},
     "output_type": "execute_result"
    }
   ],
   "source": [
    "file_url_expedia = \"Data/updated_core_rooms.csv\"\n",
    "\n",
    "df_expedia_initial = pd.read_csv(file_url_expedia)\n",
    "df_expedia_initial"
   ]
  },
  {
   "cell_type": "markdown",
   "metadata": {},
   "source": [
    "### Data cleaning\n",
    "Check how many ids are equal in both datasets:\n",
    "\n",
    "df_reference['hotel_id'] and df_expedia['core_hotel_id']"
   ]
  },
  {
   "cell_type": "code",
   "execution_count": 5,
   "metadata": {},
   "outputs": [
    {
     "name": "stdout",
     "output_type": "stream",
     "text": [
      "Number of equal IDs: 28638\n"
     ]
    }
   ],
   "source": [
    "# Convert the columns to sets\n",
    "set_1 = set(df_reference_initial['lp_id'])\n",
    "set_2 = set(df_expedia_initial['lp_id'])\n",
    "\n",
    "# Find the intersection of the sets\n",
    "equal_ids = set_1.intersection(set_2)\n",
    "\n",
    "# Count the number of equal IDs\n",
    "count_equal_ids = len(equal_ids)\n",
    "\n",
    "# Display the results\n",
    "print(\"Number of equal IDs:\", count_equal_ids)"
   ]
  },
  {
   "cell_type": "markdown",
   "metadata": {},
   "source": [
    "We will keep only the hotels from the reference that are found in both datasets, because those are the only rooms that will need to be matched."
   ]
  },
  {
   "cell_type": "code",
   "execution_count": 6,
   "metadata": {},
   "outputs": [
    {
     "data": {
      "application/vnd.microsoft.datawrangler.viewer.v0+json": {
       "columns": [
        {
         "name": "index",
         "rawType": "int64",
         "type": "integer"
        },
        {
         "name": "hotel_id",
         "rawType": "int64",
         "type": "integer"
        },
        {
         "name": "lp_id",
         "rawType": "object",
         "type": "string"
        },
        {
         "name": "room_id",
         "rawType": "int64",
         "type": "integer"
        },
        {
         "name": "room_name",
         "rawType": "object",
         "type": "string"
        }
       ],
       "conversionMethod": "pd.DataFrame",
       "ref": "a137c279-c8cd-47dc-a004-b115e109f6bc",
       "rows": [
        [
         "0",
         "13484077",
         "lp23e8ef",
         "1142730702",
         "Double or Twin Room"
        ],
        [
         "1",
         "13487663",
         "lp6554de34",
         "1141927122",
         "House"
        ],
        [
         "2",
         "13462809",
         "lp6556c3dc",
         "1142722063",
         "Room"
        ],
        [
         "3",
         "13530116",
         "lp6555450b",
         "1141968275",
         "Triple Room"
        ],
        [
         "4",
         "13530071",
         "lp6557a92c",
         "1142513784",
         "Apartment"
        ],
        [
         "5",
         "13530384",
         "lp6555c6ef",
         "1141970143",
         "Room (Jasmine)"
        ],
        [
         "6",
         "13530384",
         "lp6555c6ef",
         "1141970185",
         "Room (Roseherb)"
        ],
        [
         "7",
         "13530384",
         "lp6555c6ef",
         "1141970194",
         "Room (Mint)"
        ],
        [
         "8",
         "13530384",
         "lp6555c6ef",
         "1141970198",
         "Room"
        ],
        [
         "9",
         "13530384",
         "lp6555c6ef",
         "1141970215",
         "Room (Rosemary)"
        ],
        [
         "10",
         "13464693",
         "lp65575ead",
         "1141908927",
         "Room (Twin (corona safe room))"
        ],
        [
         "14",
         "13570599",
         "lp1e3ead",
         "1142555442",
         "Classic Twin Room"
        ],
        [
         "15",
         "13570599",
         "lp1e3ead",
         "1142555448",
         "Classic Double Room, 1 Queen Bed"
        ],
        [
         "16",
         "13570599",
         "lp1e3ead",
         "1142555454",
         "Superior Double Room"
        ],
        [
         "17",
         "13570599",
         "lp1e3ead",
         "1142555458",
         "Superior Twin Room"
        ],
        [
         "18",
         "6404576",
         "lp9ad2d",
         "640457601",
         "One-Bedroom Apartment"
        ],
        [
         "19",
         "6404576",
         "lp9ad2d",
         "640457602",
         "One-Bedroom Apartment"
        ],
        [
         "20",
         "13625945",
         "lp8004b",
         "1142319158",
         "Deluxe Suite, 1 Bedroom"
        ],
        [
         "21",
         "13625945",
         "lp8004b",
         "1142319370",
         "Superior Double or Twin Room, 1 Bedroom"
        ],
        [
         "22",
         "13625945",
         "lp8004b",
         "1142319487",
         "Comfort Apartment, 2 Bedrooms"
        ],
        [
         "23",
         "13625945",
         "lp8004b",
         "1142319792",
         "Family Room, 1 Bedroom"
        ],
        [
         "24",
         "13626535",
         "lp655917b7",
         "1142105952",
         "Apartment"
        ],
        [
         "25",
         "13627983",
         "lp6554fbee",
         "1142049959",
         "Private Vacation Home"
        ],
        [
         "26",
         "13628683",
         "lp267816",
         "1142328906",
         "Bungalow (Triple)"
        ],
        [
         "27",
         "13628683",
         "lp267816",
         "1142329100",
         "Bungalow (Double)"
        ],
        [
         "28",
         "13631599",
         "lp1868c7",
         "1142873958",
         "Standard Double Room"
        ],
        [
         "29",
         "13632041",
         "lp8c1b8",
         "1142923467",
         "Family Room"
        ],
        [
         "30",
         "13632041",
         "lp8c1b8",
         "1142923499",
         "Single Room"
        ],
        [
         "31",
         "13632041",
         "lp8c1b8",
         "1142923506",
         "Twin Room"
        ],
        [
         "32",
         "13632041",
         "lp8c1b8",
         "1142923522",
         "Suite, Balcony"
        ],
        [
         "33",
         "13632041",
         "lp8c1b8",
         "1142923534",
         "Double Room"
        ],
        [
         "34",
         "13632041",
         "lp8c1b8",
         "1142923544",
         "Suite, Garden View"
        ],
        [
         "35",
         "13632041",
         "lp8c1b8",
         "1142923556",
         "Superior Suite"
        ],
        [
         "36",
         "13632041",
         "lp8c1b8",
         "1142923566",
         "Suite"
        ],
        [
         "37",
         "13632041",
         "lp8c1b8",
         "1142923583",
         "Triple Room"
        ],
        [
         "38",
         "13631966",
         "lpf5ec5",
         "1142059566",
         "Double or Twin Room"
        ],
        [
         "39",
         "13632854",
         "lp1f2a5c",
         "1142331561",
         "Double or Twin Room"
        ],
        [
         "40",
         "13632854",
         "lp1f2a5c",
         "1142331732",
         "Suite, 1 King Bed"
        ],
        [
         "41",
         "13632854",
         "lp1f2a5c",
         "1142331749",
         "Deluxe Double or Twin Room, 1 King Bed"
        ],
        [
         "42",
         "13632854",
         "lp1f2a5c",
         "1142331962",
         "Double Room, 1 Double Bed"
        ],
        [
         "43",
         "7855856",
         "lp9bfad",
         "785585601",
         "One-Bedroom Apartment"
        ],
        [
         "44",
         "13633991",
         "lpc8873",
         "1142882662",
         "Double or Twin Room"
        ],
        [
         "45",
         "13635508",
         "lpcb5df",
         "1142606436",
         "Deluxe Room"
        ],
        [
         "46",
         "13635508",
         "lpcb5df",
         "1142606791",
         "Double or Twin Room"
        ],
        [
         "47",
         "13663278",
         "lp65591d5e",
         "1142097901",
         "Basic Apartment"
        ],
        [
         "48",
         "13663278",
         "lp65591d5e",
         "1142097933",
         "Studio"
        ],
        [
         "49",
         "13663278",
         "lp65591d5e",
         "1142097957",
         "Executive Studio"
        ],
        [
         "50",
         "13663278",
         "lp65591d5e",
         "1142097967",
         "Basic Studio"
        ],
        [
         "51",
         "13664162",
         "lpffdc8",
         "1142915591",
         "Suite"
        ],
        [
         "52",
         "13664162",
         "lpffdc8",
         "1142915596",
         "Deluxe Double Room"
        ]
       ],
       "shape": {
        "columns": 4,
        "rows": 73801
       }
      },
      "text/html": [
       "<div>\n",
       "<style scoped>\n",
       "    .dataframe tbody tr th:only-of-type {\n",
       "        vertical-align: middle;\n",
       "    }\n",
       "\n",
       "    .dataframe tbody tr th {\n",
       "        vertical-align: top;\n",
       "    }\n",
       "\n",
       "    .dataframe thead th {\n",
       "        text-align: right;\n",
       "    }\n",
       "</style>\n",
       "<table border=\"1\" class=\"dataframe\">\n",
       "  <thead>\n",
       "    <tr style=\"text-align: right;\">\n",
       "      <th></th>\n",
       "      <th>hotel_id</th>\n",
       "      <th>lp_id</th>\n",
       "      <th>room_id</th>\n",
       "      <th>room_name</th>\n",
       "    </tr>\n",
       "  </thead>\n",
       "  <tbody>\n",
       "    <tr>\n",
       "      <th>0</th>\n",
       "      <td>13484077</td>\n",
       "      <td>lp23e8ef</td>\n",
       "      <td>1142730702</td>\n",
       "      <td>Double or Twin Room</td>\n",
       "    </tr>\n",
       "    <tr>\n",
       "      <th>1</th>\n",
       "      <td>13487663</td>\n",
       "      <td>lp6554de34</td>\n",
       "      <td>1141927122</td>\n",
       "      <td>House</td>\n",
       "    </tr>\n",
       "    <tr>\n",
       "      <th>2</th>\n",
       "      <td>13462809</td>\n",
       "      <td>lp6556c3dc</td>\n",
       "      <td>1142722063</td>\n",
       "      <td>Room</td>\n",
       "    </tr>\n",
       "    <tr>\n",
       "      <th>3</th>\n",
       "      <td>13530116</td>\n",
       "      <td>lp6555450b</td>\n",
       "      <td>1141968275</td>\n",
       "      <td>Triple Room</td>\n",
       "    </tr>\n",
       "    <tr>\n",
       "      <th>4</th>\n",
       "      <td>13530071</td>\n",
       "      <td>lp6557a92c</td>\n",
       "      <td>1142513784</td>\n",
       "      <td>Apartment</td>\n",
       "    </tr>\n",
       "    <tr>\n",
       "      <th>...</th>\n",
       "      <td>...</td>\n",
       "      <td>...</td>\n",
       "      <td>...</td>\n",
       "      <td>...</td>\n",
       "    </tr>\n",
       "    <tr>\n",
       "      <th>99988</th>\n",
       "      <td>482128</td>\n",
       "      <td>lp65563022</td>\n",
       "      <td>48212802</td>\n",
       "      <td>Single Room</td>\n",
       "    </tr>\n",
       "    <tr>\n",
       "      <th>99989</th>\n",
       "      <td>482128</td>\n",
       "      <td>lp65563022</td>\n",
       "      <td>48212803</td>\n",
       "      <td>Superior Double or Twin Room with Lake View</td>\n",
       "    </tr>\n",
       "    <tr>\n",
       "      <th>99990</th>\n",
       "      <td>482128</td>\n",
       "      <td>lp65563022</td>\n",
       "      <td>48212808</td>\n",
       "      <td>Twin Room with Garden View</td>\n",
       "    </tr>\n",
       "    <tr>\n",
       "      <th>99991</th>\n",
       "      <td>482128</td>\n",
       "      <td>lp65563022</td>\n",
       "      <td>48212809</td>\n",
       "      <td>Deluxe Double or Twin Room with Lake View</td>\n",
       "    </tr>\n",
       "    <tr>\n",
       "      <th>99992</th>\n",
       "      <td>482128</td>\n",
       "      <td>lp65563022</td>\n",
       "      <td>48212810</td>\n",
       "      <td>King Room with Lake View</td>\n",
       "    </tr>\n",
       "  </tbody>\n",
       "</table>\n",
       "<p>73801 rows × 4 columns</p>\n",
       "</div>"
      ],
      "text/plain": [
       "       hotel_id       lp_id     room_id  \\\n",
       "0      13484077    lp23e8ef  1142730702   \n",
       "1      13487663  lp6554de34  1141927122   \n",
       "2      13462809  lp6556c3dc  1142722063   \n",
       "3      13530116  lp6555450b  1141968275   \n",
       "4      13530071  lp6557a92c  1142513784   \n",
       "...         ...         ...         ...   \n",
       "99988    482128  lp65563022    48212802   \n",
       "99989    482128  lp65563022    48212803   \n",
       "99990    482128  lp65563022    48212808   \n",
       "99991    482128  lp65563022    48212809   \n",
       "99992    482128  lp65563022    48212810   \n",
       "\n",
       "                                         room_name  \n",
       "0                              Double or Twin Room  \n",
       "1                                            House  \n",
       "2                                             Room  \n",
       "3                                      Triple Room  \n",
       "4                                        Apartment  \n",
       "...                                            ...  \n",
       "99988                                  Single Room  \n",
       "99989  Superior Double or Twin Room with Lake View  \n",
       "99990                   Twin Room with Garden View  \n",
       "99991    Deluxe Double or Twin Room with Lake View  \n",
       "99992                     King Room with Lake View  \n",
       "\n",
       "[73801 rows x 4 columns]"
      ]
     },
     "execution_count": 6,
     "metadata": {},
     "output_type": "execute_result"
    }
   ],
   "source": [
    "df_reference = df_reference_initial[df_reference_initial['lp_id'].isin(equal_ids)]\n",
    "df_reference"
   ]
  },
  {
   "cell_type": "code",
   "execution_count": 7,
   "metadata": {},
   "outputs": [
    {
     "data": {
      "application/vnd.microsoft.datawrangler.viewer.v0+json": {
       "columns": [
        {
         "name": "index",
         "rawType": "int64",
         "type": "integer"
        },
        {
         "name": "core_room_id",
         "rawType": "int64",
         "type": "integer"
        },
        {
         "name": "core_hotel_id",
         "rawType": "int64",
         "type": "integer"
        },
        {
         "name": "lp_id",
         "rawType": "object",
         "type": "string"
        },
        {
         "name": "supplier_room_id",
         "rawType": "int64",
         "type": "integer"
        },
        {
         "name": "supplier_name",
         "rawType": "object",
         "type": "string"
        },
        {
         "name": "supplier_room_name",
         "rawType": "object",
         "type": "string"
        }
       ],
       "conversionMethod": "pd.DataFrame",
       "ref": "2cd184ef-2f49-4c44-9aca-87ec3d4ef5e7",
       "rows": [
        [
         "1",
         "2",
         "509236",
         "lp7c534",
         "200998017",
         "Expedia",
         "Deluxe Room, Balcony"
        ],
        [
         "4",
         "5",
         "970167",
         "lpecdb7",
         "218116045",
         "Expedia",
         "Traditional Cottage, 2 Bedrooms, Harbor View"
        ],
        [
         "6",
         "7",
         "626491",
         "lp98f3b",
         "201681924",
         "Expedia",
         "Comfort House, 6 Bedrooms, Ocean View"
        ],
        [
         "9",
         "10",
         "627565",
         "lp9936d",
         "201691684",
         "Expedia",
         "Family House, 4 Bedrooms"
        ],
        [
         "47",
         "48",
         "544769",
         "lp85001",
         "201249503",
         "Expedia",
         "Family Cabin"
        ],
        [
         "55",
         "56",
         "628385",
         "lp996a1",
         "201691656",
         "Expedia",
         "Family Condo, 3 Bedrooms"
        ],
        [
         "70",
         "71",
         "527903",
         "lp80e1f",
         "201138629",
         "Expedia",
         "Standard Studio, Accessible, Ground Floor"
        ],
        [
         "106",
         "107",
         "499494",
         "lp79f26",
         "200933889",
         "Expedia",
         "Superior Double Room"
        ],
        [
         "133",
         "134",
         "823034",
         "lpc8efa",
         "202457692",
         "Expedia",
         "Apartment, 2 Bedrooms, Sea View"
        ],
        [
         "220",
         "221",
         "627934",
         "lp994de",
         "201691736",
         "Expedia",
         "Family House, 6 Bedrooms"
        ],
        [
         "221",
         "222",
         "523819",
         "lp7fe2b",
         "314086868",
         "Expedia",
         "Room, 1 King Bed, Smoking, Ocean View"
        ],
        [
         "239",
         "240",
         "551064",
         "lp86898",
         "201290243",
         "Expedia",
         "Superior Apartment, 1 Bedroom"
        ],
        [
         "250",
         "251",
         "541380",
         "lp842c4",
         "201226437",
         "Expedia",
         "Premium Apartment, 3 Bedrooms"
        ],
        [
         "289",
         "290",
         "494805",
         "lp78cd5",
         "201014329",
         "Expedia",
         "Family Suite"
        ],
        [
         "342",
         "343",
         "565971",
         "lp8a2d3",
         "201384426",
         "Expedia",
         "Superior Apartment, 2 Bedrooms"
        ],
        [
         "394",
         "395",
         "545136",
         "lp85170",
         "201250489",
         "Expedia",
         "Cabin, 4 Bedrooms"
        ],
        [
         "411",
         "412",
         "493981",
         "lp7899d",
         "201113581",
         "Expedia",
         "Apartment D, 2 bedrooms (deposit by paypal required)"
        ],
        [
         "454",
         "455",
         "508516",
         "lp7c264",
         "217532054",
         "Expedia",
         "Private Rooms Shared Kitchen and Bath"
        ],
        [
         "465",
         "466",
         "510230",
         "lp7c916",
         "201009796",
         "Expedia",
         "Superior Room, Balcony"
        ],
        [
         "484",
         "485",
         "544795",
         "lp8501b",
         "201253947",
         "Expedia",
         "Classic Cabin, 3 Bedrooms"
        ],
        [
         "521",
         "522",
         "544970",
         "lp850ca",
         "201249566",
         "Expedia",
         "Chalet, 2 Bedrooms, Lakeside"
        ],
        [
         "531",
         "532",
         "513914",
         "lp7d77a",
         "201031288",
         "Expedia",
         "Double Room, 1 Bedroom, Lagoon View (Balcony)"
        ],
        [
         "538",
         "539",
         "544907",
         "lp8508b",
         "201249613",
         "Expedia",
         "Standard Apartment, 3 Bedrooms (18 Golden Square)"
        ],
        [
         "548",
         "549",
         "627935",
         "lp994df",
         "201691790",
         "Expedia",
         "Family House, 6 Bedrooms"
        ],
        [
         "581",
         "582",
         "599538",
         "lp925f2",
         "201545947",
         "Expedia",
         "Family Condo, 3 Bedrooms, Golf View, Garden Area"
        ],
        [
         "628",
         "629",
         "617881",
         "lp96d99",
         "220240290",
         "Expedia",
         "Apartment, 2 Bedrooms, Balcony, River View"
        ],
        [
         "635",
         "636",
         "576780",
         "lp8cd0c",
         "201456278",
         "Expedia",
         "Triple Room"
        ],
        [
         "654",
         "655",
         "593762",
         "lp90f62",
         "201523183",
         "Expedia",
         "Suite"
        ],
        [
         "688",
         "689",
         "544808",
         "lp85028",
         "201249502",
         "Expedia",
         "House, 6 Bedrooms"
        ],
        [
         "720",
         "721",
         "619341",
         "lp9734d",
         "201641675",
         "Expedia",
         "Family Villa, 5 Bedrooms, Golf View, Garden Area"
        ],
        [
         "731",
         "732",
         "971927",
         "lped497",
         "216612549",
         "Expedia",
         "Cottage"
        ],
        [
         "737",
         "738",
         "628717",
         "lp997ed",
         "201691719",
         "Expedia",
         "Family House, 4 Bedrooms"
        ],
        [
         "763",
         "764",
         "975753",
         "lpee389",
         "219317397",
         "Expedia",
         "Cottage"
        ],
        [
         "774",
         "775",
         "495203",
         "lp78e63",
         "200909236",
         "Expedia",
         "President Private Pool Villa"
        ],
        [
         "779",
         "780",
         "496199",
         "lp79247",
         "200976736",
         "Expedia",
         "Apartment, 3 Bedrooms, Balcony, Sea View (1st floor)"
        ],
        [
         "797",
         "798",
         "492595",
         "lp78433",
         "200896804",
         "Expedia",
         "Double Room"
        ],
        [
         "812",
         "813",
         "561572",
         "lp891a4",
         "201263147",
         "Expedia",
         "Superior Room"
        ],
        [
         "821",
         "822",
         "814875",
         "lpc6f1b",
         "219302563",
         "Expedia",
         "Deluxe Apartment, 2 Bedrooms, Sea View, Beachfront"
        ],
        [
         "840",
         "841",
         "555098",
         "lp8785a",
         "201315512",
         "Expedia",
         "Standard Room"
        ],
        [
         "845",
         "846",
         "514529",
         "lp7d9e1",
         "201034742",
         "Expedia",
         "Standard Room (A/C)"
        ],
        [
         "870",
         "871",
         "810707",
         "lpc5ed3",
         "202439479",
         "Expedia",
         "Studio, Terrace"
        ],
        [
         "872",
         "873",
         "701892",
         "lpab5c4",
         "202067126",
         "Expedia",
         "Studio (Studio South)"
        ],
        [
         "887",
         "888",
         "576056",
         "lp8ca38",
         "201452184",
         "Expedia",
         "House, 3 Bedrooms"
        ],
        [
         "908",
         "909",
         "972455",
         "lped6a7",
         "221718034",
         "Expedia",
         "Cottage"
        ],
        [
         "923",
         "924",
         "514166",
         "lp7d876",
         "201033475",
         "Expedia",
         "Quadruple Room (4 Japanese Futons)"
        ],
        [
         "1043",
         "1044",
         "879769",
         "lpd6c99",
         "215705992",
         "Expedia",
         "Standard Room, 1 Double Bed"
        ],
        [
         "1048",
         "1049",
         "683291",
         "lpa6d1b",
         "201916708",
         "Expedia",
         "Business Studio"
        ],
        [
         "1052",
         "1053",
         "529980",
         "lp8163c",
         "201141234",
         "Expedia",
         "Standard Twin Room"
        ],
        [
         "1058",
         "1059",
         "973643",
         "lpedb4b",
         "216312482",
         "Expedia",
         "Cottage"
        ],
        [
         "1063",
         "1064",
         "497049",
         "lp79599",
         "200931719",
         "Expedia",
         "Standard Double Room"
        ]
       ],
       "shape": {
        "columns": 6,
        "rows": 113718
       }
      },
      "text/html": [
       "<div>\n",
       "<style scoped>\n",
       "    .dataframe tbody tr th:only-of-type {\n",
       "        vertical-align: middle;\n",
       "    }\n",
       "\n",
       "    .dataframe tbody tr th {\n",
       "        vertical-align: top;\n",
       "    }\n",
       "\n",
       "    .dataframe thead th {\n",
       "        text-align: right;\n",
       "    }\n",
       "</style>\n",
       "<table border=\"1\" class=\"dataframe\">\n",
       "  <thead>\n",
       "    <tr style=\"text-align: right;\">\n",
       "      <th></th>\n",
       "      <th>core_room_id</th>\n",
       "      <th>core_hotel_id</th>\n",
       "      <th>lp_id</th>\n",
       "      <th>supplier_room_id</th>\n",
       "      <th>supplier_name</th>\n",
       "      <th>supplier_room_name</th>\n",
       "    </tr>\n",
       "  </thead>\n",
       "  <tbody>\n",
       "    <tr>\n",
       "      <th>1</th>\n",
       "      <td>2</td>\n",
       "      <td>509236</td>\n",
       "      <td>lp7c534</td>\n",
       "      <td>200998017</td>\n",
       "      <td>Expedia</td>\n",
       "      <td>Deluxe Room, Balcony</td>\n",
       "    </tr>\n",
       "    <tr>\n",
       "      <th>4</th>\n",
       "      <td>5</td>\n",
       "      <td>970167</td>\n",
       "      <td>lpecdb7</td>\n",
       "      <td>218116045</td>\n",
       "      <td>Expedia</td>\n",
       "      <td>Traditional Cottage, 2 Bedrooms, Harbor View</td>\n",
       "    </tr>\n",
       "    <tr>\n",
       "      <th>6</th>\n",
       "      <td>7</td>\n",
       "      <td>626491</td>\n",
       "      <td>lp98f3b</td>\n",
       "      <td>201681924</td>\n",
       "      <td>Expedia</td>\n",
       "      <td>Comfort House, 6 Bedrooms, Ocean View</td>\n",
       "    </tr>\n",
       "    <tr>\n",
       "      <th>9</th>\n",
       "      <td>10</td>\n",
       "      <td>627565</td>\n",
       "      <td>lp9936d</td>\n",
       "      <td>201691684</td>\n",
       "      <td>Expedia</td>\n",
       "      <td>Family House, 4 Bedrooms</td>\n",
       "    </tr>\n",
       "    <tr>\n",
       "      <th>47</th>\n",
       "      <td>48</td>\n",
       "      <td>544769</td>\n",
       "      <td>lp85001</td>\n",
       "      <td>201249503</td>\n",
       "      <td>Expedia</td>\n",
       "      <td>Family Cabin</td>\n",
       "    </tr>\n",
       "    <tr>\n",
       "      <th>...</th>\n",
       "      <td>...</td>\n",
       "      <td>...</td>\n",
       "      <td>...</td>\n",
       "      <td>...</td>\n",
       "      <td>...</td>\n",
       "      <td>...</td>\n",
       "    </tr>\n",
       "    <tr>\n",
       "      <th>2868987</th>\n",
       "      <td>2912375</td>\n",
       "      <td>1701692924</td>\n",
       "      <td>lp656dc5fc</td>\n",
       "      <td>322141874</td>\n",
       "      <td>Expedia</td>\n",
       "      <td>Basic Shared Dormitory (10 bunk beds, N2)</td>\n",
       "    </tr>\n",
       "    <tr>\n",
       "      <th>2869025</th>\n",
       "      <td>2912413</td>\n",
       "      <td>840974</td>\n",
       "      <td>lpcd50e</td>\n",
       "      <td>323988812</td>\n",
       "      <td>Expedia</td>\n",
       "      <td>Presidential Suite</td>\n",
       "    </tr>\n",
       "    <tr>\n",
       "      <th>2869026</th>\n",
       "      <td>2912414</td>\n",
       "      <td>840974</td>\n",
       "      <td>lpcd50e</td>\n",
       "      <td>323988824</td>\n",
       "      <td>Expedia</td>\n",
       "      <td>Presidential Villa</td>\n",
       "    </tr>\n",
       "    <tr>\n",
       "      <th>2869033</th>\n",
       "      <td>2912421</td>\n",
       "      <td>840974</td>\n",
       "      <td>lpcd50e</td>\n",
       "      <td>323988797</td>\n",
       "      <td>Expedia</td>\n",
       "      <td>Superior Twin</td>\n",
       "    </tr>\n",
       "    <tr>\n",
       "      <th>2869042</th>\n",
       "      <td>2912430</td>\n",
       "      <td>840974</td>\n",
       "      <td>lpcd50e</td>\n",
       "      <td>323988775</td>\n",
       "      <td>Expedia</td>\n",
       "      <td>Mongomo King Suite</td>\n",
       "    </tr>\n",
       "  </tbody>\n",
       "</table>\n",
       "<p>113718 rows × 6 columns</p>\n",
       "</div>"
      ],
      "text/plain": [
       "         core_room_id  core_hotel_id       lp_id  supplier_room_id  \\\n",
       "1                   2         509236     lp7c534         200998017   \n",
       "4                   5         970167     lpecdb7         218116045   \n",
       "6                   7         626491     lp98f3b         201681924   \n",
       "9                  10         627565     lp9936d         201691684   \n",
       "47                 48         544769     lp85001         201249503   \n",
       "...               ...            ...         ...               ...   \n",
       "2868987       2912375     1701692924  lp656dc5fc         322141874   \n",
       "2869025       2912413         840974     lpcd50e         323988812   \n",
       "2869026       2912414         840974     lpcd50e         323988824   \n",
       "2869033       2912421         840974     lpcd50e         323988797   \n",
       "2869042       2912430         840974     lpcd50e         323988775   \n",
       "\n",
       "        supplier_name                            supplier_room_name  \n",
       "1             Expedia                          Deluxe Room, Balcony  \n",
       "4             Expedia  Traditional Cottage, 2 Bedrooms, Harbor View  \n",
       "6             Expedia         Comfort House, 6 Bedrooms, Ocean View  \n",
       "9             Expedia                      Family House, 4 Bedrooms  \n",
       "47            Expedia                                  Family Cabin  \n",
       "...               ...                                           ...  \n",
       "2868987       Expedia     Basic Shared Dormitory (10 bunk beds, N2)  \n",
       "2869025       Expedia                            Presidential Suite  \n",
       "2869026       Expedia                            Presidential Villa  \n",
       "2869033       Expedia                                 Superior Twin  \n",
       "2869042       Expedia                            Mongomo King Suite  \n",
       "\n",
       "[113718 rows x 6 columns]"
      ]
     },
     "execution_count": 7,
     "metadata": {},
     "output_type": "execute_result"
    }
   ],
   "source": [
    "df_expedia = df_expedia_initial[df_expedia_initial['lp_id'].isin(equal_ids)]\n",
    "df_expedia"
   ]
  },
  {
   "cell_type": "markdown",
   "metadata": {},
   "source": [
    "### Room name preprocesing\n",
    "Cleaning, feature extraction, and normalization."
   ]
  },
  {
   "cell_type": "code",
   "execution_count": 8,
   "metadata": {},
   "outputs": [
    {
     "name": "stderr",
     "output_type": "stream",
     "text": [
      "[nltk_data] Downloading package stopwords to\n",
      "[nltk_data]     C:\\Users\\mijal\\AppData\\Roaming\\nltk_data...\n",
      "[nltk_data]   Package stopwords is already up-to-date!\n",
      "[nltk_data] Downloading package wordnet to\n",
      "[nltk_data]     C:\\Users\\mijal\\AppData\\Roaming\\nltk_data...\n",
      "[nltk_data]   Package wordnet is already up-to-date!\n"
     ]
    },
    {
     "name": "stdout",
     "output_type": "stream",
     "text": [
      "python released major revision language completely backward compatible much python code run unmodified python python endoflife python x later supported older version still supporting eg window old installers restricted bit window\n"
     ]
    }
   ],
   "source": [
    "# Load SpaCy NLP model\n",
    "nlp = spacy.load(\"en_core_web_sm\")\n",
    "\n",
    "# Use nlp.pipe() to process multiple room names at once\n",
    "def preprocess_batch(texts):\n",
    "    \"\"\"Efficiently process a batch of text using nlp.pipe().\"\"\"\n",
    "    return [\" \".join([token.lemma_ for token in doc if not token.is_stop and not token.is_punct])\n",
    "            for doc in nlp.pipe(texts, batch_size=1000, n_process=8)]  # Adjust batch_size & n_process\n",
    "\n",
    "\n",
    "import re\n",
    "import nltk\n",
    "from nltk.corpus import stopwords\n",
    "from nltk.stem import WordNetLemmatizer\n",
    "\n",
    "# Download required resources\n",
    "nltk.download('stopwords')\n",
    "nltk.download('wordnet')\n",
    "\n",
    "# Initialize stopwords and lemmatizer\n",
    "stop_words = set(stopwords.words('english'))\n",
    "lemmatizer = WordNetLemmatizer()\n",
    "\n",
    "def preprocess_text(text):\n",
    "    \"\"\"Efficiently preprocess text: lowercase, remove numbers/punctuation/stopwords, and lemmatize.\"\"\"\n",
    "    if isinstance(text, list):  # If input is a list, process each item\n",
    "        return [preprocess_text(t) for t in text]\n",
    "    \n",
    "    # Convert to lowercase\n",
    "    text = text.lower()\n",
    "    \n",
    "    # Remove numbers\n",
    "    text = re.sub(r'\\d+', '', text)\n",
    "    \n",
    "    # Remove punctuation (excluding words and spaces)\n",
    "    text = re.sub(r'[^\\w\\s]', '', text)\n",
    "    \n",
    "    # Remove extra whitespaces\n",
    "    text = text.strip()\n",
    "    \n",
    "    # Tokenize (split into words)\n",
    "    words = text.split()\n",
    "    \n",
    "    # Remove stopwords and apply lemmatization\n",
    "    words = [lemmatizer.lemmatize(word) for word in words if word not in stop_words]\n",
    "    \n",
    "    # Rejoin words into a single string\n",
    "    return \" \".join(words)\n",
    "\n",
    "# Example usage\n",
    "input_text = \"\"\" Python 3.0, released in 2008, was a major revision of the language that is not completely \n",
    "backward compatible and much Python 2 code does not run unmodified on Python 3. With Python 2's end-of-life, \n",
    "only Python 3.6.x[30] and later are supported, with older versions still supporting e.g. Windows 7 \n",
    "(and old installers not restricted to 64-bit Windows). \"\"\"\n",
    "\n",
    "processed_text = preprocess_text(input_text)\n",
    "print(processed_text)\n"
   ]
  },
  {
   "cell_type": "code",
   "execution_count": 9,
   "metadata": {},
   "outputs": [],
   "source": [
    "# Apply batch processing in df_reference\n",
    "df_reference = df_reference.copy()\n",
    "df_reference[\"processed_room_name\"] = preprocess_text(df_reference[\"room_name\"].astype(str).tolist())"
   ]
  },
  {
   "cell_type": "code",
   "execution_count": 10,
   "metadata": {},
   "outputs": [],
   "source": [
    "# Apply batch processing in df_expedia\n",
    "df_expedia = df_expedia.copy()\n",
    "df_expedia[\"processed_room_name\"] = preprocess_text(df_expedia[\"supplier_room_name\"].astype(str).tolist())"
   ]
  },
  {
   "cell_type": "code",
   "execution_count": 11,
   "metadata": {},
   "outputs": [
    {
     "data": {
      "application/vnd.microsoft.datawrangler.viewer.v0+json": {
       "columns": [
        {
         "name": "index",
         "rawType": "int64",
         "type": "integer"
        },
        {
         "name": "hotel_id",
         "rawType": "int64",
         "type": "integer"
        },
        {
         "name": "lp_id",
         "rawType": "object",
         "type": "string"
        },
        {
         "name": "room_id",
         "rawType": "int64",
         "type": "integer"
        },
        {
         "name": "room_name",
         "rawType": "object",
         "type": "string"
        },
        {
         "name": "processed_room_name",
         "rawType": "object",
         "type": "string"
        }
       ],
       "conversionMethod": "pd.DataFrame",
       "ref": "e222740f-b2ce-49f6-b043-498b165b5c94",
       "rows": [
        [
         "0",
         "13484077",
         "lp23e8ef",
         "1142730702",
         "Double or Twin Room",
         "double twin room"
        ],
        [
         "1",
         "13487663",
         "lp6554de34",
         "1141927122",
         "House",
         "house"
        ],
        [
         "2",
         "13462809",
         "lp6556c3dc",
         "1142722063",
         "Room",
         "room"
        ],
        [
         "3",
         "13530116",
         "lp6555450b",
         "1141968275",
         "Triple Room",
         "triple room"
        ],
        [
         "4",
         "13530071",
         "lp6557a92c",
         "1142513784",
         "Apartment",
         "apartment"
        ],
        [
         "5",
         "13530384",
         "lp6555c6ef",
         "1141970143",
         "Room (Jasmine)",
         "room jasmine"
        ],
        [
         "6",
         "13530384",
         "lp6555c6ef",
         "1141970185",
         "Room (Roseherb)",
         "room roseherb"
        ],
        [
         "7",
         "13530384",
         "lp6555c6ef",
         "1141970194",
         "Room (Mint)",
         "room mint"
        ],
        [
         "8",
         "13530384",
         "lp6555c6ef",
         "1141970198",
         "Room",
         "room"
        ],
        [
         "9",
         "13530384",
         "lp6555c6ef",
         "1141970215",
         "Room (Rosemary)",
         "room rosemary"
        ],
        [
         "10",
         "13464693",
         "lp65575ead",
         "1141908927",
         "Room (Twin (corona safe room))",
         "room twin corona safe room"
        ],
        [
         "14",
         "13570599",
         "lp1e3ead",
         "1142555442",
         "Classic Twin Room",
         "classic twin room"
        ],
        [
         "15",
         "13570599",
         "lp1e3ead",
         "1142555448",
         "Classic Double Room, 1 Queen Bed",
         "classic double room queen bed"
        ],
        [
         "16",
         "13570599",
         "lp1e3ead",
         "1142555454",
         "Superior Double Room",
         "superior double room"
        ],
        [
         "17",
         "13570599",
         "lp1e3ead",
         "1142555458",
         "Superior Twin Room",
         "superior twin room"
        ],
        [
         "18",
         "6404576",
         "lp9ad2d",
         "640457601",
         "One-Bedroom Apartment",
         "onebedroom apartment"
        ],
        [
         "19",
         "6404576",
         "lp9ad2d",
         "640457602",
         "One-Bedroom Apartment",
         "onebedroom apartment"
        ],
        [
         "20",
         "13625945",
         "lp8004b",
         "1142319158",
         "Deluxe Suite, 1 Bedroom",
         "deluxe suite bedroom"
        ],
        [
         "21",
         "13625945",
         "lp8004b",
         "1142319370",
         "Superior Double or Twin Room, 1 Bedroom",
         "superior double twin room bedroom"
        ],
        [
         "22",
         "13625945",
         "lp8004b",
         "1142319487",
         "Comfort Apartment, 2 Bedrooms",
         "comfort apartment bedroom"
        ],
        [
         "23",
         "13625945",
         "lp8004b",
         "1142319792",
         "Family Room, 1 Bedroom",
         "family room bedroom"
        ],
        [
         "24",
         "13626535",
         "lp655917b7",
         "1142105952",
         "Apartment",
         "apartment"
        ],
        [
         "25",
         "13627983",
         "lp6554fbee",
         "1142049959",
         "Private Vacation Home",
         "private vacation home"
        ],
        [
         "26",
         "13628683",
         "lp267816",
         "1142328906",
         "Bungalow (Triple)",
         "bungalow triple"
        ],
        [
         "27",
         "13628683",
         "lp267816",
         "1142329100",
         "Bungalow (Double)",
         "bungalow double"
        ],
        [
         "28",
         "13631599",
         "lp1868c7",
         "1142873958",
         "Standard Double Room",
         "standard double room"
        ],
        [
         "29",
         "13632041",
         "lp8c1b8",
         "1142923467",
         "Family Room",
         "family room"
        ],
        [
         "30",
         "13632041",
         "lp8c1b8",
         "1142923499",
         "Single Room",
         "single room"
        ],
        [
         "31",
         "13632041",
         "lp8c1b8",
         "1142923506",
         "Twin Room",
         "twin room"
        ],
        [
         "32",
         "13632041",
         "lp8c1b8",
         "1142923522",
         "Suite, Balcony",
         "suite balcony"
        ],
        [
         "33",
         "13632041",
         "lp8c1b8",
         "1142923534",
         "Double Room",
         "double room"
        ],
        [
         "34",
         "13632041",
         "lp8c1b8",
         "1142923544",
         "Suite, Garden View",
         "suite garden view"
        ],
        [
         "35",
         "13632041",
         "lp8c1b8",
         "1142923556",
         "Superior Suite",
         "superior suite"
        ],
        [
         "36",
         "13632041",
         "lp8c1b8",
         "1142923566",
         "Suite",
         "suite"
        ],
        [
         "37",
         "13632041",
         "lp8c1b8",
         "1142923583",
         "Triple Room",
         "triple room"
        ],
        [
         "38",
         "13631966",
         "lpf5ec5",
         "1142059566",
         "Double or Twin Room",
         "double twin room"
        ],
        [
         "39",
         "13632854",
         "lp1f2a5c",
         "1142331561",
         "Double or Twin Room",
         "double twin room"
        ],
        [
         "40",
         "13632854",
         "lp1f2a5c",
         "1142331732",
         "Suite, 1 King Bed",
         "suite king bed"
        ],
        [
         "41",
         "13632854",
         "lp1f2a5c",
         "1142331749",
         "Deluxe Double or Twin Room, 1 King Bed",
         "deluxe double twin room king bed"
        ],
        [
         "42",
         "13632854",
         "lp1f2a5c",
         "1142331962",
         "Double Room, 1 Double Bed",
         "double room double bed"
        ],
        [
         "43",
         "7855856",
         "lp9bfad",
         "785585601",
         "One-Bedroom Apartment",
         "onebedroom apartment"
        ],
        [
         "44",
         "13633991",
         "lpc8873",
         "1142882662",
         "Double or Twin Room",
         "double twin room"
        ],
        [
         "45",
         "13635508",
         "lpcb5df",
         "1142606436",
         "Deluxe Room",
         "deluxe room"
        ],
        [
         "46",
         "13635508",
         "lpcb5df",
         "1142606791",
         "Double or Twin Room",
         "double twin room"
        ],
        [
         "47",
         "13663278",
         "lp65591d5e",
         "1142097901",
         "Basic Apartment",
         "basic apartment"
        ],
        [
         "48",
         "13663278",
         "lp65591d5e",
         "1142097933",
         "Studio",
         "studio"
        ],
        [
         "49",
         "13663278",
         "lp65591d5e",
         "1142097957",
         "Executive Studio",
         "executive studio"
        ],
        [
         "50",
         "13663278",
         "lp65591d5e",
         "1142097967",
         "Basic Studio",
         "basic studio"
        ],
        [
         "51",
         "13664162",
         "lpffdc8",
         "1142915591",
         "Suite",
         "suite"
        ],
        [
         "52",
         "13664162",
         "lpffdc8",
         "1142915596",
         "Deluxe Double Room",
         "deluxe double room"
        ]
       ],
       "shape": {
        "columns": 5,
        "rows": 73801
       }
      },
      "text/html": [
       "<div>\n",
       "<style scoped>\n",
       "    .dataframe tbody tr th:only-of-type {\n",
       "        vertical-align: middle;\n",
       "    }\n",
       "\n",
       "    .dataframe tbody tr th {\n",
       "        vertical-align: top;\n",
       "    }\n",
       "\n",
       "    .dataframe thead th {\n",
       "        text-align: right;\n",
       "    }\n",
       "</style>\n",
       "<table border=\"1\" class=\"dataframe\">\n",
       "  <thead>\n",
       "    <tr style=\"text-align: right;\">\n",
       "      <th></th>\n",
       "      <th>hotel_id</th>\n",
       "      <th>lp_id</th>\n",
       "      <th>room_id</th>\n",
       "      <th>room_name</th>\n",
       "      <th>processed_room_name</th>\n",
       "    </tr>\n",
       "  </thead>\n",
       "  <tbody>\n",
       "    <tr>\n",
       "      <th>0</th>\n",
       "      <td>13484077</td>\n",
       "      <td>lp23e8ef</td>\n",
       "      <td>1142730702</td>\n",
       "      <td>Double or Twin Room</td>\n",
       "      <td>double twin room</td>\n",
       "    </tr>\n",
       "    <tr>\n",
       "      <th>1</th>\n",
       "      <td>13487663</td>\n",
       "      <td>lp6554de34</td>\n",
       "      <td>1141927122</td>\n",
       "      <td>House</td>\n",
       "      <td>house</td>\n",
       "    </tr>\n",
       "    <tr>\n",
       "      <th>2</th>\n",
       "      <td>13462809</td>\n",
       "      <td>lp6556c3dc</td>\n",
       "      <td>1142722063</td>\n",
       "      <td>Room</td>\n",
       "      <td>room</td>\n",
       "    </tr>\n",
       "    <tr>\n",
       "      <th>3</th>\n",
       "      <td>13530116</td>\n",
       "      <td>lp6555450b</td>\n",
       "      <td>1141968275</td>\n",
       "      <td>Triple Room</td>\n",
       "      <td>triple room</td>\n",
       "    </tr>\n",
       "    <tr>\n",
       "      <th>4</th>\n",
       "      <td>13530071</td>\n",
       "      <td>lp6557a92c</td>\n",
       "      <td>1142513784</td>\n",
       "      <td>Apartment</td>\n",
       "      <td>apartment</td>\n",
       "    </tr>\n",
       "    <tr>\n",
       "      <th>...</th>\n",
       "      <td>...</td>\n",
       "      <td>...</td>\n",
       "      <td>...</td>\n",
       "      <td>...</td>\n",
       "      <td>...</td>\n",
       "    </tr>\n",
       "    <tr>\n",
       "      <th>99988</th>\n",
       "      <td>482128</td>\n",
       "      <td>lp65563022</td>\n",
       "      <td>48212802</td>\n",
       "      <td>Single Room</td>\n",
       "      <td>single room</td>\n",
       "    </tr>\n",
       "    <tr>\n",
       "      <th>99989</th>\n",
       "      <td>482128</td>\n",
       "      <td>lp65563022</td>\n",
       "      <td>48212803</td>\n",
       "      <td>Superior Double or Twin Room with Lake View</td>\n",
       "      <td>superior double twin room lake view</td>\n",
       "    </tr>\n",
       "    <tr>\n",
       "      <th>99990</th>\n",
       "      <td>482128</td>\n",
       "      <td>lp65563022</td>\n",
       "      <td>48212808</td>\n",
       "      <td>Twin Room with Garden View</td>\n",
       "      <td>twin room garden view</td>\n",
       "    </tr>\n",
       "    <tr>\n",
       "      <th>99991</th>\n",
       "      <td>482128</td>\n",
       "      <td>lp65563022</td>\n",
       "      <td>48212809</td>\n",
       "      <td>Deluxe Double or Twin Room with Lake View</td>\n",
       "      <td>deluxe double twin room lake view</td>\n",
       "    </tr>\n",
       "    <tr>\n",
       "      <th>99992</th>\n",
       "      <td>482128</td>\n",
       "      <td>lp65563022</td>\n",
       "      <td>48212810</td>\n",
       "      <td>King Room with Lake View</td>\n",
       "      <td>king room lake view</td>\n",
       "    </tr>\n",
       "  </tbody>\n",
       "</table>\n",
       "<p>73801 rows × 5 columns</p>\n",
       "</div>"
      ],
      "text/plain": [
       "       hotel_id       lp_id     room_id  \\\n",
       "0      13484077    lp23e8ef  1142730702   \n",
       "1      13487663  lp6554de34  1141927122   \n",
       "2      13462809  lp6556c3dc  1142722063   \n",
       "3      13530116  lp6555450b  1141968275   \n",
       "4      13530071  lp6557a92c  1142513784   \n",
       "...         ...         ...         ...   \n",
       "99988    482128  lp65563022    48212802   \n",
       "99989    482128  lp65563022    48212803   \n",
       "99990    482128  lp65563022    48212808   \n",
       "99991    482128  lp65563022    48212809   \n",
       "99992    482128  lp65563022    48212810   \n",
       "\n",
       "                                         room_name  \\\n",
       "0                              Double or Twin Room   \n",
       "1                                            House   \n",
       "2                                             Room   \n",
       "3                                      Triple Room   \n",
       "4                                        Apartment   \n",
       "...                                            ...   \n",
       "99988                                  Single Room   \n",
       "99989  Superior Double or Twin Room with Lake View   \n",
       "99990                   Twin Room with Garden View   \n",
       "99991    Deluxe Double or Twin Room with Lake View   \n",
       "99992                     King Room with Lake View   \n",
       "\n",
       "                       processed_room_name  \n",
       "0                         double twin room  \n",
       "1                                    house  \n",
       "2                                     room  \n",
       "3                              triple room  \n",
       "4                                apartment  \n",
       "...                                    ...  \n",
       "99988                          single room  \n",
       "99989  superior double twin room lake view  \n",
       "99990                twin room garden view  \n",
       "99991    deluxe double twin room lake view  \n",
       "99992                  king room lake view  \n",
       "\n",
       "[73801 rows x 5 columns]"
      ]
     },
     "execution_count": 11,
     "metadata": {},
     "output_type": "execute_result"
    }
   ],
   "source": [
    "df_reference"
   ]
  },
  {
   "cell_type": "code",
   "execution_count": 12,
   "metadata": {},
   "outputs": [
    {
     "data": {
      "application/vnd.microsoft.datawrangler.viewer.v0+json": {
       "columns": [
        {
         "name": "index",
         "rawType": "int64",
         "type": "integer"
        },
        {
         "name": "core_room_id",
         "rawType": "int64",
         "type": "integer"
        },
        {
         "name": "core_hotel_id",
         "rawType": "int64",
         "type": "integer"
        },
        {
         "name": "lp_id",
         "rawType": "object",
         "type": "string"
        },
        {
         "name": "supplier_room_id",
         "rawType": "int64",
         "type": "integer"
        },
        {
         "name": "supplier_name",
         "rawType": "object",
         "type": "string"
        },
        {
         "name": "supplier_room_name",
         "rawType": "object",
         "type": "string"
        },
        {
         "name": "processed_room_name",
         "rawType": "object",
         "type": "string"
        }
       ],
       "conversionMethod": "pd.DataFrame",
       "ref": "8e44ea62-6824-4fd1-bbce-a54951b73582",
       "rows": [
        [
         "1",
         "2",
         "509236",
         "lp7c534",
         "200998017",
         "Expedia",
         "Deluxe Room, Balcony",
         "deluxe room balcony"
        ],
        [
         "4",
         "5",
         "970167",
         "lpecdb7",
         "218116045",
         "Expedia",
         "Traditional Cottage, 2 Bedrooms, Harbor View",
         "traditional cottage bedroom harbor view"
        ],
        [
         "6",
         "7",
         "626491",
         "lp98f3b",
         "201681924",
         "Expedia",
         "Comfort House, 6 Bedrooms, Ocean View",
         "comfort house bedroom ocean view"
        ],
        [
         "9",
         "10",
         "627565",
         "lp9936d",
         "201691684",
         "Expedia",
         "Family House, 4 Bedrooms",
         "family house bedroom"
        ],
        [
         "47",
         "48",
         "544769",
         "lp85001",
         "201249503",
         "Expedia",
         "Family Cabin",
         "family cabin"
        ],
        [
         "55",
         "56",
         "628385",
         "lp996a1",
         "201691656",
         "Expedia",
         "Family Condo, 3 Bedrooms",
         "family condo bedroom"
        ],
        [
         "70",
         "71",
         "527903",
         "lp80e1f",
         "201138629",
         "Expedia",
         "Standard Studio, Accessible, Ground Floor",
         "standard studio accessible ground floor"
        ],
        [
         "106",
         "107",
         "499494",
         "lp79f26",
         "200933889",
         "Expedia",
         "Superior Double Room",
         "superior double room"
        ],
        [
         "133",
         "134",
         "823034",
         "lpc8efa",
         "202457692",
         "Expedia",
         "Apartment, 2 Bedrooms, Sea View",
         "apartment bedroom sea view"
        ],
        [
         "220",
         "221",
         "627934",
         "lp994de",
         "201691736",
         "Expedia",
         "Family House, 6 Bedrooms",
         "family house bedroom"
        ],
        [
         "221",
         "222",
         "523819",
         "lp7fe2b",
         "314086868",
         "Expedia",
         "Room, 1 King Bed, Smoking, Ocean View",
         "room king bed smoking ocean view"
        ],
        [
         "239",
         "240",
         "551064",
         "lp86898",
         "201290243",
         "Expedia",
         "Superior Apartment, 1 Bedroom",
         "superior apartment bedroom"
        ],
        [
         "250",
         "251",
         "541380",
         "lp842c4",
         "201226437",
         "Expedia",
         "Premium Apartment, 3 Bedrooms",
         "premium apartment bedroom"
        ],
        [
         "289",
         "290",
         "494805",
         "lp78cd5",
         "201014329",
         "Expedia",
         "Family Suite",
         "family suite"
        ],
        [
         "342",
         "343",
         "565971",
         "lp8a2d3",
         "201384426",
         "Expedia",
         "Superior Apartment, 2 Bedrooms",
         "superior apartment bedroom"
        ],
        [
         "394",
         "395",
         "545136",
         "lp85170",
         "201250489",
         "Expedia",
         "Cabin, 4 Bedrooms",
         "cabin bedroom"
        ],
        [
         "411",
         "412",
         "493981",
         "lp7899d",
         "201113581",
         "Expedia",
         "Apartment D, 2 bedrooms (deposit by paypal required)",
         "apartment bedroom deposit paypal required"
        ],
        [
         "454",
         "455",
         "508516",
         "lp7c264",
         "217532054",
         "Expedia",
         "Private Rooms Shared Kitchen and Bath",
         "private room shared kitchen bath"
        ],
        [
         "465",
         "466",
         "510230",
         "lp7c916",
         "201009796",
         "Expedia",
         "Superior Room, Balcony",
         "superior room balcony"
        ],
        [
         "484",
         "485",
         "544795",
         "lp8501b",
         "201253947",
         "Expedia",
         "Classic Cabin, 3 Bedrooms",
         "classic cabin bedroom"
        ],
        [
         "521",
         "522",
         "544970",
         "lp850ca",
         "201249566",
         "Expedia",
         "Chalet, 2 Bedrooms, Lakeside",
         "chalet bedroom lakeside"
        ],
        [
         "531",
         "532",
         "513914",
         "lp7d77a",
         "201031288",
         "Expedia",
         "Double Room, 1 Bedroom, Lagoon View (Balcony)",
         "double room bedroom lagoon view balcony"
        ],
        [
         "538",
         "539",
         "544907",
         "lp8508b",
         "201249613",
         "Expedia",
         "Standard Apartment, 3 Bedrooms (18 Golden Square)",
         "standard apartment bedroom golden square"
        ],
        [
         "548",
         "549",
         "627935",
         "lp994df",
         "201691790",
         "Expedia",
         "Family House, 6 Bedrooms",
         "family house bedroom"
        ],
        [
         "581",
         "582",
         "599538",
         "lp925f2",
         "201545947",
         "Expedia",
         "Family Condo, 3 Bedrooms, Golf View, Garden Area",
         "family condo bedroom golf view garden area"
        ],
        [
         "628",
         "629",
         "617881",
         "lp96d99",
         "220240290",
         "Expedia",
         "Apartment, 2 Bedrooms, Balcony, River View",
         "apartment bedroom balcony river view"
        ],
        [
         "635",
         "636",
         "576780",
         "lp8cd0c",
         "201456278",
         "Expedia",
         "Triple Room",
         "triple room"
        ],
        [
         "654",
         "655",
         "593762",
         "lp90f62",
         "201523183",
         "Expedia",
         "Suite",
         "suite"
        ],
        [
         "688",
         "689",
         "544808",
         "lp85028",
         "201249502",
         "Expedia",
         "House, 6 Bedrooms",
         "house bedroom"
        ],
        [
         "720",
         "721",
         "619341",
         "lp9734d",
         "201641675",
         "Expedia",
         "Family Villa, 5 Bedrooms, Golf View, Garden Area",
         "family villa bedroom golf view garden area"
        ],
        [
         "731",
         "732",
         "971927",
         "lped497",
         "216612549",
         "Expedia",
         "Cottage",
         "cottage"
        ],
        [
         "737",
         "738",
         "628717",
         "lp997ed",
         "201691719",
         "Expedia",
         "Family House, 4 Bedrooms",
         "family house bedroom"
        ],
        [
         "763",
         "764",
         "975753",
         "lpee389",
         "219317397",
         "Expedia",
         "Cottage",
         "cottage"
        ],
        [
         "774",
         "775",
         "495203",
         "lp78e63",
         "200909236",
         "Expedia",
         "President Private Pool Villa",
         "president private pool villa"
        ],
        [
         "779",
         "780",
         "496199",
         "lp79247",
         "200976736",
         "Expedia",
         "Apartment, 3 Bedrooms, Balcony, Sea View (1st floor)",
         "apartment bedroom balcony sea view st floor"
        ],
        [
         "797",
         "798",
         "492595",
         "lp78433",
         "200896804",
         "Expedia",
         "Double Room",
         "double room"
        ],
        [
         "812",
         "813",
         "561572",
         "lp891a4",
         "201263147",
         "Expedia",
         "Superior Room",
         "superior room"
        ],
        [
         "821",
         "822",
         "814875",
         "lpc6f1b",
         "219302563",
         "Expedia",
         "Deluxe Apartment, 2 Bedrooms, Sea View, Beachfront",
         "deluxe apartment bedroom sea view beachfront"
        ],
        [
         "840",
         "841",
         "555098",
         "lp8785a",
         "201315512",
         "Expedia",
         "Standard Room",
         "standard room"
        ],
        [
         "845",
         "846",
         "514529",
         "lp7d9e1",
         "201034742",
         "Expedia",
         "Standard Room (A/C)",
         "standard room ac"
        ],
        [
         "870",
         "871",
         "810707",
         "lpc5ed3",
         "202439479",
         "Expedia",
         "Studio, Terrace",
         "studio terrace"
        ],
        [
         "872",
         "873",
         "701892",
         "lpab5c4",
         "202067126",
         "Expedia",
         "Studio (Studio South)",
         "studio studio south"
        ],
        [
         "887",
         "888",
         "576056",
         "lp8ca38",
         "201452184",
         "Expedia",
         "House, 3 Bedrooms",
         "house bedroom"
        ],
        [
         "908",
         "909",
         "972455",
         "lped6a7",
         "221718034",
         "Expedia",
         "Cottage",
         "cottage"
        ],
        [
         "923",
         "924",
         "514166",
         "lp7d876",
         "201033475",
         "Expedia",
         "Quadruple Room (4 Japanese Futons)",
         "quadruple room japanese futon"
        ],
        [
         "1043",
         "1044",
         "879769",
         "lpd6c99",
         "215705992",
         "Expedia",
         "Standard Room, 1 Double Bed",
         "standard room double bed"
        ],
        [
         "1048",
         "1049",
         "683291",
         "lpa6d1b",
         "201916708",
         "Expedia",
         "Business Studio",
         "business studio"
        ],
        [
         "1052",
         "1053",
         "529980",
         "lp8163c",
         "201141234",
         "Expedia",
         "Standard Twin Room",
         "standard twin room"
        ],
        [
         "1058",
         "1059",
         "973643",
         "lpedb4b",
         "216312482",
         "Expedia",
         "Cottage",
         "cottage"
        ],
        [
         "1063",
         "1064",
         "497049",
         "lp79599",
         "200931719",
         "Expedia",
         "Standard Double Room",
         "standard double room"
        ]
       ],
       "shape": {
        "columns": 7,
        "rows": 113718
       }
      },
      "text/html": [
       "<div>\n",
       "<style scoped>\n",
       "    .dataframe tbody tr th:only-of-type {\n",
       "        vertical-align: middle;\n",
       "    }\n",
       "\n",
       "    .dataframe tbody tr th {\n",
       "        vertical-align: top;\n",
       "    }\n",
       "\n",
       "    .dataframe thead th {\n",
       "        text-align: right;\n",
       "    }\n",
       "</style>\n",
       "<table border=\"1\" class=\"dataframe\">\n",
       "  <thead>\n",
       "    <tr style=\"text-align: right;\">\n",
       "      <th></th>\n",
       "      <th>core_room_id</th>\n",
       "      <th>core_hotel_id</th>\n",
       "      <th>lp_id</th>\n",
       "      <th>supplier_room_id</th>\n",
       "      <th>supplier_name</th>\n",
       "      <th>supplier_room_name</th>\n",
       "      <th>processed_room_name</th>\n",
       "    </tr>\n",
       "  </thead>\n",
       "  <tbody>\n",
       "    <tr>\n",
       "      <th>1</th>\n",
       "      <td>2</td>\n",
       "      <td>509236</td>\n",
       "      <td>lp7c534</td>\n",
       "      <td>200998017</td>\n",
       "      <td>Expedia</td>\n",
       "      <td>Deluxe Room, Balcony</td>\n",
       "      <td>deluxe room balcony</td>\n",
       "    </tr>\n",
       "    <tr>\n",
       "      <th>4</th>\n",
       "      <td>5</td>\n",
       "      <td>970167</td>\n",
       "      <td>lpecdb7</td>\n",
       "      <td>218116045</td>\n",
       "      <td>Expedia</td>\n",
       "      <td>Traditional Cottage, 2 Bedrooms, Harbor View</td>\n",
       "      <td>traditional cottage bedroom harbor view</td>\n",
       "    </tr>\n",
       "    <tr>\n",
       "      <th>6</th>\n",
       "      <td>7</td>\n",
       "      <td>626491</td>\n",
       "      <td>lp98f3b</td>\n",
       "      <td>201681924</td>\n",
       "      <td>Expedia</td>\n",
       "      <td>Comfort House, 6 Bedrooms, Ocean View</td>\n",
       "      <td>comfort house bedroom ocean view</td>\n",
       "    </tr>\n",
       "    <tr>\n",
       "      <th>9</th>\n",
       "      <td>10</td>\n",
       "      <td>627565</td>\n",
       "      <td>lp9936d</td>\n",
       "      <td>201691684</td>\n",
       "      <td>Expedia</td>\n",
       "      <td>Family House, 4 Bedrooms</td>\n",
       "      <td>family house bedroom</td>\n",
       "    </tr>\n",
       "    <tr>\n",
       "      <th>47</th>\n",
       "      <td>48</td>\n",
       "      <td>544769</td>\n",
       "      <td>lp85001</td>\n",
       "      <td>201249503</td>\n",
       "      <td>Expedia</td>\n",
       "      <td>Family Cabin</td>\n",
       "      <td>family cabin</td>\n",
       "    </tr>\n",
       "    <tr>\n",
       "      <th>...</th>\n",
       "      <td>...</td>\n",
       "      <td>...</td>\n",
       "      <td>...</td>\n",
       "      <td>...</td>\n",
       "      <td>...</td>\n",
       "      <td>...</td>\n",
       "      <td>...</td>\n",
       "    </tr>\n",
       "    <tr>\n",
       "      <th>2868987</th>\n",
       "      <td>2912375</td>\n",
       "      <td>1701692924</td>\n",
       "      <td>lp656dc5fc</td>\n",
       "      <td>322141874</td>\n",
       "      <td>Expedia</td>\n",
       "      <td>Basic Shared Dormitory (10 bunk beds, N2)</td>\n",
       "      <td>basic shared dormitory bunk bed n</td>\n",
       "    </tr>\n",
       "    <tr>\n",
       "      <th>2869025</th>\n",
       "      <td>2912413</td>\n",
       "      <td>840974</td>\n",
       "      <td>lpcd50e</td>\n",
       "      <td>323988812</td>\n",
       "      <td>Expedia</td>\n",
       "      <td>Presidential Suite</td>\n",
       "      <td>presidential suite</td>\n",
       "    </tr>\n",
       "    <tr>\n",
       "      <th>2869026</th>\n",
       "      <td>2912414</td>\n",
       "      <td>840974</td>\n",
       "      <td>lpcd50e</td>\n",
       "      <td>323988824</td>\n",
       "      <td>Expedia</td>\n",
       "      <td>Presidential Villa</td>\n",
       "      <td>presidential villa</td>\n",
       "    </tr>\n",
       "    <tr>\n",
       "      <th>2869033</th>\n",
       "      <td>2912421</td>\n",
       "      <td>840974</td>\n",
       "      <td>lpcd50e</td>\n",
       "      <td>323988797</td>\n",
       "      <td>Expedia</td>\n",
       "      <td>Superior Twin</td>\n",
       "      <td>superior twin</td>\n",
       "    </tr>\n",
       "    <tr>\n",
       "      <th>2869042</th>\n",
       "      <td>2912430</td>\n",
       "      <td>840974</td>\n",
       "      <td>lpcd50e</td>\n",
       "      <td>323988775</td>\n",
       "      <td>Expedia</td>\n",
       "      <td>Mongomo King Suite</td>\n",
       "      <td>mongomo king suite</td>\n",
       "    </tr>\n",
       "  </tbody>\n",
       "</table>\n",
       "<p>113718 rows × 7 columns</p>\n",
       "</div>"
      ],
      "text/plain": [
       "         core_room_id  core_hotel_id       lp_id  supplier_room_id  \\\n",
       "1                   2         509236     lp7c534         200998017   \n",
       "4                   5         970167     lpecdb7         218116045   \n",
       "6                   7         626491     lp98f3b         201681924   \n",
       "9                  10         627565     lp9936d         201691684   \n",
       "47                 48         544769     lp85001         201249503   \n",
       "...               ...            ...         ...               ...   \n",
       "2868987       2912375     1701692924  lp656dc5fc         322141874   \n",
       "2869025       2912413         840974     lpcd50e         323988812   \n",
       "2869026       2912414         840974     lpcd50e         323988824   \n",
       "2869033       2912421         840974     lpcd50e         323988797   \n",
       "2869042       2912430         840974     lpcd50e         323988775   \n",
       "\n",
       "        supplier_name                            supplier_room_name  \\\n",
       "1             Expedia                          Deluxe Room, Balcony   \n",
       "4             Expedia  Traditional Cottage, 2 Bedrooms, Harbor View   \n",
       "6             Expedia         Comfort House, 6 Bedrooms, Ocean View   \n",
       "9             Expedia                      Family House, 4 Bedrooms   \n",
       "47            Expedia                                  Family Cabin   \n",
       "...               ...                                           ...   \n",
       "2868987       Expedia     Basic Shared Dormitory (10 bunk beds, N2)   \n",
       "2869025       Expedia                            Presidential Suite   \n",
       "2869026       Expedia                            Presidential Villa   \n",
       "2869033       Expedia                                 Superior Twin   \n",
       "2869042       Expedia                            Mongomo King Suite   \n",
       "\n",
       "                             processed_room_name  \n",
       "1                            deluxe room balcony  \n",
       "4        traditional cottage bedroom harbor view  \n",
       "6               comfort house bedroom ocean view  \n",
       "9                           family house bedroom  \n",
       "47                                  family cabin  \n",
       "...                                          ...  \n",
       "2868987        basic shared dormitory bunk bed n  \n",
       "2869025                       presidential suite  \n",
       "2869026                       presidential villa  \n",
       "2869033                            superior twin  \n",
       "2869042                       mongomo king suite  \n",
       "\n",
       "[113718 rows x 7 columns]"
      ]
     },
     "execution_count": 12,
     "metadata": {},
     "output_type": "execute_result"
    }
   ],
   "source": [
    "df_expedia"
   ]
  },
  {
   "cell_type": "code",
   "execution_count": 13,
   "metadata": {},
   "outputs": [
    {
     "data": {
      "application/vnd.microsoft.datawrangler.viewer.v0+json": {
       "columns": [
        {
         "name": "index",
         "rawType": "int64",
         "type": "integer"
        },
        {
         "name": "hotel_id",
         "rawType": "int64",
         "type": "integer"
        },
        {
         "name": "lp_id",
         "rawType": "object",
         "type": "string"
        },
        {
         "name": "room_id",
         "rawType": "int64",
         "type": "integer"
        },
        {
         "name": "room_name",
         "rawType": "object",
         "type": "string"
        },
        {
         "name": "processed_room_name",
         "rawType": "object",
         "type": "string"
        }
       ],
       "conversionMethod": "pd.DataFrame",
       "ref": "22bb8748-113b-4801-9000-c8b9144f5a31",
       "rows": [
        [
         "43",
         "7855856",
         "lp9bfad",
         "785585601",
         "One-Bedroom Apartment",
         "onebedroom apartment"
        ]
       ],
       "shape": {
        "columns": 5,
        "rows": 1
       }
      },
      "text/html": [
       "<div>\n",
       "<style scoped>\n",
       "    .dataframe tbody tr th:only-of-type {\n",
       "        vertical-align: middle;\n",
       "    }\n",
       "\n",
       "    .dataframe tbody tr th {\n",
       "        vertical-align: top;\n",
       "    }\n",
       "\n",
       "    .dataframe thead th {\n",
       "        text-align: right;\n",
       "    }\n",
       "</style>\n",
       "<table border=\"1\" class=\"dataframe\">\n",
       "  <thead>\n",
       "    <tr style=\"text-align: right;\">\n",
       "      <th></th>\n",
       "      <th>hotel_id</th>\n",
       "      <th>lp_id</th>\n",
       "      <th>room_id</th>\n",
       "      <th>room_name</th>\n",
       "      <th>processed_room_name</th>\n",
       "    </tr>\n",
       "  </thead>\n",
       "  <tbody>\n",
       "    <tr>\n",
       "      <th>43</th>\n",
       "      <td>7855856</td>\n",
       "      <td>lp9bfad</td>\n",
       "      <td>785585601</td>\n",
       "      <td>One-Bedroom Apartment</td>\n",
       "      <td>onebedroom apartment</td>\n",
       "    </tr>\n",
       "  </tbody>\n",
       "</table>\n",
       "</div>"
      ],
      "text/plain": [
       "    hotel_id    lp_id    room_id              room_name   processed_room_name\n",
       "43   7855856  lp9bfad  785585601  One-Bedroom Apartment  onebedroom apartment"
      ]
     },
     "execution_count": 13,
     "metadata": {},
     "output_type": "execute_result"
    }
   ],
   "source": [
    "df_reference[df_reference['lp_id'] == 'lp9bfad']"
   ]
  },
  {
   "cell_type": "code",
   "execution_count": 14,
   "metadata": {},
   "outputs": [
    {
     "data": {
      "application/vnd.microsoft.datawrangler.viewer.v0+json": {
       "columns": [
        {
         "name": "index",
         "rawType": "int64",
         "type": "integer"
        },
        {
         "name": "core_room_id",
         "rawType": "int64",
         "type": "integer"
        },
        {
         "name": "core_hotel_id",
         "rawType": "int64",
         "type": "integer"
        },
        {
         "name": "lp_id",
         "rawType": "object",
         "type": "string"
        },
        {
         "name": "supplier_room_id",
         "rawType": "int64",
         "type": "integer"
        },
        {
         "name": "supplier_name",
         "rawType": "object",
         "type": "string"
        },
        {
         "name": "supplier_room_name",
         "rawType": "object",
         "type": "string"
        },
        {
         "name": "processed_room_name",
         "rawType": "object",
         "type": "string"
        }
       ],
       "conversionMethod": "pd.DataFrame",
       "ref": "9dd4c245-cf61-4eff-8d4b-4a36ab531da8",
       "rows": [
        [
         "249498",
         "252011",
         "638893",
         "lp9bfad",
         "201720281",
         "Expedia",
         "Standard Room, 1 Queen Bed, Garden View",
         "standard room queen bed garden view"
        ],
        [
         "256820",
         "259333",
         "638893",
         "lp9bfad",
         "201720261",
         "Expedia",
         "Economy Room, 1 Double Bed",
         "economy room double bed"
        ],
        [
         "262292",
         "264805",
         "638893",
         "lp9bfad",
         "201720294",
         "Expedia",
         "Family Suite, 1 Bedroom, Connecting Rooms, City View",
         "family suite bedroom connecting room city view"
        ],
        [
         "267591",
         "270104",
         "638893",
         "lp9bfad",
         "201720284",
         "Expedia",
         "Executive Room, 1 King Bed, Terrace",
         "executive room king bed terrace"
        ],
        [
         "271171",
         "273684",
         "638893",
         "lp9bfad",
         "201720275",
         "Expedia",
         "Standard Room, 1 Queen Bed, Mountain View (Private detached bathroom)",
         "standard room queen bed mountain view private detached bathroom"
        ],
        [
         "272972",
         "275485",
         "638893",
         "lp9bfad",
         "201720288",
         "Expedia",
         "Deluxe Suite, 1 King Bed, Terrace",
         "deluxe suite king bed terrace"
        ],
        [
         "274284",
         "276797",
         "638893",
         "lp9bfad",
         "201720313",
         "Expedia",
         "Apartment, 2 Bedrooms, Kitchenette",
         "apartment bedroom kitchenette"
        ],
        [
         "275229",
         "277742",
         "638893",
         "lp9bfad",
         "201720315",
         "Expedia",
         "Panoramic Apartment, 2 Bedrooms, Kitchen, Lake View",
         "panoramic apartment bedroom kitchen lake view"
        ]
       ],
       "shape": {
        "columns": 7,
        "rows": 8
       }
      },
      "text/html": [
       "<div>\n",
       "<style scoped>\n",
       "    .dataframe tbody tr th:only-of-type {\n",
       "        vertical-align: middle;\n",
       "    }\n",
       "\n",
       "    .dataframe tbody tr th {\n",
       "        vertical-align: top;\n",
       "    }\n",
       "\n",
       "    .dataframe thead th {\n",
       "        text-align: right;\n",
       "    }\n",
       "</style>\n",
       "<table border=\"1\" class=\"dataframe\">\n",
       "  <thead>\n",
       "    <tr style=\"text-align: right;\">\n",
       "      <th></th>\n",
       "      <th>core_room_id</th>\n",
       "      <th>core_hotel_id</th>\n",
       "      <th>lp_id</th>\n",
       "      <th>supplier_room_id</th>\n",
       "      <th>supplier_name</th>\n",
       "      <th>supplier_room_name</th>\n",
       "      <th>processed_room_name</th>\n",
       "    </tr>\n",
       "  </thead>\n",
       "  <tbody>\n",
       "    <tr>\n",
       "      <th>249498</th>\n",
       "      <td>252011</td>\n",
       "      <td>638893</td>\n",
       "      <td>lp9bfad</td>\n",
       "      <td>201720281</td>\n",
       "      <td>Expedia</td>\n",
       "      <td>Standard Room, 1 Queen Bed, Garden View</td>\n",
       "      <td>standard room queen bed garden view</td>\n",
       "    </tr>\n",
       "    <tr>\n",
       "      <th>256820</th>\n",
       "      <td>259333</td>\n",
       "      <td>638893</td>\n",
       "      <td>lp9bfad</td>\n",
       "      <td>201720261</td>\n",
       "      <td>Expedia</td>\n",
       "      <td>Economy Room, 1 Double Bed</td>\n",
       "      <td>economy room double bed</td>\n",
       "    </tr>\n",
       "    <tr>\n",
       "      <th>262292</th>\n",
       "      <td>264805</td>\n",
       "      <td>638893</td>\n",
       "      <td>lp9bfad</td>\n",
       "      <td>201720294</td>\n",
       "      <td>Expedia</td>\n",
       "      <td>Family Suite, 1 Bedroom, Connecting Rooms, Cit...</td>\n",
       "      <td>family suite bedroom connecting room city view</td>\n",
       "    </tr>\n",
       "    <tr>\n",
       "      <th>267591</th>\n",
       "      <td>270104</td>\n",
       "      <td>638893</td>\n",
       "      <td>lp9bfad</td>\n",
       "      <td>201720284</td>\n",
       "      <td>Expedia</td>\n",
       "      <td>Executive Room, 1 King Bed, Terrace</td>\n",
       "      <td>executive room king bed terrace</td>\n",
       "    </tr>\n",
       "    <tr>\n",
       "      <th>271171</th>\n",
       "      <td>273684</td>\n",
       "      <td>638893</td>\n",
       "      <td>lp9bfad</td>\n",
       "      <td>201720275</td>\n",
       "      <td>Expedia</td>\n",
       "      <td>Standard Room, 1 Queen Bed, Mountain View (Pri...</td>\n",
       "      <td>standard room queen bed mountain view private ...</td>\n",
       "    </tr>\n",
       "    <tr>\n",
       "      <th>272972</th>\n",
       "      <td>275485</td>\n",
       "      <td>638893</td>\n",
       "      <td>lp9bfad</td>\n",
       "      <td>201720288</td>\n",
       "      <td>Expedia</td>\n",
       "      <td>Deluxe Suite, 1 King Bed, Terrace</td>\n",
       "      <td>deluxe suite king bed terrace</td>\n",
       "    </tr>\n",
       "    <tr>\n",
       "      <th>274284</th>\n",
       "      <td>276797</td>\n",
       "      <td>638893</td>\n",
       "      <td>lp9bfad</td>\n",
       "      <td>201720313</td>\n",
       "      <td>Expedia</td>\n",
       "      <td>Apartment, 2 Bedrooms, Kitchenette</td>\n",
       "      <td>apartment bedroom kitchenette</td>\n",
       "    </tr>\n",
       "    <tr>\n",
       "      <th>275229</th>\n",
       "      <td>277742</td>\n",
       "      <td>638893</td>\n",
       "      <td>lp9bfad</td>\n",
       "      <td>201720315</td>\n",
       "      <td>Expedia</td>\n",
       "      <td>Panoramic Apartment, 2 Bedrooms, Kitchen, Lake...</td>\n",
       "      <td>panoramic apartment bedroom kitchen lake view</td>\n",
       "    </tr>\n",
       "  </tbody>\n",
       "</table>\n",
       "</div>"
      ],
      "text/plain": [
       "        core_room_id  core_hotel_id    lp_id  supplier_room_id supplier_name  \\\n",
       "249498        252011         638893  lp9bfad         201720281       Expedia   \n",
       "256820        259333         638893  lp9bfad         201720261       Expedia   \n",
       "262292        264805         638893  lp9bfad         201720294       Expedia   \n",
       "267591        270104         638893  lp9bfad         201720284       Expedia   \n",
       "271171        273684         638893  lp9bfad         201720275       Expedia   \n",
       "272972        275485         638893  lp9bfad         201720288       Expedia   \n",
       "274284        276797         638893  lp9bfad         201720313       Expedia   \n",
       "275229        277742         638893  lp9bfad         201720315       Expedia   \n",
       "\n",
       "                                       supplier_room_name  \\\n",
       "249498            Standard Room, 1 Queen Bed, Garden View   \n",
       "256820                         Economy Room, 1 Double Bed   \n",
       "262292  Family Suite, 1 Bedroom, Connecting Rooms, Cit...   \n",
       "267591                Executive Room, 1 King Bed, Terrace   \n",
       "271171  Standard Room, 1 Queen Bed, Mountain View (Pri...   \n",
       "272972                  Deluxe Suite, 1 King Bed, Terrace   \n",
       "274284                 Apartment, 2 Bedrooms, Kitchenette   \n",
       "275229  Panoramic Apartment, 2 Bedrooms, Kitchen, Lake...   \n",
       "\n",
       "                                      processed_room_name  \n",
       "249498                standard room queen bed garden view  \n",
       "256820                            economy room double bed  \n",
       "262292     family suite bedroom connecting room city view  \n",
       "267591                    executive room king bed terrace  \n",
       "271171  standard room queen bed mountain view private ...  \n",
       "272972                      deluxe suite king bed terrace  \n",
       "274284                      apartment bedroom kitchenette  \n",
       "275229      panoramic apartment bedroom kitchen lake view  "
      ]
     },
     "execution_count": 14,
     "metadata": {},
     "output_type": "execute_result"
    }
   ],
   "source": [
    "df_expedia[df_expedia['lp_id'] == 'lp9bfad']"
   ]
  },
  {
   "cell_type": "markdown",
   "metadata": {},
   "source": [
    "To merge room records from different hotel entries, we will use fuzzy string matching to determine the similarity between room names. Similar room names will then be matched to create a single, consistent room list."
   ]
  },
  {
   "cell_type": "code",
   "execution_count": 15,
   "metadata": {},
   "outputs": [],
   "source": [
    "def merge_rooms_by_hotel(lp_id, df1, df2, room_col=\"processed_room_name\", similarity_threshold=80):\n",
    "    \"\"\"\n",
    "    Merge room data for a given hotel id (lp_id) from two DataFrames using fuzzy matching.\n",
    "    Prevents duplication by ensuring unique room descriptions before merging.\n",
    "    \n",
    "    Additionally, returns a DataFrame with the unmatched rooms from df2.\n",
    "\n",
    "    Parameters:\n",
    "        lp_id (str/int): The hotel id to filter on.\n",
    "        df1 (DataFrame): First dataset containing hotel and room info.\n",
    "        df2 (DataFrame): Second dataset containing hotel and room info.\n",
    "        room_col (str): The column name for room names in both DataFrames.\n",
    "        similarity_threshold (int): Minimum similarity score (0-100) for a match.\n",
    "\n",
    "    Returns:\n",
    "        tuple: A tuple with two DataFrames:\n",
    "            - Merged DataFrame with fuzzy-matched room info.\n",
    "            - DataFrame containing unmatched rooms from df2.\n",
    "    \"\"\"\n",
    "    # Filter for the given hotel\n",
    "    subset1 = df1[df1['lp_id'] == lp_id].copy()\n",
    "    subset2 = df2[df2['lp_id'] == lp_id].copy()\n",
    "\n",
    "    # Deduplicate room names before matching\n",
    "    unique_rooms1 = subset1[[room_col]].drop_duplicates()\n",
    "    unique_rooms2 = subset2[[room_col]].drop_duplicates()\n",
    "\n",
    "    # Create a mapping from df2 to df1 using fuzzy matching\n",
    "    matched_rooms = {}\n",
    "    for room2 in unique_rooms2[room_col]:\n",
    "        match, score, _ = process.extractOne(room2, unique_rooms1[room_col].tolist(), scorer=fuzz.token_sort_ratio)\n",
    "        if score >= similarity_threshold:\n",
    "            matched_rooms[room2] = match\n",
    "\n",
    "    # Apply fuzzy match mapping and ensure no missing values\n",
    "    subset2['matched_room'] = subset2[room_col].map(matched_rooms).fillna(subset2[room_col])\n",
    "\n",
    "    # Merge unique room records from df1 and df2 based on the matched room names\n",
    "    merged_rooms = unique_rooms1.merge(\n",
    "        subset2[[room_col, 'matched_room']].drop_duplicates(), \n",
    "        left_on=room_col, \n",
    "        right_on=\"matched_room\", \n",
    "        suffixes=('_df1', '_df2')\n",
    "    )\n",
    "\n",
    "    # Map back to original DataFrames to include all columns\n",
    "    final_merged = merged_rooms.merge(\n",
    "        subset1, left_on=\"matched_room\", right_on=room_col, how=\"left\"\n",
    "    )\n",
    "    \n",
    "    # Identify unmatched rooms in df2 (those not present in the matched_rooms mapping)\n",
    "    unmatched_rooms_df = subset2[~subset2[room_col].isin(matched_rooms.keys())].copy()\n",
    "    \n",
    "    return final_merged, unmatched_rooms_df"
   ]
  },
  {
   "cell_type": "markdown",
   "metadata": {},
   "source": [
    "### Testing different cases"
   ]
  },
  {
   "cell_type": "markdown",
   "metadata": {},
   "source": [
    "0. Hotel has rooms with quite similar descriptions in both providers"
   ]
  },
  {
   "cell_type": "code",
   "execution_count": 16,
   "metadata": {},
   "outputs": [
    {
     "data": {
      "application/vnd.microsoft.datawrangler.viewer.v0+json": {
       "columns": [
        {
         "name": "index",
         "rawType": "int64",
         "type": "integer"
        },
        {
         "name": "processed_room_name_df1",
         "rawType": "object",
         "type": "string"
        },
        {
         "name": "processed_room_name_df2",
         "rawType": "object",
         "type": "string"
        },
        {
         "name": "matched_room",
         "rawType": "object",
         "type": "string"
        },
        {
         "name": "hotel_id",
         "rawType": "int64",
         "type": "integer"
        },
        {
         "name": "lp_id",
         "rawType": "object",
         "type": "string"
        },
        {
         "name": "room_id",
         "rawType": "int64",
         "type": "integer"
        },
        {
         "name": "room_name",
         "rawType": "object",
         "type": "string"
        },
        {
         "name": "processed_room_name",
         "rawType": "object",
         "type": "string"
        }
       ],
       "conversionMethod": "pd.DataFrame",
       "ref": "900a8e3f-4454-48d3-b662-0d44ec8ccd22",
       "rows": [
        [
         "0",
         "deluxe room balcony",
         "deluxe room balcony",
         "deluxe room balcony",
         "13518170",
         "lp7c534",
         "1142485350",
         "Deluxe Room, Balcony",
         "deluxe room balcony"
        ],
        [
         "1",
         "standard room",
         "standard room",
         "standard room",
         "13518170",
         "lp7c534",
         "1142486049",
         "Standard Room",
         "standard room"
        ]
       ],
       "shape": {
        "columns": 8,
        "rows": 2
       }
      },
      "text/html": [
       "<div>\n",
       "<style scoped>\n",
       "    .dataframe tbody tr th:only-of-type {\n",
       "        vertical-align: middle;\n",
       "    }\n",
       "\n",
       "    .dataframe tbody tr th {\n",
       "        vertical-align: top;\n",
       "    }\n",
       "\n",
       "    .dataframe thead th {\n",
       "        text-align: right;\n",
       "    }\n",
       "</style>\n",
       "<table border=\"1\" class=\"dataframe\">\n",
       "  <thead>\n",
       "    <tr style=\"text-align: right;\">\n",
       "      <th></th>\n",
       "      <th>processed_room_name_df1</th>\n",
       "      <th>processed_room_name_df2</th>\n",
       "      <th>matched_room</th>\n",
       "      <th>hotel_id</th>\n",
       "      <th>lp_id</th>\n",
       "      <th>room_id</th>\n",
       "      <th>room_name</th>\n",
       "      <th>processed_room_name</th>\n",
       "    </tr>\n",
       "  </thead>\n",
       "  <tbody>\n",
       "    <tr>\n",
       "      <th>0</th>\n",
       "      <td>deluxe room balcony</td>\n",
       "      <td>deluxe room balcony</td>\n",
       "      <td>deluxe room balcony</td>\n",
       "      <td>13518170</td>\n",
       "      <td>lp7c534</td>\n",
       "      <td>1142485350</td>\n",
       "      <td>Deluxe Room, Balcony</td>\n",
       "      <td>deluxe room balcony</td>\n",
       "    </tr>\n",
       "    <tr>\n",
       "      <th>1</th>\n",
       "      <td>standard room</td>\n",
       "      <td>standard room</td>\n",
       "      <td>standard room</td>\n",
       "      <td>13518170</td>\n",
       "      <td>lp7c534</td>\n",
       "      <td>1142486049</td>\n",
       "      <td>Standard Room</td>\n",
       "      <td>standard room</td>\n",
       "    </tr>\n",
       "  </tbody>\n",
       "</table>\n",
       "</div>"
      ],
      "text/plain": [
       "  processed_room_name_df1 processed_room_name_df2         matched_room  \\\n",
       "0     deluxe room balcony     deluxe room balcony  deluxe room balcony   \n",
       "1           standard room           standard room        standard room   \n",
       "\n",
       "   hotel_id    lp_id     room_id             room_name  processed_room_name  \n",
       "0  13518170  lp7c534  1142485350  Deluxe Room, Balcony  deluxe room balcony  \n",
       "1  13518170  lp7c534  1142486049         Standard Room        standard room  "
      ]
     },
     "execution_count": 16,
     "metadata": {},
     "output_type": "execute_result"
    }
   ],
   "source": [
    "matched_0, unmatched_0 = merge_rooms_by_hotel('lp7c534', df_reference, df_expedia)\n",
    "matched_0"
   ]
  },
  {
   "cell_type": "code",
   "execution_count": 17,
   "metadata": {},
   "outputs": [
    {
     "data": {
      "application/vnd.microsoft.datawrangler.viewer.v0+json": {
       "columns": [
        {
         "name": "index",
         "rawType": "int64",
         "type": "integer"
        },
        {
         "name": "core_room_id",
         "rawType": "int64",
         "type": "integer"
        },
        {
         "name": "core_hotel_id",
         "rawType": "int64",
         "type": "integer"
        },
        {
         "name": "lp_id",
         "rawType": "object",
         "type": "string"
        },
        {
         "name": "supplier_room_id",
         "rawType": "int64",
         "type": "integer"
        },
        {
         "name": "supplier_name",
         "rawType": "object",
         "type": "string"
        },
        {
         "name": "supplier_room_name",
         "rawType": "object",
         "type": "string"
        },
        {
         "name": "processed_room_name",
         "rawType": "object",
         "type": "string"
        },
        {
         "name": "matched_room",
         "rawType": "object",
         "type": "string"
        }
       ],
       "conversionMethod": "pd.DataFrame",
       "ref": "a87e221f-6e64-4070-9ae4-164464781a27",
       "rows": [],
       "shape": {
        "columns": 8,
        "rows": 0
       }
      },
      "text/html": [
       "<div>\n",
       "<style scoped>\n",
       "    .dataframe tbody tr th:only-of-type {\n",
       "        vertical-align: middle;\n",
       "    }\n",
       "\n",
       "    .dataframe tbody tr th {\n",
       "        vertical-align: top;\n",
       "    }\n",
       "\n",
       "    .dataframe thead th {\n",
       "        text-align: right;\n",
       "    }\n",
       "</style>\n",
       "<table border=\"1\" class=\"dataframe\">\n",
       "  <thead>\n",
       "    <tr style=\"text-align: right;\">\n",
       "      <th></th>\n",
       "      <th>core_room_id</th>\n",
       "      <th>core_hotel_id</th>\n",
       "      <th>lp_id</th>\n",
       "      <th>supplier_room_id</th>\n",
       "      <th>supplier_name</th>\n",
       "      <th>supplier_room_name</th>\n",
       "      <th>processed_room_name</th>\n",
       "      <th>matched_room</th>\n",
       "    </tr>\n",
       "  </thead>\n",
       "  <tbody>\n",
       "  </tbody>\n",
       "</table>\n",
       "</div>"
      ],
      "text/plain": [
       "Empty DataFrame\n",
       "Columns: [core_room_id, core_hotel_id, lp_id, supplier_room_id, supplier_name, supplier_room_name, processed_room_name, matched_room]\n",
       "Index: []"
      ]
     },
     "execution_count": 17,
     "metadata": {},
     "output_type": "execute_result"
    }
   ],
   "source": [
    "unmatched_0"
   ]
  },
  {
   "cell_type": "markdown",
   "metadata": {},
   "source": [
    "1. Hotel has the same descriptions for many rooms."
   ]
  },
  {
   "cell_type": "code",
   "execution_count": 18,
   "metadata": {},
   "outputs": [
    {
     "data": {
      "application/vnd.microsoft.datawrangler.viewer.v0+json": {
       "columns": [
        {
         "name": "index",
         "rawType": "int64",
         "type": "integer"
        },
        {
         "name": "processed_room_name_df1",
         "rawType": "object",
         "type": "string"
        },
        {
         "name": "processed_room_name_df2",
         "rawType": "object",
         "type": "string"
        },
        {
         "name": "matched_room",
         "rawType": "object",
         "type": "string"
        },
        {
         "name": "hotel_id",
         "rawType": "int64",
         "type": "integer"
        },
        {
         "name": "lp_id",
         "rawType": "object",
         "type": "string"
        },
        {
         "name": "room_id",
         "rawType": "int64",
         "type": "integer"
        },
        {
         "name": "room_name",
         "rawType": "object",
         "type": "string"
        },
        {
         "name": "processed_room_name",
         "rawType": "object",
         "type": "string"
        }
       ],
       "conversionMethod": "pd.DataFrame",
       "ref": "4c69b15c-2145-4fd5-a017-838371fd6dc3",
       "rows": [
        [
         "0",
         "comfort house bedroom ocean view",
         "comfort house bedroom ocean view",
         "comfort house bedroom ocean view",
         "13929222",
         "lp98f3b",
         "1143605967",
         "Comfort House, 6 Bedrooms, Ocean View",
         "comfort house bedroom ocean view"
        ],
        [
         "1",
         "comfort house bedroom ocean view",
         "comfort house bedroom ocean view",
         "comfort house bedroom ocean view",
         "13929222",
         "lp98f3b",
         "1143606069",
         "Comfort House, 6 Bedrooms, Ocean View",
         "comfort house bedroom ocean view"
        ],
        [
         "2",
         "comfort house bedroom ocean view",
         "comfort house bedroom ocean view",
         "comfort house bedroom ocean view",
         "13929222",
         "lp98f3b",
         "1143606107",
         "Comfort House, 6 Bedrooms, Ocean View",
         "comfort house bedroom ocean view"
        ],
        [
         "3",
         "comfort house bedroom ocean view",
         "comfort house bedroom ocean view",
         "comfort house bedroom ocean view",
         "13929222",
         "lp98f3b",
         "1143606131",
         "Comfort House, 6 Bedrooms, Ocean View",
         "comfort house bedroom ocean view"
        ]
       ],
       "shape": {
        "columns": 8,
        "rows": 4
       }
      },
      "text/html": [
       "<div>\n",
       "<style scoped>\n",
       "    .dataframe tbody tr th:only-of-type {\n",
       "        vertical-align: middle;\n",
       "    }\n",
       "\n",
       "    .dataframe tbody tr th {\n",
       "        vertical-align: top;\n",
       "    }\n",
       "\n",
       "    .dataframe thead th {\n",
       "        text-align: right;\n",
       "    }\n",
       "</style>\n",
       "<table border=\"1\" class=\"dataframe\">\n",
       "  <thead>\n",
       "    <tr style=\"text-align: right;\">\n",
       "      <th></th>\n",
       "      <th>processed_room_name_df1</th>\n",
       "      <th>processed_room_name_df2</th>\n",
       "      <th>matched_room</th>\n",
       "      <th>hotel_id</th>\n",
       "      <th>lp_id</th>\n",
       "      <th>room_id</th>\n",
       "      <th>room_name</th>\n",
       "      <th>processed_room_name</th>\n",
       "    </tr>\n",
       "  </thead>\n",
       "  <tbody>\n",
       "    <tr>\n",
       "      <th>0</th>\n",
       "      <td>comfort house bedroom ocean view</td>\n",
       "      <td>comfort house bedroom ocean view</td>\n",
       "      <td>comfort house bedroom ocean view</td>\n",
       "      <td>13929222</td>\n",
       "      <td>lp98f3b</td>\n",
       "      <td>1143605967</td>\n",
       "      <td>Comfort House, 6 Bedrooms, Ocean View</td>\n",
       "      <td>comfort house bedroom ocean view</td>\n",
       "    </tr>\n",
       "    <tr>\n",
       "      <th>1</th>\n",
       "      <td>comfort house bedroom ocean view</td>\n",
       "      <td>comfort house bedroom ocean view</td>\n",
       "      <td>comfort house bedroom ocean view</td>\n",
       "      <td>13929222</td>\n",
       "      <td>lp98f3b</td>\n",
       "      <td>1143606069</td>\n",
       "      <td>Comfort House, 6 Bedrooms, Ocean View</td>\n",
       "      <td>comfort house bedroom ocean view</td>\n",
       "    </tr>\n",
       "    <tr>\n",
       "      <th>2</th>\n",
       "      <td>comfort house bedroom ocean view</td>\n",
       "      <td>comfort house bedroom ocean view</td>\n",
       "      <td>comfort house bedroom ocean view</td>\n",
       "      <td>13929222</td>\n",
       "      <td>lp98f3b</td>\n",
       "      <td>1143606107</td>\n",
       "      <td>Comfort House, 6 Bedrooms, Ocean View</td>\n",
       "      <td>comfort house bedroom ocean view</td>\n",
       "    </tr>\n",
       "    <tr>\n",
       "      <th>3</th>\n",
       "      <td>comfort house bedroom ocean view</td>\n",
       "      <td>comfort house bedroom ocean view</td>\n",
       "      <td>comfort house bedroom ocean view</td>\n",
       "      <td>13929222</td>\n",
       "      <td>lp98f3b</td>\n",
       "      <td>1143606131</td>\n",
       "      <td>Comfort House, 6 Bedrooms, Ocean View</td>\n",
       "      <td>comfort house bedroom ocean view</td>\n",
       "    </tr>\n",
       "  </tbody>\n",
       "</table>\n",
       "</div>"
      ],
      "text/plain": [
       "            processed_room_name_df1           processed_room_name_df2  \\\n",
       "0  comfort house bedroom ocean view  comfort house bedroom ocean view   \n",
       "1  comfort house bedroom ocean view  comfort house bedroom ocean view   \n",
       "2  comfort house bedroom ocean view  comfort house bedroom ocean view   \n",
       "3  comfort house bedroom ocean view  comfort house bedroom ocean view   \n",
       "\n",
       "                       matched_room  hotel_id    lp_id     room_id  \\\n",
       "0  comfort house bedroom ocean view  13929222  lp98f3b  1143605967   \n",
       "1  comfort house bedroom ocean view  13929222  lp98f3b  1143606069   \n",
       "2  comfort house bedroom ocean view  13929222  lp98f3b  1143606107   \n",
       "3  comfort house bedroom ocean view  13929222  lp98f3b  1143606131   \n",
       "\n",
       "                               room_name               processed_room_name  \n",
       "0  Comfort House, 6 Bedrooms, Ocean View  comfort house bedroom ocean view  \n",
       "1  Comfort House, 6 Bedrooms, Ocean View  comfort house bedroom ocean view  \n",
       "2  Comfort House, 6 Bedrooms, Ocean View  comfort house bedroom ocean view  \n",
       "3  Comfort House, 6 Bedrooms, Ocean View  comfort house bedroom ocean view  "
      ]
     },
     "execution_count": 18,
     "metadata": {},
     "output_type": "execute_result"
    }
   ],
   "source": [
    "matched_1, unmatched_1 = merge_rooms_by_hotel('lp98f3b', df_reference, df_expedia)\n",
    "matched_1"
   ]
  },
  {
   "cell_type": "code",
   "execution_count": 19,
   "metadata": {},
   "outputs": [
    {
     "data": {
      "application/vnd.microsoft.datawrangler.viewer.v0+json": {
       "columns": [
        {
         "name": "index",
         "rawType": "int64",
         "type": "integer"
        },
        {
         "name": "core_room_id",
         "rawType": "int64",
         "type": "integer"
        },
        {
         "name": "core_hotel_id",
         "rawType": "int64",
         "type": "integer"
        },
        {
         "name": "lp_id",
         "rawType": "object",
         "type": "string"
        },
        {
         "name": "supplier_room_id",
         "rawType": "int64",
         "type": "integer"
        },
        {
         "name": "supplier_name",
         "rawType": "object",
         "type": "string"
        },
        {
         "name": "supplier_room_name",
         "rawType": "object",
         "type": "string"
        },
        {
         "name": "processed_room_name",
         "rawType": "object",
         "type": "string"
        },
        {
         "name": "matched_room",
         "rawType": "object",
         "type": "string"
        }
       ],
       "conversionMethod": "pd.DataFrame",
       "ref": "79310e26-9a9e-4ae8-84f7-e42f3c6c6ec9",
       "rows": [],
       "shape": {
        "columns": 8,
        "rows": 0
       }
      },
      "text/html": [
       "<div>\n",
       "<style scoped>\n",
       "    .dataframe tbody tr th:only-of-type {\n",
       "        vertical-align: middle;\n",
       "    }\n",
       "\n",
       "    .dataframe tbody tr th {\n",
       "        vertical-align: top;\n",
       "    }\n",
       "\n",
       "    .dataframe thead th {\n",
       "        text-align: right;\n",
       "    }\n",
       "</style>\n",
       "<table border=\"1\" class=\"dataframe\">\n",
       "  <thead>\n",
       "    <tr style=\"text-align: right;\">\n",
       "      <th></th>\n",
       "      <th>core_room_id</th>\n",
       "      <th>core_hotel_id</th>\n",
       "      <th>lp_id</th>\n",
       "      <th>supplier_room_id</th>\n",
       "      <th>supplier_name</th>\n",
       "      <th>supplier_room_name</th>\n",
       "      <th>processed_room_name</th>\n",
       "      <th>matched_room</th>\n",
       "    </tr>\n",
       "  </thead>\n",
       "  <tbody>\n",
       "  </tbody>\n",
       "</table>\n",
       "</div>"
      ],
      "text/plain": [
       "Empty DataFrame\n",
       "Columns: [core_room_id, core_hotel_id, lp_id, supplier_room_id, supplier_name, supplier_room_name, processed_room_name, matched_room]\n",
       "Index: []"
      ]
     },
     "execution_count": 19,
     "metadata": {},
     "output_type": "execute_result"
    }
   ],
   "source": [
    "unmatched_1"
   ]
  },
  {
   "cell_type": "markdown",
   "metadata": {},
   "source": [
    "2. Hotel has only 1 room with almost same definition in both providers."
   ]
  },
  {
   "cell_type": "code",
   "execution_count": 20,
   "metadata": {},
   "outputs": [
    {
     "data": {
      "application/vnd.microsoft.datawrangler.viewer.v0+json": {
       "columns": [
        {
         "name": "index",
         "rawType": "int64",
         "type": "integer"
        },
        {
         "name": "processed_room_name_df1",
         "rawType": "object",
         "type": "string"
        },
        {
         "name": "processed_room_name_df2",
         "rawType": "object",
         "type": "string"
        },
        {
         "name": "matched_room",
         "rawType": "object",
         "type": "string"
        },
        {
         "name": "hotel_id",
         "rawType": "int64",
         "type": "integer"
        },
        {
         "name": "lp_id",
         "rawType": "object",
         "type": "string"
        },
        {
         "name": "room_id",
         "rawType": "int64",
         "type": "integer"
        },
        {
         "name": "room_name",
         "rawType": "object",
         "type": "string"
        },
        {
         "name": "processed_room_name",
         "rawType": "object",
         "type": "string"
        }
       ],
       "conversionMethod": "pd.DataFrame",
       "ref": "d692f4a2-ba73-4af2-aadb-98586fb7f5f2",
       "rows": [
        [
         "0",
         "family house bedroom",
         "family house bedroom",
         "family house bedroom",
         "13940261",
         "lp9936d",
         "1143591319",
         "Family House, 4 Bedrooms",
         "family house bedroom"
        ]
       ],
       "shape": {
        "columns": 8,
        "rows": 1
       }
      },
      "text/html": [
       "<div>\n",
       "<style scoped>\n",
       "    .dataframe tbody tr th:only-of-type {\n",
       "        vertical-align: middle;\n",
       "    }\n",
       "\n",
       "    .dataframe tbody tr th {\n",
       "        vertical-align: top;\n",
       "    }\n",
       "\n",
       "    .dataframe thead th {\n",
       "        text-align: right;\n",
       "    }\n",
       "</style>\n",
       "<table border=\"1\" class=\"dataframe\">\n",
       "  <thead>\n",
       "    <tr style=\"text-align: right;\">\n",
       "      <th></th>\n",
       "      <th>processed_room_name_df1</th>\n",
       "      <th>processed_room_name_df2</th>\n",
       "      <th>matched_room</th>\n",
       "      <th>hotel_id</th>\n",
       "      <th>lp_id</th>\n",
       "      <th>room_id</th>\n",
       "      <th>room_name</th>\n",
       "      <th>processed_room_name</th>\n",
       "    </tr>\n",
       "  </thead>\n",
       "  <tbody>\n",
       "    <tr>\n",
       "      <th>0</th>\n",
       "      <td>family house bedroom</td>\n",
       "      <td>family house bedroom</td>\n",
       "      <td>family house bedroom</td>\n",
       "      <td>13940261</td>\n",
       "      <td>lp9936d</td>\n",
       "      <td>1143591319</td>\n",
       "      <td>Family House, 4 Bedrooms</td>\n",
       "      <td>family house bedroom</td>\n",
       "    </tr>\n",
       "  </tbody>\n",
       "</table>\n",
       "</div>"
      ],
      "text/plain": [
       "  processed_room_name_df1 processed_room_name_df2          matched_room  \\\n",
       "0    family house bedroom    family house bedroom  family house bedroom   \n",
       "\n",
       "   hotel_id    lp_id     room_id                 room_name  \\\n",
       "0  13940261  lp9936d  1143591319  Family House, 4 Bedrooms   \n",
       "\n",
       "    processed_room_name  \n",
       "0  family house bedroom  "
      ]
     },
     "execution_count": 20,
     "metadata": {},
     "output_type": "execute_result"
    }
   ],
   "source": [
    "matched_2, unmatched_2 = merge_rooms_by_hotel('lp9936d', df_reference, df_expedia)\n",
    "matched_2"
   ]
  },
  {
   "cell_type": "code",
   "execution_count": 21,
   "metadata": {},
   "outputs": [
    {
     "data": {
      "application/vnd.microsoft.datawrangler.viewer.v0+json": {
       "columns": [
        {
         "name": "index",
         "rawType": "int64",
         "type": "integer"
        },
        {
         "name": "core_room_id",
         "rawType": "int64",
         "type": "integer"
        },
        {
         "name": "core_hotel_id",
         "rawType": "int64",
         "type": "integer"
        },
        {
         "name": "lp_id",
         "rawType": "object",
         "type": "string"
        },
        {
         "name": "supplier_room_id",
         "rawType": "int64",
         "type": "integer"
        },
        {
         "name": "supplier_name",
         "rawType": "object",
         "type": "string"
        },
        {
         "name": "supplier_room_name",
         "rawType": "object",
         "type": "string"
        },
        {
         "name": "processed_room_name",
         "rawType": "object",
         "type": "string"
        },
        {
         "name": "matched_room",
         "rawType": "object",
         "type": "string"
        }
       ],
       "conversionMethod": "pd.DataFrame",
       "ref": "bebe0759-7c79-4278-a2ea-dc8a7edd0990",
       "rows": [],
       "shape": {
        "columns": 8,
        "rows": 0
       }
      },
      "text/html": [
       "<div>\n",
       "<style scoped>\n",
       "    .dataframe tbody tr th:only-of-type {\n",
       "        vertical-align: middle;\n",
       "    }\n",
       "\n",
       "    .dataframe tbody tr th {\n",
       "        vertical-align: top;\n",
       "    }\n",
       "\n",
       "    .dataframe thead th {\n",
       "        text-align: right;\n",
       "    }\n",
       "</style>\n",
       "<table border=\"1\" class=\"dataframe\">\n",
       "  <thead>\n",
       "    <tr style=\"text-align: right;\">\n",
       "      <th></th>\n",
       "      <th>core_room_id</th>\n",
       "      <th>core_hotel_id</th>\n",
       "      <th>lp_id</th>\n",
       "      <th>supplier_room_id</th>\n",
       "      <th>supplier_name</th>\n",
       "      <th>supplier_room_name</th>\n",
       "      <th>processed_room_name</th>\n",
       "      <th>matched_room</th>\n",
       "    </tr>\n",
       "  </thead>\n",
       "  <tbody>\n",
       "  </tbody>\n",
       "</table>\n",
       "</div>"
      ],
      "text/plain": [
       "Empty DataFrame\n",
       "Columns: [core_room_id, core_hotel_id, lp_id, supplier_room_id, supplier_name, supplier_room_name, processed_room_name, matched_room]\n",
       "Index: []"
      ]
     },
     "execution_count": 21,
     "metadata": {},
     "output_type": "execute_result"
    }
   ],
   "source": [
    "unmatched_2"
   ]
  },
  {
   "cell_type": "markdown",
   "metadata": {},
   "source": [
    "3. Hotel has different number of rooms in both providers and descriptions do not align."
   ]
  },
  {
   "cell_type": "code",
   "execution_count": 22,
   "metadata": {},
   "outputs": [
    {
     "data": {
      "application/vnd.microsoft.datawrangler.viewer.v0+json": {
       "columns": [
        {
         "name": "index",
         "rawType": "int64",
         "type": "integer"
        },
        {
         "name": "processed_room_name_df1",
         "rawType": "object",
         "type": "string"
        },
        {
         "name": "processed_room_name_df2",
         "rawType": "object",
         "type": "string"
        },
        {
         "name": "matched_room",
         "rawType": "object",
         "type": "string"
        },
        {
         "name": "hotel_id",
         "rawType": "int64",
         "type": "integer"
        },
        {
         "name": "lp_id",
         "rawType": "object",
         "type": "string"
        },
        {
         "name": "room_id",
         "rawType": "int64",
         "type": "integer"
        },
        {
         "name": "room_name",
         "rawType": "object",
         "type": "string"
        },
        {
         "name": "processed_room_name",
         "rawType": "object",
         "type": "string"
        }
       ],
       "conversionMethod": "pd.DataFrame",
       "ref": "5df6286b-8b45-4334-8d13-615c1cef39d3",
       "rows": [],
       "shape": {
        "columns": 8,
        "rows": 0
       }
      },
      "text/html": [
       "<div>\n",
       "<style scoped>\n",
       "    .dataframe tbody tr th:only-of-type {\n",
       "        vertical-align: middle;\n",
       "    }\n",
       "\n",
       "    .dataframe tbody tr th {\n",
       "        vertical-align: top;\n",
       "    }\n",
       "\n",
       "    .dataframe thead th {\n",
       "        text-align: right;\n",
       "    }\n",
       "</style>\n",
       "<table border=\"1\" class=\"dataframe\">\n",
       "  <thead>\n",
       "    <tr style=\"text-align: right;\">\n",
       "      <th></th>\n",
       "      <th>processed_room_name_df1</th>\n",
       "      <th>processed_room_name_df2</th>\n",
       "      <th>matched_room</th>\n",
       "      <th>hotel_id</th>\n",
       "      <th>lp_id</th>\n",
       "      <th>room_id</th>\n",
       "      <th>room_name</th>\n",
       "      <th>processed_room_name</th>\n",
       "    </tr>\n",
       "  </thead>\n",
       "  <tbody>\n",
       "  </tbody>\n",
       "</table>\n",
       "</div>"
      ],
      "text/plain": [
       "Empty DataFrame\n",
       "Columns: [processed_room_name_df1, processed_room_name_df2, matched_room, hotel_id, lp_id, room_id, room_name, processed_room_name]\n",
       "Index: []"
      ]
     },
     "execution_count": 22,
     "metadata": {},
     "output_type": "execute_result"
    }
   ],
   "source": [
    "matched_3, unmatched_3 = merge_rooms_by_hotel('lp9ad2d', df_reference, df_expedia)\n",
    "matched_3"
   ]
  },
  {
   "cell_type": "code",
   "execution_count": 23,
   "metadata": {},
   "outputs": [
    {
     "data": {
      "application/vnd.microsoft.datawrangler.viewer.v0+json": {
       "columns": [
        {
         "name": "index",
         "rawType": "int64",
         "type": "integer"
        },
        {
         "name": "core_room_id",
         "rawType": "int64",
         "type": "integer"
        },
        {
         "name": "core_hotel_id",
         "rawType": "int64",
         "type": "integer"
        },
        {
         "name": "lp_id",
         "rawType": "object",
         "type": "string"
        },
        {
         "name": "supplier_room_id",
         "rawType": "int64",
         "type": "integer"
        },
        {
         "name": "supplier_name",
         "rawType": "object",
         "type": "string"
        },
        {
         "name": "supplier_room_name",
         "rawType": "object",
         "type": "string"
        },
        {
         "name": "processed_room_name",
         "rawType": "object",
         "type": "string"
        },
        {
         "name": "matched_room",
         "rawType": "object",
         "type": "string"
        }
       ],
       "conversionMethod": "pd.DataFrame",
       "ref": "3c350856-c4f5-4d9a-afc2-b6e7ca416dce",
       "rows": [
        [
         "1166505",
         "1169018",
         "634157",
         "lp9ad2d",
         "201717108",
         "Expedia",
         "Studio, 1 King Bed with Sofa bed",
         "studio king bed sofa bed",
         "studio king bed sofa bed"
        ],
        [
         "1173516",
         "1176029",
         "634157",
         "lp9ad2d",
         "201717110",
         "Expedia",
         "Suite, 1 Bedroom",
         "suite bedroom",
         "suite bedroom"
        ],
        [
         "1178108",
         "1180621",
         "634157",
         "lp9ad2d",
         "201717109",
         "Expedia",
         "Suite, 1 Bedroom",
         "suite bedroom",
         "suite bedroom"
        ],
        [
         "2440265",
         "2483653",
         "634157",
         "lp9ad2d",
         "322386459",
         "Expedia",
         "Suite, 1 Bedroom (Mobility Accessible, Roll-In Shower)",
         "suite bedroom mobility accessible rollin shower",
         "suite bedroom mobility accessible rollin shower"
        ],
        [
         "2440926",
         "2484314",
         "634157",
         "lp9ad2d",
         "322386458",
         "Expedia",
         "Suite, 1 Bedroom (Hearing Accessible)",
         "suite bedroom hearing accessible",
         "suite bedroom hearing accessible"
        ],
        [
         "2442411",
         "2485799",
         "634157",
         "lp9ad2d",
         "322386463",
         "Expedia",
         "Studio, 1 King Bed with Sofa bed (Mobility Accessible, Tub)",
         "studio king bed sofa bed mobility accessible tub",
         "studio king bed sofa bed mobility accessible tub"
        ],
        [
         "2442416",
         "2485804",
         "634157",
         "lp9ad2d",
         "322386460",
         "Expedia",
         "Studio, 1 King Bed with Sofa bed (Mobility/Hearing Accessible, Tub)",
         "studio king bed sofa bed mobilityhearing accessible tub",
         "studio king bed sofa bed mobilityhearing accessible tub"
        ],
        [
         "2442427",
         "2485815",
         "634157",
         "lp9ad2d",
         "322386456",
         "Expedia",
         "Suite, 1 Bedroom (Mobility Accessible, Roll-In Shower)",
         "suite bedroom mobility accessible rollin shower",
         "suite bedroom mobility accessible rollin shower"
        ],
        [
         "2442447",
         "2485835",
         "634157",
         "lp9ad2d",
         "322386465",
         "Expedia",
         "Studio, 1 King Bed with Sofa bed (Hearing Accessible)",
         "studio king bed sofa bed hearing accessible",
         "studio king bed sofa bed hearing accessible"
        ]
       ],
       "shape": {
        "columns": 8,
        "rows": 9
       }
      },
      "text/html": [
       "<div>\n",
       "<style scoped>\n",
       "    .dataframe tbody tr th:only-of-type {\n",
       "        vertical-align: middle;\n",
       "    }\n",
       "\n",
       "    .dataframe tbody tr th {\n",
       "        vertical-align: top;\n",
       "    }\n",
       "\n",
       "    .dataframe thead th {\n",
       "        text-align: right;\n",
       "    }\n",
       "</style>\n",
       "<table border=\"1\" class=\"dataframe\">\n",
       "  <thead>\n",
       "    <tr style=\"text-align: right;\">\n",
       "      <th></th>\n",
       "      <th>core_room_id</th>\n",
       "      <th>core_hotel_id</th>\n",
       "      <th>lp_id</th>\n",
       "      <th>supplier_room_id</th>\n",
       "      <th>supplier_name</th>\n",
       "      <th>supplier_room_name</th>\n",
       "      <th>processed_room_name</th>\n",
       "      <th>matched_room</th>\n",
       "    </tr>\n",
       "  </thead>\n",
       "  <tbody>\n",
       "    <tr>\n",
       "      <th>1166505</th>\n",
       "      <td>1169018</td>\n",
       "      <td>634157</td>\n",
       "      <td>lp9ad2d</td>\n",
       "      <td>201717108</td>\n",
       "      <td>Expedia</td>\n",
       "      <td>Studio, 1 King Bed with Sofa bed</td>\n",
       "      <td>studio king bed sofa bed</td>\n",
       "      <td>studio king bed sofa bed</td>\n",
       "    </tr>\n",
       "    <tr>\n",
       "      <th>1173516</th>\n",
       "      <td>1176029</td>\n",
       "      <td>634157</td>\n",
       "      <td>lp9ad2d</td>\n",
       "      <td>201717110</td>\n",
       "      <td>Expedia</td>\n",
       "      <td>Suite, 1 Bedroom</td>\n",
       "      <td>suite bedroom</td>\n",
       "      <td>suite bedroom</td>\n",
       "    </tr>\n",
       "    <tr>\n",
       "      <th>1178108</th>\n",
       "      <td>1180621</td>\n",
       "      <td>634157</td>\n",
       "      <td>lp9ad2d</td>\n",
       "      <td>201717109</td>\n",
       "      <td>Expedia</td>\n",
       "      <td>Suite, 1 Bedroom</td>\n",
       "      <td>suite bedroom</td>\n",
       "      <td>suite bedroom</td>\n",
       "    </tr>\n",
       "    <tr>\n",
       "      <th>2440265</th>\n",
       "      <td>2483653</td>\n",
       "      <td>634157</td>\n",
       "      <td>lp9ad2d</td>\n",
       "      <td>322386459</td>\n",
       "      <td>Expedia</td>\n",
       "      <td>Suite, 1 Bedroom (Mobility Accessible, Roll-In...</td>\n",
       "      <td>suite bedroom mobility accessible rollin shower</td>\n",
       "      <td>suite bedroom mobility accessible rollin shower</td>\n",
       "    </tr>\n",
       "    <tr>\n",
       "      <th>2440926</th>\n",
       "      <td>2484314</td>\n",
       "      <td>634157</td>\n",
       "      <td>lp9ad2d</td>\n",
       "      <td>322386458</td>\n",
       "      <td>Expedia</td>\n",
       "      <td>Suite, 1 Bedroom (Hearing Accessible)</td>\n",
       "      <td>suite bedroom hearing accessible</td>\n",
       "      <td>suite bedroom hearing accessible</td>\n",
       "    </tr>\n",
       "    <tr>\n",
       "      <th>2442411</th>\n",
       "      <td>2485799</td>\n",
       "      <td>634157</td>\n",
       "      <td>lp9ad2d</td>\n",
       "      <td>322386463</td>\n",
       "      <td>Expedia</td>\n",
       "      <td>Studio, 1 King Bed with Sofa bed (Mobility Acc...</td>\n",
       "      <td>studio king bed sofa bed mobility accessible tub</td>\n",
       "      <td>studio king bed sofa bed mobility accessible tub</td>\n",
       "    </tr>\n",
       "    <tr>\n",
       "      <th>2442416</th>\n",
       "      <td>2485804</td>\n",
       "      <td>634157</td>\n",
       "      <td>lp9ad2d</td>\n",
       "      <td>322386460</td>\n",
       "      <td>Expedia</td>\n",
       "      <td>Studio, 1 King Bed with Sofa bed (Mobility/Hea...</td>\n",
       "      <td>studio king bed sofa bed mobilityhearing acces...</td>\n",
       "      <td>studio king bed sofa bed mobilityhearing acces...</td>\n",
       "    </tr>\n",
       "    <tr>\n",
       "      <th>2442427</th>\n",
       "      <td>2485815</td>\n",
       "      <td>634157</td>\n",
       "      <td>lp9ad2d</td>\n",
       "      <td>322386456</td>\n",
       "      <td>Expedia</td>\n",
       "      <td>Suite, 1 Bedroom (Mobility Accessible, Roll-In...</td>\n",
       "      <td>suite bedroom mobility accessible rollin shower</td>\n",
       "      <td>suite bedroom mobility accessible rollin shower</td>\n",
       "    </tr>\n",
       "    <tr>\n",
       "      <th>2442447</th>\n",
       "      <td>2485835</td>\n",
       "      <td>634157</td>\n",
       "      <td>lp9ad2d</td>\n",
       "      <td>322386465</td>\n",
       "      <td>Expedia</td>\n",
       "      <td>Studio, 1 King Bed with Sofa bed (Hearing Acce...</td>\n",
       "      <td>studio king bed sofa bed hearing accessible</td>\n",
       "      <td>studio king bed sofa bed hearing accessible</td>\n",
       "    </tr>\n",
       "  </tbody>\n",
       "</table>\n",
       "</div>"
      ],
      "text/plain": [
       "         core_room_id  core_hotel_id    lp_id  supplier_room_id supplier_name  \\\n",
       "1166505       1169018         634157  lp9ad2d         201717108       Expedia   \n",
       "1173516       1176029         634157  lp9ad2d         201717110       Expedia   \n",
       "1178108       1180621         634157  lp9ad2d         201717109       Expedia   \n",
       "2440265       2483653         634157  lp9ad2d         322386459       Expedia   \n",
       "2440926       2484314         634157  lp9ad2d         322386458       Expedia   \n",
       "2442411       2485799         634157  lp9ad2d         322386463       Expedia   \n",
       "2442416       2485804         634157  lp9ad2d         322386460       Expedia   \n",
       "2442427       2485815         634157  lp9ad2d         322386456       Expedia   \n",
       "2442447       2485835         634157  lp9ad2d         322386465       Expedia   \n",
       "\n",
       "                                        supplier_room_name  \\\n",
       "1166505                   Studio, 1 King Bed with Sofa bed   \n",
       "1173516                                   Suite, 1 Bedroom   \n",
       "1178108                                   Suite, 1 Bedroom   \n",
       "2440265  Suite, 1 Bedroom (Mobility Accessible, Roll-In...   \n",
       "2440926              Suite, 1 Bedroom (Hearing Accessible)   \n",
       "2442411  Studio, 1 King Bed with Sofa bed (Mobility Acc...   \n",
       "2442416  Studio, 1 King Bed with Sofa bed (Mobility/Hea...   \n",
       "2442427  Suite, 1 Bedroom (Mobility Accessible, Roll-In...   \n",
       "2442447  Studio, 1 King Bed with Sofa bed (Hearing Acce...   \n",
       "\n",
       "                                       processed_room_name  \\\n",
       "1166505                           studio king bed sofa bed   \n",
       "1173516                                      suite bedroom   \n",
       "1178108                                      suite bedroom   \n",
       "2440265    suite bedroom mobility accessible rollin shower   \n",
       "2440926                   suite bedroom hearing accessible   \n",
       "2442411   studio king bed sofa bed mobility accessible tub   \n",
       "2442416  studio king bed sofa bed mobilityhearing acces...   \n",
       "2442427    suite bedroom mobility accessible rollin shower   \n",
       "2442447        studio king bed sofa bed hearing accessible   \n",
       "\n",
       "                                              matched_room  \n",
       "1166505                           studio king bed sofa bed  \n",
       "1173516                                      suite bedroom  \n",
       "1178108                                      suite bedroom  \n",
       "2440265    suite bedroom mobility accessible rollin shower  \n",
       "2440926                   suite bedroom hearing accessible  \n",
       "2442411   studio king bed sofa bed mobility accessible tub  \n",
       "2442416  studio king bed sofa bed mobilityhearing acces...  \n",
       "2442427    suite bedroom mobility accessible rollin shower  \n",
       "2442447        studio king bed sofa bed hearing accessible  "
      ]
     },
     "execution_count": 23,
     "metadata": {},
     "output_type": "execute_result"
    }
   ],
   "source": [
    "unmatched_3"
   ]
  },
  {
   "cell_type": "markdown",
   "metadata": {},
   "source": [
    "4. Hotel has different number of rooms in both providers and descriptions do not align."
   ]
  },
  {
   "cell_type": "code",
   "execution_count": 24,
   "metadata": {},
   "outputs": [
    {
     "data": {
      "application/vnd.microsoft.datawrangler.viewer.v0+json": {
       "columns": [
        {
         "name": "index",
         "rawType": "int64",
         "type": "integer"
        },
        {
         "name": "processed_room_name_df1",
         "rawType": "object",
         "type": "string"
        },
        {
         "name": "processed_room_name_df2",
         "rawType": "object",
         "type": "string"
        },
        {
         "name": "matched_room",
         "rawType": "object",
         "type": "string"
        },
        {
         "name": "hotel_id",
         "rawType": "int64",
         "type": "integer"
        },
        {
         "name": "lp_id",
         "rawType": "object",
         "type": "string"
        },
        {
         "name": "room_id",
         "rawType": "int64",
         "type": "integer"
        },
        {
         "name": "room_name",
         "rawType": "object",
         "type": "string"
        },
        {
         "name": "processed_room_name",
         "rawType": "object",
         "type": "string"
        }
       ],
       "conversionMethod": "pd.DataFrame",
       "ref": "20623dac-3d4a-4248-9dfc-8ee0f6ed5eb4",
       "rows": [],
       "shape": {
        "columns": 8,
        "rows": 0
       }
      },
      "text/html": [
       "<div>\n",
       "<style scoped>\n",
       "    .dataframe tbody tr th:only-of-type {\n",
       "        vertical-align: middle;\n",
       "    }\n",
       "\n",
       "    .dataframe tbody tr th {\n",
       "        vertical-align: top;\n",
       "    }\n",
       "\n",
       "    .dataframe thead th {\n",
       "        text-align: right;\n",
       "    }\n",
       "</style>\n",
       "<table border=\"1\" class=\"dataframe\">\n",
       "  <thead>\n",
       "    <tr style=\"text-align: right;\">\n",
       "      <th></th>\n",
       "      <th>processed_room_name_df1</th>\n",
       "      <th>processed_room_name_df2</th>\n",
       "      <th>matched_room</th>\n",
       "      <th>hotel_id</th>\n",
       "      <th>lp_id</th>\n",
       "      <th>room_id</th>\n",
       "      <th>room_name</th>\n",
       "      <th>processed_room_name</th>\n",
       "    </tr>\n",
       "  </thead>\n",
       "  <tbody>\n",
       "  </tbody>\n",
       "</table>\n",
       "</div>"
      ],
      "text/plain": [
       "Empty DataFrame\n",
       "Columns: [processed_room_name_df1, processed_room_name_df2, matched_room, hotel_id, lp_id, room_id, room_name, processed_room_name]\n",
       "Index: []"
      ]
     },
     "execution_count": 24,
     "metadata": {},
     "output_type": "execute_result"
    }
   ],
   "source": [
    "matched_4, unmatched_4 = merge_rooms_by_hotel('lp9bfad', df_reference, df_expedia)\n",
    "matched_4"
   ]
  },
  {
   "cell_type": "code",
   "execution_count": 25,
   "metadata": {},
   "outputs": [
    {
     "data": {
      "application/vnd.microsoft.datawrangler.viewer.v0+json": {
       "columns": [
        {
         "name": "index",
         "rawType": "int64",
         "type": "integer"
        },
        {
         "name": "core_room_id",
         "rawType": "int64",
         "type": "integer"
        },
        {
         "name": "core_hotel_id",
         "rawType": "int64",
         "type": "integer"
        },
        {
         "name": "lp_id",
         "rawType": "object",
         "type": "string"
        },
        {
         "name": "supplier_room_id",
         "rawType": "int64",
         "type": "integer"
        },
        {
         "name": "supplier_name",
         "rawType": "object",
         "type": "string"
        },
        {
         "name": "supplier_room_name",
         "rawType": "object",
         "type": "string"
        },
        {
         "name": "processed_room_name",
         "rawType": "object",
         "type": "string"
        },
        {
         "name": "matched_room",
         "rawType": "object",
         "type": "string"
        }
       ],
       "conversionMethod": "pd.DataFrame",
       "ref": "437b389e-db03-4a6c-b13b-ace11f33b9b0",
       "rows": [
        [
         "249498",
         "252011",
         "638893",
         "lp9bfad",
         "201720281",
         "Expedia",
         "Standard Room, 1 Queen Bed, Garden View",
         "standard room queen bed garden view",
         "standard room queen bed garden view"
        ],
        [
         "256820",
         "259333",
         "638893",
         "lp9bfad",
         "201720261",
         "Expedia",
         "Economy Room, 1 Double Bed",
         "economy room double bed",
         "economy room double bed"
        ],
        [
         "262292",
         "264805",
         "638893",
         "lp9bfad",
         "201720294",
         "Expedia",
         "Family Suite, 1 Bedroom, Connecting Rooms, City View",
         "family suite bedroom connecting room city view",
         "family suite bedroom connecting room city view"
        ],
        [
         "267591",
         "270104",
         "638893",
         "lp9bfad",
         "201720284",
         "Expedia",
         "Executive Room, 1 King Bed, Terrace",
         "executive room king bed terrace",
         "executive room king bed terrace"
        ],
        [
         "271171",
         "273684",
         "638893",
         "lp9bfad",
         "201720275",
         "Expedia",
         "Standard Room, 1 Queen Bed, Mountain View (Private detached bathroom)",
         "standard room queen bed mountain view private detached bathroom",
         "standard room queen bed mountain view private detached bathroom"
        ],
        [
         "272972",
         "275485",
         "638893",
         "lp9bfad",
         "201720288",
         "Expedia",
         "Deluxe Suite, 1 King Bed, Terrace",
         "deluxe suite king bed terrace",
         "deluxe suite king bed terrace"
        ],
        [
         "274284",
         "276797",
         "638893",
         "lp9bfad",
         "201720313",
         "Expedia",
         "Apartment, 2 Bedrooms, Kitchenette",
         "apartment bedroom kitchenette",
         "apartment bedroom kitchenette"
        ],
        [
         "275229",
         "277742",
         "638893",
         "lp9bfad",
         "201720315",
         "Expedia",
         "Panoramic Apartment, 2 Bedrooms, Kitchen, Lake View",
         "panoramic apartment bedroom kitchen lake view",
         "panoramic apartment bedroom kitchen lake view"
        ]
       ],
       "shape": {
        "columns": 8,
        "rows": 8
       }
      },
      "text/html": [
       "<div>\n",
       "<style scoped>\n",
       "    .dataframe tbody tr th:only-of-type {\n",
       "        vertical-align: middle;\n",
       "    }\n",
       "\n",
       "    .dataframe tbody tr th {\n",
       "        vertical-align: top;\n",
       "    }\n",
       "\n",
       "    .dataframe thead th {\n",
       "        text-align: right;\n",
       "    }\n",
       "</style>\n",
       "<table border=\"1\" class=\"dataframe\">\n",
       "  <thead>\n",
       "    <tr style=\"text-align: right;\">\n",
       "      <th></th>\n",
       "      <th>core_room_id</th>\n",
       "      <th>core_hotel_id</th>\n",
       "      <th>lp_id</th>\n",
       "      <th>supplier_room_id</th>\n",
       "      <th>supplier_name</th>\n",
       "      <th>supplier_room_name</th>\n",
       "      <th>processed_room_name</th>\n",
       "      <th>matched_room</th>\n",
       "    </tr>\n",
       "  </thead>\n",
       "  <tbody>\n",
       "    <tr>\n",
       "      <th>249498</th>\n",
       "      <td>252011</td>\n",
       "      <td>638893</td>\n",
       "      <td>lp9bfad</td>\n",
       "      <td>201720281</td>\n",
       "      <td>Expedia</td>\n",
       "      <td>Standard Room, 1 Queen Bed, Garden View</td>\n",
       "      <td>standard room queen bed garden view</td>\n",
       "      <td>standard room queen bed garden view</td>\n",
       "    </tr>\n",
       "    <tr>\n",
       "      <th>256820</th>\n",
       "      <td>259333</td>\n",
       "      <td>638893</td>\n",
       "      <td>lp9bfad</td>\n",
       "      <td>201720261</td>\n",
       "      <td>Expedia</td>\n",
       "      <td>Economy Room, 1 Double Bed</td>\n",
       "      <td>economy room double bed</td>\n",
       "      <td>economy room double bed</td>\n",
       "    </tr>\n",
       "    <tr>\n",
       "      <th>262292</th>\n",
       "      <td>264805</td>\n",
       "      <td>638893</td>\n",
       "      <td>lp9bfad</td>\n",
       "      <td>201720294</td>\n",
       "      <td>Expedia</td>\n",
       "      <td>Family Suite, 1 Bedroom, Connecting Rooms, Cit...</td>\n",
       "      <td>family suite bedroom connecting room city view</td>\n",
       "      <td>family suite bedroom connecting room city view</td>\n",
       "    </tr>\n",
       "    <tr>\n",
       "      <th>267591</th>\n",
       "      <td>270104</td>\n",
       "      <td>638893</td>\n",
       "      <td>lp9bfad</td>\n",
       "      <td>201720284</td>\n",
       "      <td>Expedia</td>\n",
       "      <td>Executive Room, 1 King Bed, Terrace</td>\n",
       "      <td>executive room king bed terrace</td>\n",
       "      <td>executive room king bed terrace</td>\n",
       "    </tr>\n",
       "    <tr>\n",
       "      <th>271171</th>\n",
       "      <td>273684</td>\n",
       "      <td>638893</td>\n",
       "      <td>lp9bfad</td>\n",
       "      <td>201720275</td>\n",
       "      <td>Expedia</td>\n",
       "      <td>Standard Room, 1 Queen Bed, Mountain View (Pri...</td>\n",
       "      <td>standard room queen bed mountain view private ...</td>\n",
       "      <td>standard room queen bed mountain view private ...</td>\n",
       "    </tr>\n",
       "    <tr>\n",
       "      <th>272972</th>\n",
       "      <td>275485</td>\n",
       "      <td>638893</td>\n",
       "      <td>lp9bfad</td>\n",
       "      <td>201720288</td>\n",
       "      <td>Expedia</td>\n",
       "      <td>Deluxe Suite, 1 King Bed, Terrace</td>\n",
       "      <td>deluxe suite king bed terrace</td>\n",
       "      <td>deluxe suite king bed terrace</td>\n",
       "    </tr>\n",
       "    <tr>\n",
       "      <th>274284</th>\n",
       "      <td>276797</td>\n",
       "      <td>638893</td>\n",
       "      <td>lp9bfad</td>\n",
       "      <td>201720313</td>\n",
       "      <td>Expedia</td>\n",
       "      <td>Apartment, 2 Bedrooms, Kitchenette</td>\n",
       "      <td>apartment bedroom kitchenette</td>\n",
       "      <td>apartment bedroom kitchenette</td>\n",
       "    </tr>\n",
       "    <tr>\n",
       "      <th>275229</th>\n",
       "      <td>277742</td>\n",
       "      <td>638893</td>\n",
       "      <td>lp9bfad</td>\n",
       "      <td>201720315</td>\n",
       "      <td>Expedia</td>\n",
       "      <td>Panoramic Apartment, 2 Bedrooms, Kitchen, Lake...</td>\n",
       "      <td>panoramic apartment bedroom kitchen lake view</td>\n",
       "      <td>panoramic apartment bedroom kitchen lake view</td>\n",
       "    </tr>\n",
       "  </tbody>\n",
       "</table>\n",
       "</div>"
      ],
      "text/plain": [
       "        core_room_id  core_hotel_id    lp_id  supplier_room_id supplier_name  \\\n",
       "249498        252011         638893  lp9bfad         201720281       Expedia   \n",
       "256820        259333         638893  lp9bfad         201720261       Expedia   \n",
       "262292        264805         638893  lp9bfad         201720294       Expedia   \n",
       "267591        270104         638893  lp9bfad         201720284       Expedia   \n",
       "271171        273684         638893  lp9bfad         201720275       Expedia   \n",
       "272972        275485         638893  lp9bfad         201720288       Expedia   \n",
       "274284        276797         638893  lp9bfad         201720313       Expedia   \n",
       "275229        277742         638893  lp9bfad         201720315       Expedia   \n",
       "\n",
       "                                       supplier_room_name  \\\n",
       "249498            Standard Room, 1 Queen Bed, Garden View   \n",
       "256820                         Economy Room, 1 Double Bed   \n",
       "262292  Family Suite, 1 Bedroom, Connecting Rooms, Cit...   \n",
       "267591                Executive Room, 1 King Bed, Terrace   \n",
       "271171  Standard Room, 1 Queen Bed, Mountain View (Pri...   \n",
       "272972                  Deluxe Suite, 1 King Bed, Terrace   \n",
       "274284                 Apartment, 2 Bedrooms, Kitchenette   \n",
       "275229  Panoramic Apartment, 2 Bedrooms, Kitchen, Lake...   \n",
       "\n",
       "                                      processed_room_name  \\\n",
       "249498                standard room queen bed garden view   \n",
       "256820                            economy room double bed   \n",
       "262292     family suite bedroom connecting room city view   \n",
       "267591                    executive room king bed terrace   \n",
       "271171  standard room queen bed mountain view private ...   \n",
       "272972                      deluxe suite king bed terrace   \n",
       "274284                      apartment bedroom kitchenette   \n",
       "275229      panoramic apartment bedroom kitchen lake view   \n",
       "\n",
       "                                             matched_room  \n",
       "249498                standard room queen bed garden view  \n",
       "256820                            economy room double bed  \n",
       "262292     family suite bedroom connecting room city view  \n",
       "267591                    executive room king bed terrace  \n",
       "271171  standard room queen bed mountain view private ...  \n",
       "272972                      deluxe suite king bed terrace  \n",
       "274284                      apartment bedroom kitchenette  \n",
       "275229      panoramic apartment bedroom kitchen lake view  "
      ]
     },
     "execution_count": 25,
     "metadata": {},
     "output_type": "execute_result"
    }
   ],
   "source": [
    "unmatched_4"
   ]
  },
  {
   "cell_type": "markdown",
   "metadata": {},
   "source": [
    "As we can see the similariry function for merging rooms that belong to the same hotel works properly."
   ]
  },
  {
   "cell_type": "markdown",
   "metadata": {},
   "source": [
    "##### Save reference dataframe with room names processed"
   ]
  },
  {
   "cell_type": "code",
   "execution_count": 26,
   "metadata": {},
   "outputs": [],
   "source": [
    "df_reference.to_csv(\"data/processed/reference_rooms.csv\")"
   ]
  },
  {
   "cell_type": "code",
   "execution_count": null,
   "metadata": {},
   "outputs": [],
   "source": []
  }
 ],
 "metadata": {
  "kernelspec": {
   "display_name": "cupid",
   "language": "python",
   "name": "python3"
  },
  "language_info": {
   "codemirror_mode": {
    "name": "ipython",
    "version": 3
   },
   "file_extension": ".py",
   "mimetype": "text/x-python",
   "name": "python",
   "nbconvert_exporter": "python",
   "pygments_lexer": "ipython3",
   "version": "3.11.11"
  }
 },
 "nbformat": 4,
 "nbformat_minor": 2
}
